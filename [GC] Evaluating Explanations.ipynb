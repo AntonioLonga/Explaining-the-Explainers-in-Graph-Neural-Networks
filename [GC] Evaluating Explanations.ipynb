{
 "cells": [
  {
   "cell_type": "code",
   "execution_count": 52,
   "id": "684b54d2",
   "metadata": {},
   "outputs": [
    {
     "name": "stderr",
     "output_type": "stream",
     "text": [
      "/tmp/ipykernel_13438/2313208493.py:6: DeprecationWarning: Importing display from IPython.core.display is deprecated since IPython 7.14, please import from IPython display\n",
      "  from IPython.core.display import display, HTML\n"
     ]
    },
    {
     "data": {
      "text/html": [
       "<style>#notebook { padding-top:0px !important; } .container { width:100% !important;ù } .end_space { min-heig§ht:0px !important; } </style>"
      ],
      "text/plain": [
       "<IPython.core.display.HTML object>"
      ]
     },
     "metadata": {},
     "output_type": "display_data"
    },
    {
     "name": "stdout",
     "output_type": "stream",
     "text": [
      "The autoreload extension is already loaded. To reload it, use:\n",
      "  %reload_ext autoreload\n"
     ]
    }
   ],
   "source": [
    "import numpy as np\n",
    "import networkx as nx\n",
    "import matplotlib.pyplot as plt\n",
    "import os\n",
    "\n",
    "from IPython.core.display import display, HTML\n",
    "display(HTML(\n",
    "    '<style>'\n",
    "        '#notebook { padding-top:0px !important; } ' \n",
    "        '.container { width:100% !important;ù } '\n",
    "        '.end_space { min-heig§ht:0px !important; } '\n",
    "    '</style>'\n",
    "))\n",
    "%load_ext autoreload\n",
    "%autoreload 2"
   ]
  },
  {
   "cell_type": "markdown",
   "id": "6ea9808c",
   "metadata": {},
   "source": [
    "to simplify the analisys we are producing a section for each dataset! then for each of them we compute\n",
    "1. Filter\n",
    "2. Plausibility\n",
    "3. F1-fidelity\n"
   ]
  },
  {
   "cell_type": "markdown",
   "id": "7575010a",
   "metadata": {},
   "source": [
    "# GRID"
   ]
  },
  {
   "cell_type": "code",
   "execution_count": 53,
   "id": "cc666449",
   "metadata": {},
   "outputs": [],
   "source": [
    "from metrics.load_expl import load_graphs"
   ]
  },
  {
   "cell_type": "markdown",
   "id": "ca49afe1",
   "metadata": {},
   "source": [
    "the function load_graphs takes in input:\n",
    "1. Dataset name\n",
    "2. Architecture name\n",
    "3. Mode can be train or test\n",
    "4. verbose = True or False\n",
    "5. lamb it is a float\n",
    "6. normalize = True or False\n",
    "\n",
    "The output is a dictionary like:\n",
    "\n",
    "```\n",
    "graphs = {0: \n",
    "              {gid: nx.graph, gid:nx.graphs ...},\n",
    "          1: \n",
    "              {gid: nx.graph, gid:nx.graphs ...}\n",
    "          }\n",
    "            \n",
    "```\n",
    "The first key of the dictionary is the class (if binary it could be 0 or 1). The inner dictionary has as key the id of the graph,\n",
    "while the value is the explanation loaded with a networkx graph\n",
    "\n",
    "The lamb parameter is used to filter the explanation (as described in the paper).   \n",
    "If verbose = True, we can see the percentuage of graph that pass the filter for each class\n",
    "if normalize = True, then we nomalize the weigths from 0 to 1, and if the original explanatio is an edge mask, then we convert it into a node importance,\n",
    "simply averaging the neighbours edge weights. "
   ]
  },
  {
   "cell_type": "code",
   "execution_count": 55,
   "id": "53bb30dc",
   "metadata": {},
   "outputs": [
    {
     "name": "stdout",
     "output_type": "stream",
     "text": [
      "1.000 , 1.000\n"
     ]
    }
   ],
   "source": [
    "dataset = \"BA_2grid\"\n",
    "model_architecture = \"Set2Set\"\n",
    "expl = \"rgexpl\"\n",
    "MODE = \"train\"\n",
    "\n",
    "graphs = load_graphs(DATASET=dataset,\n",
    "                 MODEL=model_architecture,\n",
    "                 EXPL=expl,\n",
    "                 MODE=MODE,\n",
    "                 verbose=True,\n",
    "                 lamb=0.001,\n",
    "                 normalize=True)"
   ]
  },
  {
   "cell_type": "markdown",
   "id": "05bcee6f",
   "metadata": {},
   "source": [
    "in this example, after we apply the filter the percentuage of graph that pass the filter in calss 0 is equal to 0.896."
   ]
  },
  {
   "cell_type": "code",
   "execution_count": 56,
   "id": "86a8f065",
   "metadata": {},
   "outputs": [
    {
     "name": "stdout",
     "output_type": "stream",
     "text": [
      "{0: 0.5263157904148101, 1: 0.3421052619814873, 2: 0.10526315867900848, 3: 0.8421052545309067, 4: 0.42105263471603394, 5: 0.8421052694320679, 6: 0.4736842215061188, 7: 0.5263158082962036, 8: 0.8947368264198303, 9: 0.9736842215061188, 10: 0.2631578892469406, 11: 0.31578947106997174, 12: 0.21052631735801697, 13: 0.21052631735801697, 14: 0.49473685026168823, 15: 0.15789473056793213, 16: 0.4736842066049576, 17: 0.7368421157201132, 18: 0.42105263471603394}\n",
      "{0: 0.5263157904148101, 1: 0.3421052619814873, 2: 0.10526315867900848, 3: 0.8421052545309067, 4: 0.42105263471603394, 5: 0.8421052694320679, 6: 0.4736842215061188, 7: 0.5263158082962036, 8: 0.8947368264198303, 9: 0.9736842215061188, 10: 0.2631578892469406, 11: 0.31578947106997174, 12: 0.21052631735801697, 13: 0.21052631735801697, 14: 0.49473685026168823, 15: 0.15789473056793213, 16: 0.4736842066049576, 17: 0.7368421157201132, 18: 0.42105263471603394}\n"
     ]
    }
   ],
   "source": [
    "g = graphs[1][42]\n",
    "\n",
    "print(nx.get_node_attributes(g,\"node_imp\")) # original node importances\n",
    "print(nx.get_node_attributes(g,\"node_imp_norm\")) # normalized node importances"
   ]
  },
  {
   "cell_type": "code",
   "execution_count": 57,
   "id": "83c38046",
   "metadata": {},
   "outputs": [
    {
     "name": "stdout",
     "output_type": "stream",
     "text": [
      "node impo     :  {0: 0.5263157904148101, 1: 0.3421052619814873, 2: 0.10526315867900848, 3: 0.8421052545309067, 4: 0.42105263471603394, 5: 0.8421052694320679, 6: 0.4736842215061188, 7: 0.5263158082962036, 8: 0.8947368264198303, 9: 0.9736842215061188, 10: 0.2631578892469406, 11: 0.31578947106997174, 12: 0.21052631735801697, 13: 0.21052631735801697, 14: 0.49473685026168823, 15: 0.15789473056793213, 16: 0.4736842066049576, 17: 0.7368421157201132, 18: 0.42105263471603394}\n",
      "node impo norm:  {0: 0.5263157904148101, 1: 0.3421052619814873, 2: 0.10526315867900848, 3: 0.8421052545309067, 4: 0.42105263471603394, 5: 0.8421052694320679, 6: 0.4736842215061188, 7: 0.5263158082962036, 8: 0.8947368264198303, 9: 0.9736842215061188, 10: 0.2631578892469406, 11: 0.31578947106997174, 12: 0.21052631735801697, 13: 0.21052631735801697, 14: 0.49473685026168823, 15: 0.15789473056793213, 16: 0.4736842066049576, 17: 0.7368421157201132, 18: 0.42105263471603394}\n",
      "edge impo     :  {(0, 1): 0.5789473652839661, (0, 3): 0.6315789222717285, (0, 4): 0.42105263471603394, (0, 6): 0.4736842215061188, (0, 7): 0.5263158082962036, (1, 2): 0.10526315867900848, (3, 5): 0.8421052694320679, (3, 8): 0.8947368264198303, (3, 9): 1.0, (9, 14): 0.9473684430122375, (10, 11): 0.31578946113586426, (10, 13): 0.21052631735801697, (11, 12): 0.2631579041481018, (11, 14): 0.3684210479259491, (12, 15): 0.15789473056793213, (13, 14): 0.21052631735801697, (13, 16): 0.21052631735801697, (14, 15): 0.15789473056793213, (14, 17): 0.7894737124443054, (15, 18): 0.15789473056793213, (16, 17): 0.7368420958518982, (17, 18): 0.6842105388641357}\n"
     ]
    }
   ],
   "source": [
    "# if we load explanations from an explaier with edge mask ... \n",
    "\n",
    "dataset = \"BA_2grid\"\n",
    "model_architecture = \"Set2Set\"\n",
    "expl = \"rgexpl\"\n",
    "MODE = \"train\"\n",
    "\n",
    "graphs = load_graphs(DATASET=dataset,\n",
    "                 MODEL=model_architecture,\n",
    "                 EXPL=expl,\n",
    "                 MODE=MODE,\n",
    "                 verbose=False,\n",
    "                 lamb=0.001,\n",
    "                 normalize=True)\n",
    "\n",
    "g = graphs[1][42]\n",
    "\n",
    "print(\"node impo     : \",nx.get_node_attributes(g,\"node_imp\")) \n",
    "print(\"node impo norm: \",nx.get_node_attributes(g,\"node_imp_norm\")) # normalized node importances\n",
    "print(\"edge impo     : \",nx.get_edge_attributes(g,\"edge_imp\")) # original edge importances"
   ]
  },
  {
   "cell_type": "markdown",
   "id": "2f0604b1",
   "metadata": {},
   "source": [
    "### plausibility on GRID"
   ]
  },
  {
   "cell_type": "code",
   "execution_count": 58,
   "id": "7595fd25",
   "metadata": {},
   "outputs": [],
   "source": [
    "from metrics.plausibility import get_plausibility"
   ]
  },
  {
   "cell_type": "code",
   "execution_count": 59,
   "id": "d3990637",
   "metadata": {},
   "outputs": [
    {
     "name": "stdout",
     "output_type": "stream",
     "text": [
      "0.055238195150012125\n"
     ]
    }
   ],
   "source": [
    "if not graphs[1] == None:\n",
    "    plau = get_plausibility(graphs,GT_len=9) \n",
    "print(plau)"
   ]
  },
  {
   "cell_type": "markdown",
   "id": "f0e92254",
   "metadata": {},
   "source": [
    "### fidelity on GRID"
   ]
  },
  {
   "cell_type": "code",
   "execution_count": 60,
   "id": "7568c8d6",
   "metadata": {},
   "outputs": [],
   "source": [
    "from metrics.F1_fidelity import build_expl,compute_fidelity\n",
    "from Datasets.synthetics import BA_2grid as dataset_fun\n",
    "\n",
    "\n",
    "DATASET = \"BA_2grid\"\n",
    "MODE = \"train\"\n",
    "MODEL = \"Set2Set\" \n",
    "expl = \"rgexpl\"\n",
    "\n",
    "# pay attention to load the correct model\n",
    "from models.models_BA_2grid import Set2set_framework as framework"
   ]
  },
  {
   "cell_type": "code",
   "execution_count": 107,
   "id": "4046af7d",
   "metadata": {},
   "outputs": [
    {
     "name": "stdout",
     "output_type": "stream",
     "text": [
      "models/BA_2grid_Set2Set\n"
     ]
    },
    {
     "name": "stderr",
     "output_type": "stream",
     "text": [
      "/home/antonio/anaconda3/envs/geometric2/lib/python3.11/site-packages/torch_geometric/data/in_memory_dataset.py:157: UserWarning: It is not recommended to directly access the internal storage format `data` of an 'InMemoryDataset'. If you are absolutely certain what you are doing, access the internal storage via `InMemoryDataset._data` instead to suppress this warning. Alternatively, you can access stacked individual attributes of every graph via `dataset.{attr_name}`.\n",
      "  warnings.warn(msg)\n"
     ]
    },
    {
     "name": "stdout",
     "output_type": "stream",
     "text": [
      "Test Loss: 0.027, Train Acc: 0.968 Test Acc: 0.965\n"
     ]
    }
   ],
   "source": [
    "verbose=False\n",
    "lamb=0.001\n",
    "nomralize=True\n",
    "MODE=\"train\"\n",
    "\n",
    "path = \"models/\"+DATASET+\"_\"+MODEL\n",
    "print(path)\n",
    "dataset = dataset_fun()\n",
    "gcn = framework(dataset,device=\"cpu\")\n",
    "gcn.load_model(path)\n",
    "gcn.evaluate()"
   ]
  },
  {
   "cell_type": "code",
   "execution_count": null,
   "id": "c00203ef",
   "metadata": {},
   "outputs": [],
   "source": []
  },
  {
   "cell_type": "code",
   "execution_count": 108,
   "id": "e8091944",
   "metadata": {},
   "outputs": [
    {
     "data": {
      "text/plain": [
       "tensor([ 701, 1225,   47,  ...,   40,  423,  494])"
      ]
     },
     "execution_count": 108,
     "metadata": {},
     "output_type": "execute_result"
    }
   ],
   "source": [
    "gcn.train_idx"
   ]
  },
  {
   "cell_type": "code",
   "execution_count": 122,
   "id": "367d12cc",
   "metadata": {},
   "outputs": [
    {
     "data": {
      "image/png": "[encoded data removed]",
      "text/plain": [
       "<Figure size 640x480 with 1 Axes>"
      ]
     },
     "metadata": {},
     "output_type": "display_data"
    }
   ],
   "source": [
    "nx.draw_networkx(to_networkx(gcn.train_loader.dataset[4]))"
   ]
  },
  {
   "cell_type": "code",
   "execution_count": 125,
   "id": "b3fa78cc",
   "metadata": {},
   "outputs": [],
   "source": [
    "g = nx.read_gpickle(\"Explanations/GraphClassification/BA_2grid/Set2Set/edge_imp/rgexpl/train/1/1225_1.gpickle\")"
   ]
  },
  {
   "cell_type": "code",
   "execution_count": 126,
   "id": "d2c58f1b",
   "metadata": {},
   "outputs": [
    {
     "data": {
      "image/png": "[encoded data removed]",
      "text/plain": [
       "<Figure size 640x480 with 1 Axes>"
      ]
     },
     "metadata": {},
     "output_type": "display_data"
    }
   ],
   "source": [
    "nx.draw_networkx(g)"
   ]
  },
  {
   "cell_type": "code",
   "execution_count": null,
   "id": "7f4a5105",
   "metadata": {},
   "outputs": [],
   "source": []
  },
  {
   "cell_type": "code",
   "execution_count": null,
   "id": "829d0299",
   "metadata": {},
   "outputs": [],
   "source": []
  },
  {
   "cell_type": "code",
   "execution_count": null,
   "id": "08db332d",
   "metadata": {},
   "outputs": [],
   "source": []
  },
  {
   "cell_type": "code",
   "execution_count": 61,
   "id": "67dac71f",
   "metadata": {},
   "outputs": [],
   "source": [
    "import torch_geometric.transforms as T\n",
    "from torch_geometric.utils import to_networkx\n",
    "from torch_geometric.utils import from_networkx\n",
    "from metrics.load_expl import load_graphs\n",
    "import networkx as nx\n",
    "\n",
    "def build_expl(DATASET,MODEL,dataset_fun,framework,expl,verbose=False,lamb=0.001,nomralize=True,MODE=\"train\"):\n",
    "    \n",
    "    path = \"models/\"+DATASET+\"_\"+MODEL\n",
    "    print(path)\n",
    "    dataset = dataset_fun()\n",
    "    gcn = framework(dataset,device=\"cpu\")\n",
    "    gcn.load_model(path)\n",
    "    gcn.evaluate()\n",
    "\n",
    "             \n",
    "    graphs = load_graphs(DATASET=DATASET,\n",
    "                         MODEL=MODEL,\n",
    "                         EXPL=expl,\n",
    "                         MODE=MODE,\n",
    "                         verbose=verbose,\n",
    "                         lamb=lamb,\n",
    "                         normalize=nomralize)\n",
    "    \n",
    "    if MODE == \"train\":\n",
    "        c = 0\n",
    "        for i in gcn.train_loader.dataset:\n",
    "            y = i.y.item()\n",
    "            g = nx.Graph(to_networkx(i,node_attrs=[\"x\"]))\n",
    "            for n in g.nodes():\n",
    "                if not graphs[y] == None:\n",
    "                    if c in graphs[y]:\n",
    "                        assert len(graphs[y][c].nodes()) == len(g.nodes())\n",
    "                        assert len(graphs[y][c].edges()) == len(g.edges())\n",
    "                        graphs[y][c].nodes()[n][\"x\"] = g.nodes()[n][\"x\"]\n",
    "            c = c + 1\n",
    "    if MODE == \"test\":\n",
    "        c = 0\n",
    "        for i in gcn.test_loader.dataset:\n",
    "            y = i.y.item()\n",
    "            g = nx.Graph(to_networkx(i,node_attrs=[\"x\"]))\n",
    "            for n in g.nodes():\n",
    "                if not graphs[y] == None:\n",
    "                    if c in graphs[y]:\n",
    "                        assert len(graphs[y][c].nodes()) == len(g.nodes())\n",
    "                        assert len(graphs[y][c].edges()) == len(g.edges())\n",
    "                        graphs[y][c].nodes()[n][\"x\"] = g.nodes()[n][\"x\"]\n",
    "            c = c + 1\n",
    "    return gcn,graphs\n"
   ]
  },
  {
   "cell_type": "code",
   "execution_count": null,
   "id": "33226a97",
   "metadata": {},
   "outputs": [],
   "source": []
  },
  {
   "cell_type": "code",
   "execution_count": null,
   "id": "ecca6120",
   "metadata": {},
   "outputs": [],
   "source": []
  },
  {
   "cell_type": "code",
   "execution_count": 101,
   "id": "7d89df1d",
   "metadata": {},
   "outputs": [
    {
     "name": "stdout",
     "output_type": "stream",
     "text": [
      "models/BA_2grid_Set2Set\n"
     ]
    },
    {
     "name": "stderr",
     "output_type": "stream",
     "text": [
      "/home/antonio/anaconda3/envs/geometric2/lib/python3.11/site-packages/torch_geometric/data/in_memory_dataset.py:157: UserWarning: It is not recommended to directly access the internal storage format `data` of an 'InMemoryDataset'. If you are absolutely certain what you are doing, access the internal storage via `InMemoryDataset._data` instead to suppress this warning. Alternatively, you can access stacked individual attributes of every graph via `dataset.{attr_name}`.\n",
      "  warnings.warn(msg)\n"
     ]
    },
    {
     "name": "stdout",
     "output_type": "stream",
     "text": [
      "Test Loss: 0.027, Train Acc: 0.968 Test Acc: 0.965\n"
     ]
    }
   ],
   "source": [
    "verbose=False\n",
    "lamb=0.001\n",
    "nomralize=True\n",
    "MODE=\"train\"\n",
    "\n",
    "path = \"models/\"+DATASET+\"_\"+MODEL\n",
    "print(path)\n",
    "dataset = dataset_fun()\n",
    "gcn = framework(dataset,device=\"cpu\")\n",
    "gcn.load_model(path)\n",
    "gcn.evaluate()\n"
   ]
  },
  {
   "cell_type": "code",
   "execution_count": 105,
   "id": "fd37e207",
   "metadata": {},
   "outputs": [
    {
     "data": {
      "text/plain": [
       "<networkx.classes.digraph.DiGraph at 0x7f437384a890>"
      ]
     },
     "execution_count": 105,
     "metadata": {},
     "output_type": "execute_result"
    }
   ],
   "source": [
    "to_networkx(gcn.dataset[gcn.train_idx][0])"
   ]
  },
  {
   "cell_type": "code",
   "execution_count": null,
   "id": "ccb55fda",
   "metadata": {},
   "outputs": [],
   "source": []
  },
  {
   "cell_type": "code",
   "execution_count": null,
   "id": "9707cf26",
   "metadata": {},
   "outputs": [],
   "source": []
  },
  {
   "cell_type": "code",
   "execution_count": null,
   "id": "9377d7ef",
   "metadata": {},
   "outputs": [],
   "source": []
  },
  {
   "cell_type": "code",
   "execution_count": 75,
   "id": "45e175ae",
   "metadata": {},
   "outputs": [
    {
     "name": "stdout",
     "output_type": "stream",
     "text": [
      "models/BA_2grid_Set2Set\n"
     ]
    },
    {
     "name": "stderr",
     "output_type": "stream",
     "text": [
      "/home/antonio/anaconda3/envs/geometric2/lib/python3.11/site-packages/torch_geometric/data/in_memory_dataset.py:157: UserWarning: It is not recommended to directly access the internal storage format `data` of an 'InMemoryDataset'. If you are absolutely certain what you are doing, access the internal storage via `InMemoryDataset._data` instead to suppress this warning. Alternatively, you can access stacked individual attributes of every graph via `dataset.{attr_name}`.\n",
      "  warnings.warn(msg)\n"
     ]
    },
    {
     "name": "stdout",
     "output_type": "stream",
     "text": [
      "Test Loss: 0.027, Train Acc: 0.968 Test Acc: 0.965\n"
     ]
    }
   ],
   "source": [
    "path = \"models/\"+DATASET+\"_\"+MODEL\n",
    "print(path)\n",
    "dataset = dataset_fun()\n",
    "gcn = framework(dataset,device=\"cpu\")\n",
    "gcn.load_model(path)\n",
    "gcn.evaluate()\n",
    "\n",
    "\n",
    "graphs = load_graphs(DATASET=DATASET,\n",
    "                     MODEL=MODEL,\n",
    "                     EXPL=expl,\n",
    "                     MODE=MODE,\n",
    "                     verbose=verbose,\n",
    "                     lamb=lamb,\n",
    "                     normalize=nomralize)"
   ]
  },
  {
   "cell_type": "code",
   "execution_count": 67,
   "id": "a49925dd",
   "metadata": {},
   "outputs": [
    {
     "data": {
      "text/plain": [
       "EdgeDataView([(0, 1, {'edge_imp': 0.8947368264198303}), (0, 4, {'edge_imp': 0.31578946113586426}), (0, 10, {'edge_imp': 0.5263158082962036}), (0, 15, {'edge_imp': 0.42105263471603394}), (0, 18, {'edge_imp': 0.5789473652839661}), (0, 20, {'edge_imp': 0.4736842215061188}), (1, 2, {'edge_imp': 0.9473684430122375}), (1, 3, {'edge_imp': 1.0}), (2, 11, {'edge_imp': 0.8421052694320679}), (2, 17, {'edge_imp': 0.7894737124443054}), (2, 21, {'edge_imp': 0.6842105388641357}), (3, 8, {'edge_imp': 0.6315789222717285}), (3, 12, {'edge_imp': 0.7368420958518982}), (4, 5, {'edge_imp': 0.15789473056793213}), (4, 6, {'edge_imp': 0.21052631735801697}), (4, 13, {'edge_imp': 0.2631579041481018}), (5, 7, {'edge_imp': 0.10526315867900848}), (5, 9, {'edge_imp': 0.05263157933950424}), (5, 14, {'edge_imp': 0.0}), (6, 16, {'edge_imp': 0.0}), (6, 19, {'edge_imp': 0.0}), (15, 22, {'edge_imp': 0.3684210479259491})])"
      ]
     },
     "execution_count": 67,
     "metadata": {},
     "output_type": "execute_result"
    }
   ],
   "source": [
    "graphs[0][2].edges(data=True)"
   ]
  },
  {
   "cell_type": "code",
   "execution_count": 77,
   "id": "a79b3a3b",
   "metadata": {},
   "outputs": [
    {
     "data": {
      "image/png": "[encoded data removed]",
      "text/plain": [
       "<Figure size 640x480 with 1 Axes>"
      ]
     },
     "metadata": {},
     "output_type": "display_data"
    }
   ],
   "source": [
    "c = 1\n",
    "for i in gcn.train_loader.dataset:\n",
    "    y = i.y.item()\n",
    "    g = nx.Graph(to_networkx(i,node_attrs=[\"x\"]))\n",
    "    break\n",
    "nx.draw_networkx(g)"
   ]
  },
  {
   "cell_type": "code",
   "execution_count": null,
   "id": "07648f08",
   "metadata": {},
   "outputs": [],
   "source": []
  },
  {
   "cell_type": "code",
   "execution_count": 82,
   "id": "882887e3",
   "metadata": {},
   "outputs": [
    {
     "data": {
      "image/png": "[encoded data removed]",
      "text/plain": [
       "<Figure size 640x480 with 1 Axes>"
      ]
     },
     "metadata": {},
     "output_type": "display_data"
    }
   ],
   "source": [
    "nx.draw_networkx(graphs[y][1])"
   ]
  },
  {
   "cell_type": "code",
   "execution_count": null,
   "id": "7ca0ef29",
   "metadata": {},
   "outputs": [],
   "source": []
  },
  {
   "cell_type": "code",
   "execution_count": 71,
   "id": "af45b649",
   "metadata": {},
   "outputs": [],
   "source": [
    "c = 1\n",
    "for i in gcn.train_loader.dataset:\n",
    "    y = i.y.item()\n",
    "    g = nx.Graph(to_networkx(i,node_attrs=[\"x\"]))\n",
    "    break\n",
    "    for n in g.nodes():\n",
    "        if not graphs[y] == None:\n",
    "            if c in graphs[y]:\n",
    "                print(n,c)\n",
    "                assert len(graphs[y][c].nodes()) == len(g.nodes())\n",
    "                assert len(graphs[y][c].edges()) == len(g.edges())\n",
    "                graphs[y][c].nodes()[n][\"x\"] = g.nodes()[n][\"x\"]\n",
    "    c = c + 1"
   ]
  },
  {
   "cell_type": "code",
   "execution_count": 73,
   "id": "e037fc2d",
   "metadata": {},
   "outputs": [
    {
     "data": {
      "image/png": "[encoded data removed]",
      "text/plain": [
       "<Figure size 640x480 with 1 Axes>"
      ]
     },
     "metadata": {},
     "output_type": "display_data"
    }
   ],
   "source": [
    "nx.draw_networkx(graphs[y][c])"
   ]
  },
  {
   "cell_type": "code",
   "execution_count": 74,
   "id": "79cd6ebf",
   "metadata": {},
   "outputs": [
    {
     "data": {
      "image/png": "[encoded data removed]",
      "text/plain": [
       "<Figure size 640x480 with 1 Axes>"
      ]
     },
     "metadata": {},
     "output_type": "display_data"
    }
   ],
   "source": [
    "nx.draw_networkx(g)"
   ]
  },
  {
   "cell_type": "code",
   "execution_count": 28,
   "id": "9995dc0a",
   "metadata": {},
   "outputs": [
    {
     "data": {
      "text/plain": [
       "NodeDataView({0: {'x': [0.1, 0.1, 0.1, 0.1, 0.1, 0.1, 0.1, 0.1, 0.1, 0.1]}, 1: {'x': [0.1, 0.1, 0.1, 0.1, 0.1, 0.1, 0.1, 0.1, 0.1, 0.1]}, 2: {'x': [0.1, 0.1, 0.1, 0.1, 0.1, 0.1, 0.1, 0.1, 0.1, 0.1]}, 3: {'x': [0.1, 0.1, 0.1, 0.1, 0.1, 0.1, 0.1, 0.1, 0.1, 0.1]}, 4: {'x': [0.1, 0.1, 0.1, 0.1, 0.1, 0.1, 0.1, 0.1, 0.1, 0.1]}, 5: {'x': [0.1, 0.1, 0.1, 0.1, 0.1, 0.1, 0.1, 0.1, 0.1, 0.1]}, 6: {'x': [0.1, 0.1, 0.1, 0.1, 0.1, 0.1, 0.1, 0.1, 0.1, 0.1]}, 7: {'x': [0.1, 0.1, 0.1, 0.1, 0.1, 0.1, 0.1, 0.1, 0.1, 0.1]}, 8: {'x': [0.1, 0.1, 0.1, 0.1, 0.1, 0.1, 0.1, 0.1, 0.1, 0.1]}, 9: {'x': [0.1, 0.1, 0.1, 0.1, 0.1, 0.1, 0.1, 0.1, 0.1, 0.1]}, 10: {'x': [0.1, 0.1, 0.1, 0.1, 0.1, 0.1, 0.1, 0.1, 0.1, 0.1]}, 11: {'x': [0.1, 0.1, 0.1, 0.1, 0.1, 0.1, 0.1, 0.1, 0.1, 0.1]}, 12: {'x': [0.1, 0.1, 0.1, 0.1, 0.1, 0.1, 0.1, 0.1, 0.1, 0.1]}, 13: {'x': [0.1, 0.1, 0.1, 0.1, 0.1, 0.1, 0.1, 0.1, 0.1, 0.1]}, 14: {'x': [0.1, 0.1, 0.1, 0.1, 0.1, 0.1, 0.1, 0.1, 0.1, 0.1]}, 15: {'x': [0.1, 0.1, 0.1, 0.1, 0.1, 0.1, 0.1, 0.1, 0.1, 0.1]}, 16: {'x': [0.1, 0.1, 0.1, 0.1, 0.1, 0.1, 0.1, 0.1, 0.1, 0.1]}, 17: {'x': [0.1, 0.1, 0.1, 0.1, 0.1, 0.1, 0.1, 0.1, 0.1, 0.1]}})"
      ]
     },
     "execution_count": 28,
     "metadata": {},
     "output_type": "execute_result"
    }
   ],
   "source": [
    "g.nodes(data=True)"
   ]
  },
  {
   "cell_type": "code",
   "execution_count": null,
   "id": "f184c479",
   "metadata": {},
   "outputs": [],
   "source": []
  },
  {
   "cell_type": "code",
   "execution_count": 16,
   "id": "bda91c65",
   "metadata": {},
   "outputs": [
    {
     "name": "stdout",
     "output_type": "stream",
     "text": [
      "models/BA_2grid_Set2Set\n"
     ]
    },
    {
     "name": "stderr",
     "output_type": "stream",
     "text": [
      "/home/antonio/anaconda3/envs/geometric2/lib/python3.11/site-packages/torch_geometric/data/in_memory_dataset.py:157: UserWarning: It is not recommended to directly access the internal storage format `data` of an 'InMemoryDataset'. If you are absolutely certain what you are doing, access the internal storage via `InMemoryDataset._data` instead to suppress this warning. Alternatively, you can access stacked individual attributes of every graph via `dataset.{attr_name}`.\n",
      "  warnings.warn(msg)\n"
     ]
    },
    {
     "name": "stdout",
     "output_type": "stream",
     "text": [
      "Test Loss: 0.027, Train Acc: 0.968 Test Acc: 0.965\n"
     ]
    },
    {
     "ename": "AssertionError",
     "evalue": "",
     "output_type": "error",
     "traceback": [
      "\u001b[0;31m---------------------------------------------------------------------------\u001b[0m",
      "\u001b[0;31mAssertionError\u001b[0m                            Traceback (most recent call last)",
      "Cell \u001b[0;32mIn[16], line 1\u001b[0m\n\u001b[0;32m----> 1\u001b[0m gcn,graphs \u001b[38;5;241m=\u001b[39m build_expl(DATASET,MODEL,dataset_fun,framework,expl\u001b[38;5;241m=\u001b[39mexpl,MODE\u001b[38;5;241m=\u001b[39mMODE)\n",
      "Cell \u001b[0;32mIn[15], line 33\u001b[0m, in \u001b[0;36mbuild_expl\u001b[0;34m(DATASET, MODEL, dataset_fun, framework, expl, verbose, lamb, nomralize, MODE)\u001b[0m\n\u001b[1;32m     31\u001b[0m \u001b[38;5;28;01mif\u001b[39;00m \u001b[38;5;129;01mnot\u001b[39;00m graphs[y] \u001b[38;5;241m==\u001b[39m \u001b[38;5;28;01mNone\u001b[39;00m:\n\u001b[1;32m     32\u001b[0m     \u001b[38;5;28;01mif\u001b[39;00m c \u001b[38;5;129;01min\u001b[39;00m graphs[y]:\n\u001b[0;32m---> 33\u001b[0m         \u001b[38;5;28;01massert\u001b[39;00m \u001b[38;5;28mlen\u001b[39m(graphs[y][c]\u001b[38;5;241m.\u001b[39mnodes()) \u001b[38;5;241m==\u001b[39m \u001b[38;5;28mlen\u001b[39m(g\u001b[38;5;241m.\u001b[39mnodes())\n\u001b[1;32m     34\u001b[0m         \u001b[38;5;28;01massert\u001b[39;00m \u001b[38;5;28mlen\u001b[39m(graphs[y][c]\u001b[38;5;241m.\u001b[39medges()) \u001b[38;5;241m==\u001b[39m \u001b[38;5;28mlen\u001b[39m(g\u001b[38;5;241m.\u001b[39medges())\n\u001b[1;32m     35\u001b[0m         graphs[y][c]\u001b[38;5;241m.\u001b[39mnodes()[n][\u001b[38;5;124m\"\u001b[39m\u001b[38;5;124mx\u001b[39m\u001b[38;5;124m\"\u001b[39m] \u001b[38;5;241m=\u001b[39m g\u001b[38;5;241m.\u001b[39mnodes()[n][\u001b[38;5;124m\"\u001b[39m\u001b[38;5;124mx\u001b[39m\u001b[38;5;124m\"\u001b[39m]\n",
      "\u001b[0;31mAssertionError\u001b[0m: "
     ]
    }
   ],
   "source": [
    "gcn,graphs = build_expl(DATASET,MODEL,dataset_fun,framework,expl=expl,MODE=MODE)"
   ]
  },
  {
   "cell_type": "code",
   "execution_count": null,
   "id": "cb632510",
   "metadata": {},
   "outputs": [],
   "source": []
  },
  {
   "cell_type": "code",
   "execution_count": null,
   "id": "480b8651",
   "metadata": {},
   "outputs": [],
   "source": [
    "\n",
    "suf1, comp1 = compute_fidelity(gcn,graphs,y=1,color=False)\n",
    "suf0, comp0 = compute_fidelity(gcn,graphs,y=0,color=False)"
   ]
  },
  {
   "cell_type": "code",
   "execution_count": null,
   "id": "a6feb8ee",
   "metadata": {},
   "outputs": [],
   "source": []
  },
  {
   "cell_type": "code",
   "execution_count": 46,
   "id": "4fae74e2",
   "metadata": {},
   "outputs": [
    {
     "name": "stdout",
     "output_type": "stream",
     "text": [
      "f1 class 0 : 0.34425428130625607\n",
      "f1 class 1 : 0.7225875146072238\n"
     ]
    }
   ],
   "source": [
    "f1_1 = 2*(((1-suf1) * (comp1))/((1-suf1) + (comp1)))\n",
    "f1_0 = 2*(((1-suf0) * (comp0))/((1-suf0) + (comp0)))\n",
    "\n",
    "print(\"f1 class 0 :\", f1_0)\n",
    "print(\"f1 class 1 :\", f1_1)"
   ]
  },
  {
   "cell_type": "markdown",
   "id": "dea2f4af",
   "metadata": {},
   "source": [
    "# GRID HOUSE \n",
    "### plausibility"
   ]
  },
  {
   "cell_type": "code",
   "execution_count": 60,
   "id": "e5a56d72",
   "metadata": {},
   "outputs": [],
   "source": [
    "from metrics.plausibility import get_plausibility_ba_grid_house,split_class0"
   ]
  },
  {
   "cell_type": "code",
   "execution_count": 61,
   "id": "a57657ec",
   "metadata": {},
   "outputs": [],
   "source": [
    "dataset = \"BA_2grid_house\"\n",
    "MODEL = \"GCN\" \n",
    "MODE = \"train\"\n",
    "expl = \"sal_edge\"\n",
    "\n",
    "graphs = load_graphs(DATASET=dataset,\n",
    "                     MODEL=MODEL,\n",
    "                     EXPL=expl,\n",
    "                     MODE=MODE,\n",
    "                     verbose=False,\n",
    "                     lamb=0.001,\n",
    "                     normalize=True)\n",
    "\n",
    "if not graphs[0] == None:\n",
    "    split_house_grid = split_class0(graphs[0])\n",
    "    acc = get_plausibility_ba_grid_house(split_house_grid[\"house\"],GT_len = 5)\n",
    "    acc1 = get_plausibility_ba_grid_house(split_house_grid[\"grid\"],GT_len = 9)\n",
    "    roc_class0 = np.mean([acc,acc1])\n",
    "\n",
    "if not graphs[1] == None:\n",
    "    roc_class1 = get_plausibility(graphs,GT_len = 9+5)"
   ]
  },
  {
   "cell_type": "code",
   "execution_count": 62,
   "id": "b45b8052",
   "metadata": {},
   "outputs": [
    {
     "name": "stdout",
     "output_type": "stream",
     "text": [
      "pla class 0 0.849453761369126\n",
      "pla class 1 0.8381554258364556\n"
     ]
    }
   ],
   "source": [
    "print(\"pla class 0\",roc_class0)\n",
    "print(\"pla class 1\",roc_class1)"
   ]
  },
  {
   "cell_type": "markdown",
   "id": "6ea2ad38",
   "metadata": {},
   "source": [
    "### fidelity GRID HOUSE"
   ]
  },
  {
   "cell_type": "code",
   "execution_count": 64,
   "id": "1361ade4",
   "metadata": {},
   "outputs": [
    {
     "name": "stdout",
     "output_type": "stream",
     "text": [
      "models/BA_2grid_house_GCN\n",
      "Test Loss: 0.029, Train Acc: 0.971 Test Acc: 0.965\n"
     ]
    }
   ],
   "source": [
    "from metrics.F1_fidelity import build_expl,compute_fidelity\n",
    "from Datasets.synthetics import BA_2grid_house as dataset_fun\n",
    "\n",
    "DATASET = \"BA_2grid_house\"\n",
    "MODE = \"train\"\n",
    "expl = \"ig_edge\"\n",
    "MODEL = \"GCN\"\n",
    "from models.models_BA_2grid_house import GCN_framework as framework\n",
    "\n",
    "gcn,graphs = build_expl(DATASET,MODEL,dataset_fun,framework,expl=expl,MODE=MODE)\n",
    "\n",
    "if not graphs[1] == None:\n",
    "    suf1, comp1 = compute_fidelity(gcn,graphs,y=1)\n",
    "    f1_1 = 2*(((1-suf1) * (comp1))/((1-suf1) + (comp1)))\n",
    "if not graphs[0] == None:\n",
    "    suf0, comp0 = compute_fidelity(gcn,graphs,y=0)\n",
    "    f1_0 = 2*(((1-suf0) * (comp0))/((1-suf0) + (comp0)))"
   ]
  },
  {
   "cell_type": "code",
   "execution_count": 65,
   "id": "714ccab1",
   "metadata": {},
   "outputs": [
    {
     "name": "stdout",
     "output_type": "stream",
     "text": [
      "f1 class 0 : 0.5770450399199949\n",
      "f1 class 1 : 0.4319210863728599\n"
     ]
    }
   ],
   "source": [
    "print(\"f1 class 0 :\", f1_0)\n",
    "print(\"f1 class 1 :\", f1_1)"
   ]
  },
  {
   "cell_type": "markdown",
   "id": "eff5250c",
   "metadata": {},
   "source": [
    "# STARS"
   ]
  },
  {
   "cell_type": "code",
   "execution_count": 66,
   "id": "5db1dc46",
   "metadata": {},
   "outputs": [],
   "source": [
    "from metrics.plausibility import get_plausibility_nb_stars"
   ]
  },
  {
   "cell_type": "markdown",
   "id": "4c244632",
   "metadata": {},
   "source": [
    "### plausibility"
   ]
  },
  {
   "cell_type": "code",
   "execution_count": 67,
   "id": "b61de7d6",
   "metadata": {},
   "outputs": [
    {
     "name": "stdout",
     "output_type": "stream",
     "text": [
      "1.000 , 1.000 , 1.000\n",
      "pla class 0 0.7189530392060536\n",
      "pla class 1 0.8912395781100527\n",
      "pla class 2 0.6196310958543689\n"
     ]
    }
   ],
   "source": [
    "dataset = \"ER_nb_stars2\"\n",
    "model_architecture = \"GCN\" \n",
    "MODE = \"train\"\n",
    "expl = \"sal_edge\"\n",
    "\n",
    "graphs = load_graphs(DATASET=dataset,MODEL=model_architecture,EXPL = expl,MODE=MODE)\n",
    "\n",
    "roc0 = get_plausibility_nb_stars(list(graphs[0].values()),1)\n",
    "roc1 = get_plausibility_nb_stars(list(graphs[1].values()),2)\n",
    "roc2 = get_plausibility_nb_stars(list(graphs[2].values()),3)\n",
    "\n",
    "print(\"pla class 0\",roc0)\n",
    "print(\"pla class 1\",roc1)\n",
    "print(\"pla class 2\",roc2)"
   ]
  },
  {
   "cell_type": "markdown",
   "id": "b7aaab62",
   "metadata": {
    "scrolled": true
   },
   "source": [
    "### fidelity STARS"
   ]
  },
  {
   "cell_type": "code",
   "execution_count": 70,
   "id": "08a153e8",
   "metadata": {},
   "outputs": [],
   "source": [
    "from Datasets.synthetics import ER_nb_stars2 as dataset_fun\n",
    "\n",
    "dataset = \"ER_nb_stars2\"\n",
    "model_architecture = \"GCN\" \n",
    "MODE = \"train\"\n",
    "expl = \"sal_edge\"\n",
    "\n",
    "from models.models_ER_nb_stars2 import GCN_framework as framework"
   ]
  },
  {
   "cell_type": "code",
   "execution_count": 72,
   "id": "d52abc16",
   "metadata": {
    "scrolled": true
   },
   "outputs": [
    {
     "name": "stdout",
     "output_type": "stream",
     "text": [
      "models/ER_nb_stars2_GCN\n",
      "Test Loss: 0.002, Train Acc: 0.994 Test Acc: 1.000\n"
     ]
    }
   ],
   "source": [
    "gcn,graphs = build_expl(dataset,model_architecture,dataset_fun,framework,expl=expl,MODE=MODE)\n",
    "suf1, comp1 = compute_fidelity(gcn,graphs,y=1)\n",
    "f1_1_tmp = 2*(((1-suf1) * (comp1))/((1-suf1) + (comp1)))\n",
    "\n",
    "suf0, comp0 = compute_fidelity(gcn,graphs,y=0)\n",
    "f1_0_tmp = 2*(((1-suf0) * (comp0))/((1-suf0) + (comp0)))\n",
    "\n",
    "suf2, comp2 = compute_fidelity(gcn,graphs,y=2)\n",
    "f1_2_tmp = 2*(((1-suf2) * (comp2))/((1-suf2) + (comp2)))\n"
   ]
  },
  {
   "cell_type": "code",
   "execution_count": 73,
   "id": "43b03881",
   "metadata": {},
   "outputs": [
    {
     "name": "stdout",
     "output_type": "stream",
     "text": [
      "f1 class 0 : 0.0115249958049668\n",
      "f1 class 1 : 0.27435323177693643\n",
      "f1 class 2 : 0.7929425627225647\n"
     ]
    }
   ],
   "source": [
    "print(\"f1 class 0 :\", f1_0_tmp)\n",
    "print(\"f1 class 1 :\", f1_1_tmp)\n",
    "print(\"f1 class 2 :\", f1_2_tmp)"
   ]
  },
  {
   "cell_type": "markdown",
   "id": "6fadccb2",
   "metadata": {},
   "source": [
    "# HOUSE COLOR"
   ]
  },
  {
   "cell_type": "code",
   "execution_count": 75,
   "id": "913b35fb",
   "metadata": {},
   "outputs": [],
   "source": [
    "from metrics.load_expl import load_graphs\n",
    "from metrics.plausibility import load_gt_BA_houses_color,get_plausibility_houses_color"
   ]
  },
  {
   "cell_type": "code",
   "execution_count": 78,
   "id": "965ba119",
   "metadata": {
    "scrolled": true
   },
   "outputs": [
    {
     "name": "stdout",
     "output_type": "stream",
     "text": [
      "1.000 , 1.000\n",
      "pla class 0 0.021089005798699493\n",
      "pla class 1 0.06051810194793691\n"
     ]
    }
   ],
   "source": [
    "dataset = \"BA_houses_color\"\n",
    "MODELS = \"GAT\"\n",
    "expl = \"cam\"\n",
    "MODE = \"train\"\n",
    "\n",
    "graphs = load_graphs(DATASET=dataset,MODEL=model_architecture,EXPL = expl,MODE=MODE)\n",
    "if MODE == \"train\":\n",
    "    graphs = load_gt_BA_houses_color(graphs,train=True)\n",
    "else:\n",
    "    graphs = load_gt_BA_houses_color(graphs,train=False)\n",
    "    \n",
    "roc0 = get_plausibility_houses_color(graphs,0)\n",
    "roc1 = get_plausibility_houses_color(graphs,1)\n",
    "\n",
    "print(\"pla class 0\",roc0)\n",
    "print(\"pla class 1\",roc1)"
   ]
  },
  {
   "cell_type": "markdown",
   "id": "84a6458b",
   "metadata": {},
   "source": [
    "### fidelity house color"
   ]
  },
  {
   "cell_type": "code",
   "execution_count": 82,
   "id": "85c5b6b0",
   "metadata": {},
   "outputs": [],
   "source": [
    "from metrics.F1_fidelity import build_expl,compute_fidelity\n",
    "from Datasets.synthetics import BA_houses_color as dataset_fun"
   ]
  },
  {
   "cell_type": "code",
   "execution_count": 88,
   "id": "bdd32510",
   "metadata": {},
   "outputs": [
    {
     "name": "stdout",
     "output_type": "stream",
     "text": [
      "models/BA_houses_color_GCN\n",
      "Test Loss: 0.005, Train Acc: 0.988 Test Acc: 0.995\n"
     ]
    }
   ],
   "source": [
    "DATASET = \"BA_houses_color\"\n",
    "MODEL = \"GCN\"\n",
    "MODE = \"train\"\n",
    "expl = \"ig_edge\"\n",
    "\n",
    "from models.models_BA_houses_color import GCN_framework as framework\n",
    "\n",
    "gcn,graphs = build_expl(DATASET,MODEL,dataset_fun,framework,expl=expl,MODE=MODE)"
   ]
  },
  {
   "cell_type": "code",
   "execution_count": 91,
   "id": "3b5331de",
   "metadata": {
    "scrolled": false
   },
   "outputs": [],
   "source": [
    "suf1, comp1 = compute_fidelity(gcn,graphs,y=1,color=True)\n",
    "f1_1_tmp = 2*(((1-suf1) * (comp1))/((1-suf1) + (comp1)))\n",
    "suf0, comp0 = compute_fidelity(gcn,graphs,y=0,color=True)\n",
    "f1_0_tmp = 2*(((1-suf0) * (comp0))/((1-suf0) + (comp0)))"
   ]
  },
  {
   "cell_type": "code",
   "execution_count": 92,
   "id": "06d1938f",
   "metadata": {},
   "outputs": [
    {
     "name": "stdout",
     "output_type": "stream",
     "text": [
      "f1 class 0 : 0.15038511661447607\n",
      "f1 class 1 : 0.2404041806111522\n"
     ]
    }
   ],
   "source": [
    "print(\"f1 class 0 :\", f1_0_tmp)\n",
    "print(\"f1 class 1 :\", f1_1_tmp)"
   ]
  },
  {
   "cell_type": "code",
   "execution_count": null,
   "id": "639baa0f",
   "metadata": {},
   "outputs": [],
   "source": []
  }
 ],
 "metadata": {
  "kernelspec": {
   "display_name": "Python 3 (ipykernel)",
   "language": "python",
   "name": "python3"
  },
  "language_info": {
   "codemirror_mode": {
    "name": "ipython",
    "version": 3
   },
   "file_extension": ".py",
   "mimetype": "text/x-python",
   "name": "python",
   "nbconvert_exporter": "python",
   "pygments_lexer": "ipython3",
   "version": "3.11.3"
  }
 },
 "nbformat": 4,
 "nbformat_minor": 5
}
