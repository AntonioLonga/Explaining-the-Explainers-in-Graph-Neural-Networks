{
 "cells": [
  {
   "cell_type": "markdown",
   "id": "c15c756b",
   "metadata": {},
   "source": [
    "# Evaluate the plausibility"
   ]
  },
  {
   "cell_type": "code",
   "execution_count": 8,
   "id": "8ebffdac",
   "metadata": {},
   "outputs": [
    {
     "name": "stdout",
     "output_type": "stream",
     "text": [
      "The autoreload extension is already loaded. To reload it, use:\n",
      "  %reload_ext autoreload\n"
     ]
    }
   ],
   "source": [
    "from Datasets.synthetics import Infection\n",
    "import torch\n",
    "import numpy as np\n",
    "\n",
    "%load_ext autoreload\n",
    "%autoreload 2"
   ]
  },
  {
   "cell_type": "markdown",
   "id": "fd65078c",
   "metadata": {},
   "source": [
    "## Setup PyG"
   ]
  },
  {
   "cell_type": "code",
   "execution_count": 9,
   "id": "95ed4f81",
   "metadata": {},
   "outputs": [],
   "source": [
    "torch.set_num_threads(4)\n",
    "device = 'cpu'\n",
    "\n",
    "from metrics.utils_nc import set_seeds"
   ]
  },
  {
   "cell_type": "markdown",
   "id": "0468250b",
   "metadata": {},
   "source": [
    "# Compute the plausibility"
   ]
  },
  {
   "cell_type": "code",
   "execution_count": 10,
   "id": "5b84b962",
   "metadata": {},
   "outputs": [
    {
     "name": "stdout",
     "output_type": "stream",
     "text": [
      "* * * * * * * * GCN * * * * * * * *\n"
     ]
    },
    {
     "name": "stderr",
     "output_type": "stream",
     "text": [
      "/home/antonio/anaconda3/envs/geo_new/lib/python3.9/site-packages/numpy/core/fromnumeric.py:3440: RuntimeWarning: Mean of empty slice.\n",
      "  return _methods._mean(a, axis=axis, dtype=dtype,\n",
      "/home/antonio/anaconda3/envs/geo_new/lib/python3.9/site-packages/numpy/core/_methods.py:189: RuntimeWarning: invalid value encountered in double_scalars\n",
      "  ret = ret.dtype.type(ret / rcount)\n"
     ]
    },
    {
     "name": "stdout",
     "output_type": "stream",
     "text": [
      " 0.500  0.500  0.500\tsubgraphX\n",
      "* * * * * * * * GAT * * * * * * * *\n"
     ]
    },
    {
     "name": "stderr",
     "output_type": "stream",
     "text": [
      "/home/antonio/anaconda3/envs/geo_new/lib/python3.9/site-packages/numpy/core/fromnumeric.py:3440: RuntimeWarning: Mean of empty slice.\n",
      "  return _methods._mean(a, axis=axis, dtype=dtype,\n",
      "/home/antonio/anaconda3/envs/geo_new/lib/python3.9/site-packages/numpy/core/_methods.py:189: RuntimeWarning: invalid value encountered in double_scalars\n",
      "  ret = ret.dtype.type(ret / rcount)\n"
     ]
    },
    {
     "name": "stdout",
     "output_type": "stream",
     "text": [
      " 0.500  0.500  0.500\tsubgraphX\n",
      "* * * * * * * * GIN * * * * * * * *\n"
     ]
    },
    {
     "name": "stderr",
     "output_type": "stream",
     "text": [
      "/home/antonio/anaconda3/envs/geo_new/lib/python3.9/site-packages/numpy/core/fromnumeric.py:3440: RuntimeWarning: Mean of empty slice.\n",
      "  return _methods._mean(a, axis=axis, dtype=dtype,\n",
      "/home/antonio/anaconda3/envs/geo_new/lib/python3.9/site-packages/numpy/core/_methods.py:189: RuntimeWarning: invalid value encountered in double_scalars\n",
      "  ret = ret.dtype.type(ret / rcount)\n"
     ]
    },
    {
     "name": "stdout",
     "output_type": "stream",
     "text": [
      " 0.500  0.500  0.500\tsubgraphX\n",
      "* * * * * * * * GraphSAGE * * * * * * * *\n"
     ]
    },
    {
     "name": "stderr",
     "output_type": "stream",
     "text": [
      "/home/antonio/anaconda3/envs/geo_new/lib/python3.9/site-packages/numpy/core/fromnumeric.py:3440: RuntimeWarning: Mean of empty slice.\n",
      "  return _methods._mean(a, axis=axis, dtype=dtype,\n",
      "/home/antonio/anaconda3/envs/geo_new/lib/python3.9/site-packages/numpy/core/_methods.py:189: RuntimeWarning: invalid value encountered in double_scalars\n",
      "  ret = ret.dtype.type(ret / rcount)\n"
     ]
    },
    {
     "name": "stdout",
     "output_type": "stream",
     "text": [
      " 0.500  0.500  0.500\tsubgraphX\n",
      "* * * * * * * * Cheb * * * * * * * *\n"
     ]
    },
    {
     "name": "stderr",
     "output_type": "stream",
     "text": [
      "/home/antonio/anaconda3/envs/geo_new/lib/python3.9/site-packages/numpy/core/fromnumeric.py:3440: RuntimeWarning: Mean of empty slice.\n",
      "  return _methods._mean(a, axis=axis, dtype=dtype,\n",
      "/home/antonio/anaconda3/envs/geo_new/lib/python3.9/site-packages/numpy/core/_methods.py:189: RuntimeWarning: invalid value encountered in double_scalars\n",
      "  ret = ret.dtype.type(ret / rcount)\n"
     ]
    },
    {
     "name": "stdout",
     "output_type": "stream",
     "text": [
      " -----  -----  -----\tsubgraphX\n"
     ]
    }
   ],
   "source": [
    "from metrics.utils_nc import load_graphs, get_roc_infection\n",
    "\n",
    "from models.models_Infection import GCN_framework, GraphSAGE_framework, GAT_framework, GIN_framework, CHEB_framework\n",
    "\n",
    "\n",
    "# Define the parameters\n",
    "DATASET = 'Infection'\n",
    "MODELS = ['GCN', 'GAT', 'GIN', 'GraphSAGE', 'Cheb']\n",
    "EXPLS = [\"subgraphX\"]\n",
    "MODES = ['train']\n",
    "\n",
    "IGNORE = [('Infection', 'Cheb', 'gnnexpl', 'train'),\n",
    "          ('Infection', 'Cheb', 'pgexplainer', 'train'),\n",
    "          ('Infection', 'GIN', 'gnnexpl', 'train')]\n",
    "\n",
    "GNN_NUM_LAYERS = {'GCN': 2, 'GAT': 2, 'GIN': 2, 'GraphSAGE': 2, 'Cheb': 2}\n",
    "\n",
    "\n",
    "# Load the dataset\n",
    "set_seeds()\n",
    "dataset = Infection()\n",
    "y = dataset.data.y.numpy()\n",
    "\n",
    "# Define history variables\n",
    "roc = {0: [], 1: [], 2: []}\n",
    "model, expl = [], []\n",
    "\n",
    "# Compute the metrics\n",
    "for MODE in MODES:\n",
    "    for MODEL in MODELS:\n",
    "        print(8 * '* ' + MODEL + 8 * ' *')\n",
    "        \n",
    "        # Loop over the explainers\n",
    "        for EXPL in EXPLS:\n",
    "            # Define the setting and store it\n",
    "            ID = (DATASET, MODEL, EXPL, MODE)\n",
    "            model += [MODEL]\n",
    "            expl += [EXPL]\n",
    "            \n",
    "            # Compute the sufficiency\n",
    "            if ID in IGNORE:\n",
    "                # Return nan metrics\n",
    "                roc[0].append(float('nan'))\n",
    "                roc[1].append(float('nan'))\n",
    "                roc[2].append(float('nan'))\n",
    "            else:\n",
    "                # Load and filter the explanations\n",
    "                graphs = load_graphs(DATASET, MODEL, EXPL, MODE, \n",
    "                          raw=False,\n",
    "                          verbose=False,\n",
    "                          lamb=0.001,\n",
    "                          normalize=True)\n",
    "                \n",
    "                # Loop over the class labels\n",
    "                for label in graphs:\n",
    "                    if not graphs[label] == None:\n",
    "                        # If there are valid explanations compute suff and comp    \n",
    "                        roc[label] += [get_roc_infection(graphs, label, GNN_NUM_LAYERS[MODEL], y)]\n",
    "                    else:\n",
    "                        # Otherwise return nan metrics\n",
    "                        roc[label].append(float('nan'))\n",
    "                    \n",
    "            # Print the partial results                    \n",
    "            print(' '.join([' {:.3f}'.format(roc[label][-1]) if ~np.isnan(roc[label][-1]) else ' -----' for label in roc]) + '\\t' + EXPL)                        "
   ]
  },
  {
   "cell_type": "code",
   "execution_count": 11,
   "id": "112096f0",
   "metadata": {},
   "outputs": [
    {
     "data": {
      "text/html": [
       "<div>\n",
       "<style scoped>\n",
       "    .dataframe tbody tr th:only-of-type {\n",
       "        vertical-align: middle;\n",
       "    }\n",
       "\n",
       "    .dataframe tbody tr th {\n",
       "        vertical-align: top;\n",
       "    }\n",
       "\n",
       "    .dataframe thead th {\n",
       "        text-align: right;\n",
       "    }\n",
       "</style>\n",
       "<table border=\"1\" class=\"dataframe\">\n",
       "  <thead>\n",
       "    <tr style=\"text-align: right;\">\n",
       "      <th></th>\n",
       "      <th>model</th>\n",
       "      <th>expl</th>\n",
       "      <th>class 0</th>\n",
       "      <th>class 1</th>\n",
       "      <th>class 2</th>\n",
       "    </tr>\n",
       "  </thead>\n",
       "  <tbody>\n",
       "    <tr>\n",
       "      <th>0</th>\n",
       "      <td>GCN</td>\n",
       "      <td>subgraphX</td>\n",
       "      <td>0.5</td>\n",
       "      <td>0.5</td>\n",
       "      <td>0.5</td>\n",
       "    </tr>\n",
       "    <tr>\n",
       "      <th>1</th>\n",
       "      <td>GAT</td>\n",
       "      <td>subgraphX</td>\n",
       "      <td>0.5</td>\n",
       "      <td>0.5</td>\n",
       "      <td>0.5</td>\n",
       "    </tr>\n",
       "    <tr>\n",
       "      <th>2</th>\n",
       "      <td>GIN</td>\n",
       "      <td>subgraphX</td>\n",
       "      <td>0.5</td>\n",
       "      <td>0.5</td>\n",
       "      <td>0.5</td>\n",
       "    </tr>\n",
       "    <tr>\n",
       "      <th>3</th>\n",
       "      <td>GraphSAGE</td>\n",
       "      <td>subgraphX</td>\n",
       "      <td>0.5</td>\n",
       "      <td>0.5</td>\n",
       "      <td>0.5</td>\n",
       "    </tr>\n",
       "    <tr>\n",
       "      <th>4</th>\n",
       "      <td>Cheb</td>\n",
       "      <td>subgraphX</td>\n",
       "      <td>NaN</td>\n",
       "      <td>NaN</td>\n",
       "      <td>NaN</td>\n",
       "    </tr>\n",
       "  </tbody>\n",
       "</table>\n",
       "</div>"
      ],
      "text/plain": [
       "       model       expl  class 0  class 1  class 2\n",
       "0        GCN  subgraphX      0.5      0.5      0.5\n",
       "1        GAT  subgraphX      0.5      0.5      0.5\n",
       "2        GIN  subgraphX      0.5      0.5      0.5\n",
       "3  GraphSAGE  subgraphX      0.5      0.5      0.5\n",
       "4       Cheb  subgraphX      NaN      NaN      NaN"
      ]
     },
     "execution_count": 11,
     "metadata": {},
     "output_type": "execute_result"
    }
   ],
   "source": [
    "import pandas as pd\n",
    "results = pd.DataFrame({'model': model, 'expl': expl, 'class 0': roc[0], 'class 1': roc[1], 'class 2': roc[2]})\n",
    "results.fillna(-100).to_csv('./metrics/plausibility_' + '_'.join(MODELS) + '.csv')\n",
    "results"
   ]
  },
  {
   "cell_type": "code",
   "execution_count": 12,
   "id": "611ebef9",
   "metadata": {},
   "outputs": [
    {
     "data": {
      "text/plain": [
       "array([[<Axes: title={'center': 'class 0'}>,\n",
       "        <Axes: title={'center': 'class 1'}>],\n",
       "       [<Axes: title={'center': 'class 2'}>, <Axes: >]], dtype=object)"
      ]
     },
     "execution_count": 12,
     "metadata": {},
     "output_type": "execute_result"
    },
    {
     "data": {
      "image/png": "[encoded data removed]",
      "text/plain": [
       "<Figure size 432x288 with 4 Axes>"
      ]
     },
     "metadata": {
      "needs_background": "light"
     },
     "output_type": "display_data"
    }
   ],
   "source": [
    "results.hist()"
   ]
  },
  {
   "cell_type": "code",
   "execution_count": null,
   "id": "7bf06cbd",
   "metadata": {},
   "outputs": [],
   "source": []
  }
 ],
 "metadata": {
  "kernelspec": {
   "display_name": "Python 3",
   "language": "python",
   "name": "python3"
  },
  "language_info": {
   "codemirror_mode": {
    "name": "ipython",
    "version": 3
   },
   "file_extension": ".py",
   "mimetype": "text/x-python",
   "name": "python",
   "nbconvert_exporter": "python",
   "pygments_lexer": "ipython3",
   "version": "3.9.7"
  }
 },
 "nbformat": 4,
 "nbformat_minor": 5
}
