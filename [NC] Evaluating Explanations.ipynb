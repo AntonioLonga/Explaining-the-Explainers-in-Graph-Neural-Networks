{
 "cells": [
  {
   "cell_type": "code",
   "execution_count": 33,
   "id": "684b54d2",
   "metadata": {},
   "outputs": [
    {
     "name": "stdout",
     "output_type": "stream",
     "text": [
      "The autoreload extension is already loaded. To reload it, use:\n",
      "  %reload_ext autoreload\n"
     ]
    }
   ],
   "source": [
    "import numpy as np\n",
    "import networkx as nx\n",
    "import matplotlib.pyplot as plt\n",
    "import os\n",
    "\n",
    "%load_ext autoreload\n",
    "%autoreload 2"
   ]
  },
  {
   "cell_type": "markdown",
   "id": "7575010a",
   "metadata": {},
   "source": [
    "# Shapes\n",
    "\n",
    "(Shapes is an abbreviation to the more complete BAShapes dataset)"
   ]
  },
  {
   "cell_type": "code",
   "execution_count": 5,
   "id": "cc666449",
   "metadata": {},
   "outputs": [],
   "source": [
    "from metrics.load_expl import nc_load_graphs"
   ]
  },
  {
   "cell_type": "code",
   "execution_count": 20,
   "id": "53bb30dc",
   "metadata": {},
   "outputs": [
    {
     "name": "stdout",
     "output_type": "stream",
     "text": [
      "1.000 ,0.000 ,1.000 ,1.000 \n"
     ]
    }
   ],
   "source": [
    "dataset = \"BAShapes\"\n",
    "model_architecture = \"GCN\"\n",
    "expl = \"cam\"\n",
    "MODE = \"train\"\n",
    "\n",
    "gnn_num_layers = { #basd on the hyper-params of networks\n",
    "    \"GCN\": 3,\n",
    "    \"GraphSAGE\": 2,\n",
    "    \"GIN\": 3,\n",
    "    \"Cheb\": 2\n",
    "}\n",
    "\n",
    "graphs = nc_load_graphs(DATASET=dataset,\n",
    "                 MODEL=model_architecture,\n",
    "                 EXPL=expl,\n",
    "                 MODE=MODE,\n",
    "                 verbose=True,\n",
    "                 lamb=0.001,\n",
    "                 normalize=True)"
   ]
  },
  {
   "cell_type": "markdown",
   "id": "e403e86f",
   "metadata": {},
   "source": [
    "Note that each graph contains attribution scores for all nodes in the graph (for convenience). Typically, nodes outside the n-hop neighborhood will have 0 score"
   ]
  },
  {
   "cell_type": "code",
   "execution_count": 15,
   "id": "86a8f065",
   "metadata": {},
   "outputs": [
    {
     "name": "stdout",
     "output_type": "stream",
     "text": [
      "dict_keys([0, 1, 2, 3, 4, 5, 6, 7, 8, 9, 10, 11, 12, 13, 14, 15, 16, 17, 18, 19, 20, 21, 22, 23, 24, 25, 26, 27, 28, 29, 30, 31, 32, 33, 34, 35, 36, 37, 38, 39, 40, 41, 42, 43, 44, 45, 46, 47, 48, 49, 50, 51, 52, 53, 54, 55, 56, 57, 58, 59, 60, 61, 62, 63, 64, 65, 66, 67, 68, 69, 70, 71, 72, 73, 74, 75, 76, 77, 78, 79, 80, 81, 82, 83, 84, 85, 86, 87, 88, 89, 90, 91, 92, 93, 94, 95, 96, 97, 98, 99, 100, 101, 102, 103, 104, 105, 106, 107, 108, 109, 110, 111, 112, 113, 114, 115, 116, 117, 118, 119, 120, 121, 122, 123, 124, 125, 126, 127, 128, 129, 130, 131, 132, 133, 134, 135, 136, 137, 138, 139, 140, 141, 142, 143, 144, 145, 146, 147, 148, 149, 150, 151, 152, 153, 154, 155, 156, 157, 158, 159, 160, 161, 162, 163, 164, 165, 166, 167, 168, 169, 170, 171, 172, 173, 174, 175, 176, 177, 178, 179, 180, 181, 182, 183, 184, 185, 186, 187, 188, 189, 190, 191, 192, 193, 194, 195, 196, 197, 198, 199, 200, 201, 202, 203, 204, 205, 206, 207, 208, 209, 210, 211, 212, 213, 214, 215, 216, 217, 218, 219, 220, 221, 222, 223, 224, 225, 226, 227, 228, 229, 230, 231, 232, 233, 234, 235, 236, 237, 238, 239, 240, 241, 242, 243, 244, 245, 246, 247, 248, 249, 250, 251, 252, 253, 254, 255, 256, 257, 258, 259, 260, 261, 262, 263, 264, 265, 266, 267, 268, 269, 270, 271, 272, 273, 274, 275, 276, 277, 278, 279, 280, 281, 282, 283, 284, 285, 286, 287, 288, 289, 290, 291, 292, 293, 294, 295, 296, 297, 298, 299, 300, 301, 302, 303, 304, 305, 306, 307, 308, 309, 310, 311, 312, 313, 314, 315, 316, 317, 318, 319, 320, 321, 322, 323, 324, 325, 326, 327, 328, 329, 330, 331, 332, 333, 334, 335, 336, 337, 338, 339, 340, 341, 342, 343, 344, 345, 346, 347, 348, 349, 350, 351, 352, 353, 354, 355, 356, 357, 358, 359, 360, 361, 362, 363, 364, 365, 366, 367, 368, 369, 370, 371, 372, 373, 374, 375, 376, 377, 378, 379, 380, 381, 382, 383, 384, 385, 386, 387, 388, 389, 390, 391, 392, 393, 394, 395, 396, 397, 398, 399, 400, 401, 402, 403, 404, 405, 406, 407, 408, 409, 410, 411, 412, 413, 414, 415, 416, 417, 418, 419, 420, 421, 422, 423, 424, 425, 426, 427, 428, 429, 430, 431, 432, 433, 434, 435, 436, 437, 438, 439, 440, 441, 442, 443, 444, 445, 446, 447, 448, 449, 450, 451, 452, 453, 454, 455, 456, 457, 458, 459, 460, 461, 462, 463, 464, 465, 466, 467, 468, 469, 470, 471, 472, 473, 474, 475, 476, 477, 478, 479, 480, 481, 482, 483, 484, 485, 486, 487, 488, 489, 490, 491, 492, 493, 494, 495, 496, 497, 498, 499, 500, 501, 502, 503, 504, 505, 506, 507, 508, 509, 510, 511, 512, 513, 514, 515, 516, 517, 518, 519, 520, 521, 522, 523, 524, 525, 526, 527, 528, 529, 530, 531, 532, 533, 534, 535, 536, 537, 538, 539, 540, 541, 542, 543, 544, 545, 546, 547, 548, 549, 550, 551, 552, 553, 554, 555, 556, 557, 558, 559, 560, 561, 562, 563, 564, 565, 566, 567, 568, 569, 570, 571, 572, 573, 574, 575, 576, 577, 578, 579, 580, 581, 582, 583, 584, 585, 586, 587, 588, 589, 590, 591, 592, 593, 594, 595, 596, 597, 598, 599, 600, 601, 602, 603, 604, 605, 606, 607, 608, 609, 610, 611, 612, 613, 614, 615, 616, 617, 618, 619, 620, 621, 622, 623, 624, 625, 626, 627, 628, 629, 630, 631, 632, 633, 634, 635, 636, 637, 638, 639, 640, 641, 642, 643, 644, 645, 646, 647, 648, 649, 650, 651, 652, 653, 654, 655, 656, 657, 658, 659, 660, 661, 662, 663, 664, 665, 666, 667, 668, 669, 670, 671, 672, 673, 674, 675, 676, 677, 678, 679, 680, 681, 682, 683, 684, 685, 686, 687, 688, 689, 690, 691, 692, 693, 694, 695, 696, 697, 698, 699])\n"
     ]
    },
    {
     "data": {
      "image/png": "[encoded data removed]",
      "text/plain": [
       "<Figure size 432x288 with 1 Axes>"
      ]
     },
     "metadata": {
      "needs_background": "light"
     },
     "output_type": "display_data"
    }
   ],
   "source": [
    "g = graphs[0][0]\n",
    "\n",
    "print(nx.get_node_attributes(g,\"node_imp\").keys())\n",
    "plt.hist((nx.get_node_attributes(g,\"node_imp\").values()));"
   ]
  },
  {
   "cell_type": "markdown",
   "id": "2f0604b1",
   "metadata": {},
   "source": [
    "### plausibility on GRID"
   ]
  },
  {
   "cell_type": "code",
   "execution_count": 16,
   "id": "7595fd25",
   "metadata": {},
   "outputs": [],
   "source": [
    "from metrics.plausibility import get_shapes_plausibility"
   ]
  },
  {
   "cell_type": "code",
   "execution_count": 26,
   "id": "d3990637",
   "metadata": {},
   "outputs": [
    {
     "name": "stdout",
     "output_type": "stream",
     "text": [
      "[nan, nan, 0.6844768517311876, 0.3106133060320009]\n"
     ]
    }
   ],
   "source": [
    "plausibility_per_class = get_shapes_plausibility(graphs, gnn_num_layers[model_architecture]) \n",
    "print(plausibility_per_class)"
   ]
  },
  {
   "cell_type": "markdown",
   "id": "f0e92254",
   "metadata": {},
   "source": [
    "### Sufficiency"
   ]
  },
  {
   "cell_type": "code",
   "execution_count": null,
   "id": "99cc578e",
   "metadata": {},
   "outputs": [],
   "source": []
  },
  {
   "cell_type": "code",
   "execution_count": 29,
   "id": "7568c8d6",
   "metadata": {},
   "outputs": [],
   "source": [
    "from metrics.NC_F1_fidelity import build_expl , compute_fidelity\n",
    "from models.models_BAShapes import GCN_framework as framework\n",
    "from torch_geometric.datasets import BAShapes"
   ]
  },
  {
   "cell_type": "code",
   "execution_count": null,
   "id": "b62b7619",
   "metadata": {},
   "outputs": [],
   "source": [
    "gcn , graphs = build_expl(dataset,model_architecture,BAShapes,framework,expl=expl)\n",
    "        \n",
    "for c in range(len(graphs.keys())):\n",
    "    if not graphs[c] == None:\n",
    "        suf = compute_fidelity(gcn, graphs, y=c)\n",
    "    else:\n",
    "        suf = float(\"nan\")\n",
    "\n",
    "    print(\"Suff. class {} = {:.3f}\".format(c, suf))"
   ]
  },
  {
   "cell_type": "code",
   "execution_count": null,
   "id": "18a373b4",
   "metadata": {},
   "outputs": [],
   "source": []
  },
  {
   "cell_type": "code",
   "execution_count": 44,
   "id": "bda91c65",
   "metadata": {},
   "outputs": [
    {
     "name": "stdout",
     "output_type": "stream",
     "text": [
      "models/BA_2grid_GCN\n",
      "Test Loss: 0.003, Train Acc: 0.994 Test Acc: 0.998\n"
     ]
    }
   ],
   "source": [
    "gcn,graphs = build_expl(DATASET,MODEL,dataset_fun,framework,expl=expl,MODE=MODE)\n",
    "\n",
    "suf1, comp1 = compute_fidelity(gcn,graphs,y=1,color=False)\n",
    "suf0, comp0 = compute_fidelity(gcn,graphs,y=0,color=False)"
   ]
  },
  {
   "cell_type": "code",
   "execution_count": 46,
   "id": "4fae74e2",
   "metadata": {},
   "outputs": [
    {
     "name": "stdout",
     "output_type": "stream",
     "text": [
      "f1 class 0 : 0.34425428130625607\n",
      "f1 class 1 : 0.7225875146072238\n"
     ]
    }
   ],
   "source": [
    "f1_1 = 2*(((1-suf1) * (comp1))/((1-suf1) + (comp1)))\n",
    "f1_0 = 2*(((1-suf0) * (comp0))/((1-suf0) + (comp0)))\n",
    "\n",
    "print(\"f1 class 0 :\", f1_0)\n",
    "print(\"f1 class 1 :\", f1_1)"
   ]
  }
 ],
 "metadata": {
  "kernelspec": {
   "display_name": "Python 3 (ipykernel)",
   "language": "python",
   "name": "python3"
  },
  "language_info": {
   "codemirror_mode": {
    "name": "ipython",
    "version": 3
   },
   "file_extension": ".py",
   "mimetype": "text/x-python",
   "name": "python",
   "nbconvert_exporter": "python",
   "pygments_lexer": "ipython3",
   "version": "3.9.12"
  }
 },
 "nbformat": 4,
 "nbformat_minor": 5
}
