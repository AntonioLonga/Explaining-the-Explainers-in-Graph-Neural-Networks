{
 "cells": [
  {
   "cell_type": "code",
   "execution_count": 1,
   "id": "684b54d2",
   "metadata": {},
   "outputs": [],
   "source": [
    "import numpy as np\n",
    "import networkx as nx\n",
    "import matplotlib.pyplot as plt\n",
    "import os\n",
    "\n",
    "%load_ext autoreload\n",
    "%autoreload 2"
   ]
  },
  {
   "attachments": {},
   "cell_type": "markdown",
   "id": "7575010a",
   "metadata": {},
   "source": [
    "# Shapes\n",
    "\n",
    "(Shapes is an abbreviation to the more complete BAShapes dataset)"
   ]
  },
  {
   "cell_type": "code",
   "execution_count": 2,
   "id": "cc666449",
   "metadata": {},
   "outputs": [],
   "source": [
    "from metrics.load_expl import nc_load_graphs"
   ]
  },
  {
   "cell_type": "code",
   "execution_count": 25,
   "id": "53bb30dc",
   "metadata": {},
   "outputs": [
    {
     "name": "stdout",
     "output_type": "stream",
     "text": [
      "0.996 ,1.000 ,1.000 ,1.000 \n"
     ]
    }
   ],
   "source": [
    "dataset = \"Infection\"\n",
    "model_architecture = \"GCN\"\n",
    "expl = \"rgexpl\"\n",
    "MODE = \"train\"\n",
    "\n",
    "gnn_num_layers = { #based on the hyper-params of networks\n",
    "    \"GCN\": 3,\n",
    "    \"GraphSAGE\": 2,\n",
    "    \"GIN\": 3,\n",
    "    \"Cheb\": 2\n",
    "}\n",
    "\n",
    "graphs = nc_load_graphs(DATASET=dataset,\n",
    "                 MODEL=model_architecture,\n",
    "                 EXPL=expl,\n",
    "                 MODE=MODE,\n",
    "                 verbose=True,\n",
    "                 lamb=0.001,\n",
    "                 raw=False,\n",
    "                 normalize=True)"
   ]
  },
  {
   "cell_type": "code",
   "execution_count": null,
   "id": "dea60da4",
   "metadata": {},
   "outputs": [],
   "source": [
    "# G = graphs[1][586]\n",
    "\n",
    "# color_map = []\n",
    "# for node in G:\n",
    "#     if nx.get_node_attributes(G, \"node_imp\")[node] > 0:\n",
    "#         color_map.append('red')\n",
    "#     else: \n",
    "#         color_map.append('blue')      \n",
    "\n",
    "# plt.figure(figsize=(15,15))\n",
    "# nx.draw(G, node_size=30, with_labels=True, node_color=color_map)\n",
    "\n",
    "# nans = np.isnan(list(nx.get_node_attributes(G,\"node_imp\").values()))\n",
    "# print(np.where(nans)[0])\n",
    "# print(len(G.edges()))"
   ]
  },
  {
   "attachments": {},
   "cell_type": "markdown",
   "id": "e403e86f",
   "metadata": {},
   "source": [
    "Note that each graph contains attribution scores for all nodes in the graph (for convenience). Typically, nodes outside the n-hop neighborhood will have 0 score"
   ]
  },
  {
   "cell_type": "code",
   "execution_count": null,
   "id": "86a8f065",
   "metadata": {},
   "outputs": [],
   "source": [
    "# g = graphs[0][0]\n",
    "\n",
    "# print(nx.get_node_attributes(g,\"node_imp\").keys())\n",
    "# print(nx.get_node_attributes(g,\"node_imp\").values())\n",
    "# print(nx.get_node_attributes(g,\"node_imp_norm\").values())\n",
    "# print(np.any(np.array(list(nx.get_node_attributes(g,\"node_imp\").values())) == np.nan))\n",
    "# plt.hist((nx.get_node_attributes(g,\"node_imp\").values()));"
   ]
  },
  {
   "attachments": {},
   "cell_type": "markdown",
   "id": "2f0604b1",
   "metadata": {},
   "source": [
    "### plausibility on SHAPES"
   ]
  },
  {
   "cell_type": "code",
   "execution_count": 3,
   "id": "7595fd25",
   "metadata": {},
   "outputs": [],
   "source": [
    "from metrics.plausibility import get_shapes_plausibility"
   ]
  },
  {
   "cell_type": "code",
   "execution_count": null,
   "id": "d3990637",
   "metadata": {},
   "outputs": [],
   "source": [
    "dataset = \"Infection\"\n",
    "model_architecture = \"GCN\"\n",
    "expl = \"rgexpl\"\n",
    "MODE = \"train\"\n",
    "\n",
    "graphs = nc_load_graphs(DATASET=dataset,\n",
    "                 MODEL=model_architecture,\n",
    "                 EXPL=expl,\n",
    "                 MODE=MODE,\n",
    "                 verbose=True,\n",
    "                 lamb=0.001,\n",
    "                 raw=False,\n",
    "                 normalize=True)\n",
    "\n",
    "plausibility_per_class = get_shapes_plausibility(graphs, gnn_num_layers[model_architecture]) \n",
    "print(plausibility_per_class)"
   ]
  },
  {
   "attachments": {},
   "cell_type": "markdown",
   "id": "7a306057",
   "metadata": {},
   "source": [
    "Results for RGExplainer\n",
    "GIN: [nan, 0.622484504512572, 0.8944852292768959, 0.9747826086956521]\n",
    "GCN: [nan, nan, nan, nan]\n",
    "Cheb: [nan, 0.9754359217816235, 0.9942622950819672, 0.9857142857142858]\n",
    "SAGE: [nan, 0.7863072064942769, 0.8179687500000001, 0.70625]"
   ]
  },
  {
   "attachments": {},
   "cell_type": "markdown",
   "id": "f0e92254",
   "metadata": {},
   "source": [
    "### Sufficiency"
   ]
  },
  {
   "cell_type": "code",
   "execution_count": 27,
   "id": "7568c8d6",
   "metadata": {},
   "outputs": [],
   "source": [
    "from metrics.NC_F1_fidelity import build_expl , compute_fidelity\n",
    "from models.models_BAShapes import GraphSAGE_framework as framework\n",
    "from torch_geometric.datasets import BAShapes"
   ]
  },
  {
   "cell_type": "code",
   "execution_count": 28,
   "id": "b62b7619",
   "metadata": {},
   "outputs": [
    {
     "name": "stdout",
     "output_type": "stream",
     "text": [
      "Suff. class 0 = 0.909\n",
      "Suff. class 1 = 0.675\n",
      "Suff. class 2 = -0.008\n",
      "Suff. class 3 = 0.874\n"
     ]
    }
   ],
   "source": [
    "gcn , graphs = build_expl(dataset,model_architecture,BAShapes,framework,expl=expl)\n",
    "        \n",
    "for c in range(len(graphs.keys())):\n",
    "    if not graphs[c] == None:\n",
    "        suf = compute_fidelity(gcn, graphs, y=c)\n",
    "    else:\n",
    "        suf = float(\"nan\")\n",
    "\n",
    "    print(\"Suff. class {} = {:.3f}\".format(c, suf))"
   ]
  },
  {
   "cell_type": "code",
   "execution_count": null,
   "id": "18a373b4",
   "metadata": {},
   "outputs": [],
   "source": []
  },
  {
   "cell_type": "code",
   "execution_count": 17,
   "id": "bda91c65",
   "metadata": {},
   "outputs": [
    {
     "ename": "NameError",
     "evalue": "name 'DATASET' is not defined",
     "output_type": "error",
     "traceback": [
      "\u001b[0;31m---------------------------------------------------------------------------\u001b[0m",
      "\u001b[0;31mNameError\u001b[0m                                 Traceback (most recent call last)",
      "\u001b[1;32m/home/azzolin/Explaining-the-Explainers-in-Graph-Neural-Networks/[NC] Evaluating Explanations.ipynb Cell 18\u001b[0m in \u001b[0;36m<cell line: 1>\u001b[0;34m()\u001b[0m\n\u001b[0;32m----> <a href='vscode-notebook-cell://ssh-remote%2B7b22686f73744e616d65223a2231302e3139362e33362e3636222c2275736572223a22617a7a6f6c696e227d/home/azzolin/Explaining-the-Explainers-in-Graph-Neural-Networks/%5BNC%5D%20Evaluating%20Explanations.ipynb#X23sdnNjb2RlLXJlbW90ZQ%3D%3D?line=0'>1</a>\u001b[0m gcn,graphs \u001b[39m=\u001b[39m build_expl(DATASET,MODEL,dataset_fun,framework,expl\u001b[39m=\u001b[39mexpl,MODE\u001b[39m=\u001b[39mMODE)\n\u001b[1;32m      <a href='vscode-notebook-cell://ssh-remote%2B7b22686f73744e616d65223a2231302e3139362e33362e3636222c2275736572223a22617a7a6f6c696e227d/home/azzolin/Explaining-the-Explainers-in-Graph-Neural-Networks/%5BNC%5D%20Evaluating%20Explanations.ipynb#X23sdnNjb2RlLXJlbW90ZQ%3D%3D?line=2'>3</a>\u001b[0m suf1, comp1 \u001b[39m=\u001b[39m compute_fidelity(gcn,graphs,y\u001b[39m=\u001b[39m\u001b[39m1\u001b[39m,color\u001b[39m=\u001b[39m\u001b[39mFalse\u001b[39;00m)\n\u001b[1;32m      <a href='vscode-notebook-cell://ssh-remote%2B7b22686f73744e616d65223a2231302e3139362e33362e3636222c2275736572223a22617a7a6f6c696e227d/home/azzolin/Explaining-the-Explainers-in-Graph-Neural-Networks/%5BNC%5D%20Evaluating%20Explanations.ipynb#X23sdnNjb2RlLXJlbW90ZQ%3D%3D?line=3'>4</a>\u001b[0m suf0, comp0 \u001b[39m=\u001b[39m compute_fidelity(gcn,graphs,y\u001b[39m=\u001b[39m\u001b[39m0\u001b[39m,color\u001b[39m=\u001b[39m\u001b[39mFalse\u001b[39;00m)\n",
      "\u001b[0;31mNameError\u001b[0m: name 'DATASET' is not defined"
     ]
    }
   ],
   "source": [
    "gcn,graphs = build_expl(datset, model, dataset_fun,framework,expl=expl,MODE=MODE)\n",
    "\n",
    "suf1, comp1 = compute_fidelity(gcn,graphs,y=1,color=False)\n",
    "suf0, comp0 = compute_fidelity(gcn,graphs,y=0,color=False)"
   ]
  },
  {
   "cell_type": "code",
   "execution_count": 46,
   "id": "4fae74e2",
   "metadata": {},
   "outputs": [
    {
     "name": "stdout",
     "output_type": "stream",
     "text": [
      "f1 class 0 : 0.34425428130625607\n",
      "f1 class 1 : 0.7225875146072238\n"
     ]
    }
   ],
   "source": [
    "f1_1 = 2*(((1-suf1) * (comp1))/((1-suf1) + (comp1)))\n",
    "f1_0 = 2*(((1-suf0) * (comp0))/((1-suf0) + (comp0)))\n",
    "\n",
    "print(\"f1 class 0 :\", f1_0)\n",
    "print(\"f1 class 1 :\", f1_1)"
   ]
  }
 ],
 "metadata": {
  "kernelspec": {
   "display_name": "Python 3 (ipykernel)",
   "language": "python",
   "name": "python3"
  },
  "language_info": {
   "codemirror_mode": {
    "name": "ipython",
    "version": 3
   },
   "file_extension": ".py",
   "mimetype": "text/x-python",
   "name": "python",
   "nbconvert_exporter": "python",
   "pygments_lexer": "ipython3",
   "version": "3.9.12"
  }
 },
 "nbformat": 4,
 "nbformat_minor": 5
}
