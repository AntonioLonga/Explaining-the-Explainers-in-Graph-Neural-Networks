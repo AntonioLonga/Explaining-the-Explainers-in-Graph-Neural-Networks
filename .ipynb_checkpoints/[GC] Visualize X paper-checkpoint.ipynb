{
 "cells": [
  {
   "cell_type": "markdown",
   "id": "fe5aceb2",
   "metadata": {},
   "source": [
    "# Visualize\n",
    "\n"
   ]
  },
  {
   "cell_type": "code",
   "execution_count": 1,
   "id": "93dd0b8b",
   "metadata": {
    "scrolled": true
   },
   "outputs": [
    {
     "name": "stderr",
     "output_type": "stream",
     "text": [
      "/tmp/ipykernel_42889/2313208493.py:6: DeprecationWarning: Importing display from IPython.core.display is deprecated since IPython 7.14, please import from IPython display\n",
      "  from IPython.core.display import display, HTML\n"
     ]
    },
    {
     "data": {
      "text/html": [
       "<style>#notebook { padding-top:0px !important; } .container { width:100% !important;ù } .end_space { min-heig§ht:0px !important; } </style>"
      ],
      "text/plain": [
       "<IPython.core.display.HTML object>"
      ]
     },
     "metadata": {},
     "output_type": "display_data"
    }
   ],
   "source": [
    "import numpy as np\n",
    "import networkx as nx\n",
    "import matplotlib.pyplot as plt\n",
    "import os\n",
    "\n",
    "from IPython.core.display import display, HTML\n",
    "display(HTML(\n",
    "    '<style>'\n",
    "        '#notebook { padding-top:0px !important; } ' \n",
    "        '.container { width:100% !important;ù } '\n",
    "        '.end_space { min-heig§ht:0px !important; } '\n",
    "    '</style>'\n",
    "))\n",
    "%load_ext autoreload\n",
    "%autoreload 2"
   ]
  },
  {
   "cell_type": "code",
   "execution_count": null,
   "id": "18509c88",
   "metadata": {},
   "outputs": [],
   "source": [
    "pip install --upgrade networkx"
   ]
  },
  {
   "cell_type": "code",
   "execution_count": 2,
   "id": "404f974e",
   "metadata": {},
   "outputs": [
    {
     "data": {
      "text/plain": [
       "'3.1'"
      ]
     },
     "execution_count": 2,
     "metadata": {},
     "output_type": "execute_result"
    }
   ],
   "source": [
    "nx.__version__"
   ]
  },
  {
   "cell_type": "markdown",
   "id": "df898580",
   "metadata": {},
   "source": [
    "# rq1"
   ]
  },
  {
   "cell_type": "code",
   "execution_count": null,
   "id": "d824655f",
   "metadata": {},
   "outputs": [],
   "source": [
    "from metrics.load_expl import load_graphs"
   ]
  },
  {
   "cell_type": "code",
   "execution_count": null,
   "id": "e9d63eb0",
   "metadata": {},
   "outputs": [],
   "source": [
    "dataset = \"BA_2grid\"\n",
    "MODELS = [\"GCN\"]\n",
    "GT_len = 9\n",
    "\n",
    "da_plottare = dict()\n",
    "tmp = []\n",
    "for MODE in [\"train\"]:\n",
    "    print(\"\\t\\t\\t\\t\\t\",MODE)\n",
    "    for model_architecture in MODELS:\n",
    "        print(model_architecture)\n",
    "        if model_architecture == \"GIN\":\n",
    "            EXPLs = [\"cam\",\"grad_cam\",\"guided_bp\",\"ig_node\",\"grad_exp\",\"pgmexplainer\",\"-\",\"-\",\"gnnexpl\",\"pgexpl\"]\n",
    "        elif model_architecture == \"Cheb\":\n",
    "            EXPLs = [\"cam\",\"grad_cam\",\"guided_bp\",\"ig_node\",\"grad_exp\",\"pgmexplainer\",\"sal_edge\",\"ig_edge\",\"-\",\"pgexpl\"]\n",
    "        else:\n",
    "            EXPLs = [\"cam\",\"grad_cam\",\"guided_bp\",\"ig_node\",\"grad_exp\",\"pgmexplainer\",\"sal_edge\",\"ig_edge\",\"gnnexpl\",\"pgexpl\"]\n",
    "        \n",
    "        for expl in EXPLs:\n",
    "            if expl == \"-\":\n",
    "                print(\"- , -\")\n",
    "            else:\n",
    "                graphs = load_graphs(DATASET=dataset,\n",
    "                                 MODEL=model_architecture,\n",
    "                                 EXPL=expl,\n",
    "                                 MODE=MODE,\n",
    "                                 verbose=True,\n",
    "                                 lamb=0.001,\n",
    "                                 normalize=True)\n",
    "                \n",
    "                da_plottare[expl] = graphs[1]\n",
    "                    "
   ]
  },
  {
   "cell_type": "code",
   "execution_count": null,
   "id": "d931e010",
   "metadata": {},
   "outputs": [],
   "source": [
    "p = 31\n",
    "g = da_plottare[\"cam\"][p]\n",
    "pos = nx.spring_layout(g,seed=10)\n",
    "nx.draw(g,pos)"
   ]
  },
  {
   "cell_type": "code",
   "execution_count": null,
   "id": "aaefad09",
   "metadata": {},
   "outputs": [],
   "source": [
    "nx.__version__"
   ]
  },
  {
   "cell_type": "code",
   "execution_count": null,
   "id": "cc94174c",
   "metadata": {},
   "outputs": [],
   "source": []
  },
  {
   "cell_type": "code",
   "execution_count": null,
   "id": "e88e35f6",
   "metadata": {},
   "outputs": [],
   "source": [
    "nx.draw_networkx(g,pos)"
   ]
  },
  {
   "cell_type": "code",
   "execution_count": null,
   "id": "5addf820",
   "metadata": {},
   "outputs": [],
   "source": [
    "def my_plot(g,title=None,pos=None,ax=None):\n",
    "    node_impo = nx.get_node_attributes(g,\"node_imp_norm\")\n",
    "    if not ax == None:\n",
    "        ax.set_title(title)\n",
    "    nx.draw_networkx(g,pos,ax,node_color=list(node_impo.values()), cmap=plt.cm.Reds,node_size=50,edgecolors=\"gray\")\n",
    "    \n",
    "def my_plot_edge(g,title=None,pos=None,ax=None):\n",
    "    if not ax == None:\n",
    "        ax.set_title(title)\n",
    "    colors = list(nx.get_edge_attributes(g,\"edge_imp\").values())\n",
    "    options = {\n",
    "        \"node_color\":\"#cccccc\",\n",
    "        \"edge_color\": colors,\n",
    "        \"width\": 2,\n",
    "        \"edge_cmap\": plt.cm.Reds,\n",
    "        \"with_labels\": False,\n",
    "        \"node_size\":25    }\n",
    "    #nodes = nx.draw_networkx_nodes(g, pos)\n",
    "    #nodes.set_edgecolor('red')\n",
    "    nx.draw_networkx(g,pos,ax,**options)\n",
    "    #plt.show()"
   ]
  },
  {
   "cell_type": "code",
   "execution_count": null,
   "id": "fb3f2213",
   "metadata": {},
   "outputs": [],
   "source": [
    "[\"cam\",\"grad_cam\",\"guided_bp\",\"ig_node\",\"grad_exp\",\"pgmexplainer\",\"sal_edge\",\"ig_edge\",\"gnnexpl\",\"pgexpl\"]\n",
    "fig, ax = plt.subplots(1,10,figsize=(20,2))\n",
    "my_plot(da_plottare[\"cam\"][p],title=\"CAM\",pos=pos,ax=ax[0])\n",
    "my_plot(da_plottare[\"grad_cam\"][p],title=\"Grad.CAM\",pos=pos,ax=ax[1])\n",
    "my_plot(da_plottare[\"guided_bp\"][p],title=\"Guid.BP\",pos=pos,ax=ax[2])\n",
    "my_plot(da_plottare[\"ig_node\"][p],title=\"IG (n)\",pos=pos,ax=ax[3])\n",
    "my_plot(da_plottare[\"grad_exp\"][p],title=\"Grad.Exp\",pos=pos,ax=ax[4])\n",
    "my_plot(da_plottare[\"pgmexplainer\"][p],title=\"PGMExp\",pos=pos,ax=ax[5])\n",
    "my_plot_edge(da_plottare[\"sal_edge\"][p],title=\"Sal\",pos=pos,ax=ax[6])\n",
    "my_plot_edge(da_plottare[\"ig_edge\"][p],title=\"IG (e)\",pos=pos,ax=ax[7])\n",
    "my_plot_edge(da_plottare[\"gnnexpl\"][p],title=\"GNNExp\",pos=pos,ax=ax[8])\n",
    "my_plot_edge(da_plottare[\"pgexpl\"][p],title=\"PGExp\",pos=pos,ax=ax[9])\n",
    "\n",
    "#plt.savefig(\"paper/TABELLINE_X_PAPER/grafi/BA2grid_GCN_1.pdf\")"
   ]
  },
  {
   "cell_type": "code",
   "execution_count": null,
   "id": "83226f09",
   "metadata": {},
   "outputs": [],
   "source": [
    "\n"
   ]
  },
  {
   "cell_type": "code",
   "execution_count": null,
   "id": "4e59f611",
   "metadata": {},
   "outputs": [],
   "source": []
  },
  {
   "cell_type": "code",
   "execution_count": null,
   "id": "3ef9c00f",
   "metadata": {},
   "outputs": [],
   "source": [
    "dataset = \"BA_2grid_house\"\n",
    "MODELS = [\"GCN\"]#,\"GIN\",\"Cheb\",\"Set2Set\",\"HO\"] \n",
    "da_plottare = dict()\n",
    "tmp = []\n",
    "for MODE in [\"test\"]:\n",
    "    print(\"\\t\\t\\t\\t\\t\",MODE)\n",
    "    for model_architecture in MODELS:\n",
    "        print(model_architecture)\n",
    "        if model_architecture == \"GIN\":\n",
    "            EXPLs = [\"cam\",\"grad_cam\",\"guided_bp\",\"ig_node\",\"grad_exp\",\"pgmexplainer\",\"-\",\"-\",\"gnnexpl\",\"pgexpl\"]\n",
    "        elif model_architecture == \"Cheb\":\n",
    "            EXPLs = [\"cam\",\"grad_cam\",\"guided_bp\",\"ig_node\",\"grad_exp\",\"pgmexplainer\",\"sal_edge\",\"ig_edge\",\"-\",\"pgexpl\"]\n",
    "        else:\n",
    "            EXPLs = [\"cam\",\"grad_cam\",\"guided_bp\",\"ig_node\",\"grad_exp\",\"pgmexplainer\",\"sal_edge\",\"ig_edge\",\"gnnexpl\",\"pgexpl\"]\n",
    "            \n",
    "        for expl in EXPLs:\n",
    "            if expl == \"-\":\n",
    "                print(\"- , -\")\n",
    "            else:\n",
    "                graphs = load_graphs(DATASET=dataset,\n",
    "                                 MODEL=model_architecture,\n",
    "                                 EXPL=expl,\n",
    "                                 MODE=MODE,\n",
    "                                 verbose=True,\n",
    "                                 lamb=0.001,\n",
    "                                 normalize=True)\n",
    "                \n",
    "                da_plottare[expl] = graphs[1]"
   ]
  },
  {
   "cell_type": "code",
   "execution_count": null,
   "id": "b6397614",
   "metadata": {},
   "outputs": [],
   "source": [
    "graphs[1].keys()"
   ]
  },
  {
   "cell_type": "code",
   "execution_count": null,
   "id": "2542f888",
   "metadata": {},
   "outputs": [],
   "source": [
    "g = graphs[1][6]\n",
    "\n",
    "nx.draw(g,with_labels=True)"
   ]
  },
  {
   "cell_type": "code",
   "execution_count": null,
   "id": "1b006b0a",
   "metadata": {},
   "outputs": [],
   "source": [
    "n_grid = list(g.nodes())[-9:]\n",
    "n_house = list(g.nodes())[-14:-9]\n",
    "\n",
    "n_grid\n",
    "edges_grid = list(nx.subgraph(g,n_grid).edges())\n",
    "edges_house = list(nx.subgraph(g,n_house).edges())"
   ]
  },
  {
   "cell_type": "code",
   "execution_count": null,
   "id": "e9e12ab7",
   "metadata": {},
   "outputs": [],
   "source": []
  },
  {
   "cell_type": "code",
   "execution_count": null,
   "id": "1ae2aa13",
   "metadata": {},
   "outputs": [],
   "source": [
    "len(edges_grid),len(edges_house)"
   ]
  },
  {
   "cell_type": "code",
   "execution_count": null,
   "id": "dd823f87",
   "metadata": {},
   "outputs": [],
   "source": [
    "p = 51\n",
    "g = da_plottare[\"cam\"][p]\n",
    "pos = nx.spring_layout(g)"
   ]
  },
  {
   "cell_type": "code",
   "execution_count": null,
   "id": "7d996ce9",
   "metadata": {},
   "outputs": [],
   "source": [
    "nx.draw(g,pos)"
   ]
  },
  {
   "cell_type": "code",
   "execution_count": null,
   "id": "8089921a",
   "metadata": {},
   "outputs": [],
   "source": [
    "[\"cam\",\"grad_cam\",\"guided_bp\",\"ig_node\",\"grad_exp\",\"pgmexplainer\",\"sal_edge\",\"ig_edge\",\"gnnexpl\",\"pgexpl\"]\n",
    "fig, ax = plt.subplots(1,10,figsize=(20,2))\n",
    "my_plot(g,title=\"CAM\",pos=pos,ax=ax[0])\n",
    "my_plot(da_plottare[\"grad_cam\"][p],title=\"Grad.CAM\",pos=pos,ax=ax[1])\n",
    "my_plot(da_plottare[\"guided_bp\"][p],title=\"Guid.BP\",pos=pos,ax=ax[2])\n",
    "my_plot(da_plottare[\"ig_node\"][p],title=\"IG (n)\",pos=pos,ax=ax[3])\n",
    "my_plot(da_plottare[\"grad_exp\"][p],title=\"Grad.Exp\",pos=pos,ax=ax[4])\n",
    "my_plot(da_plottare[\"pgmexplainer\"][p],title=\"PGMExp\",pos=pos,ax=ax[5])\n",
    "my_plot_edge(da_plottare[\"sal_edge\"][p],title=\"Sal\",pos=pos,ax=ax[6])\n",
    "my_plot_edge(da_plottare[\"ig_edge\"][p],title=\"IG (e)\",pos=pos,ax=ax[7])\n",
    "my_plot_edge(da_plottare[\"gnnexpl\"][p],title=\"GNNExp\",pos=pos,ax=ax[8])\n",
    "my_plot_edge(da_plottare[\"pgexpl\"][p],title=\"PGExp\",pos=pos,ax=ax[9])\n",
    "\n",
    "plt.savefig(\"paper/TABELLINE_X_PAPER/grafi/BA2gridhouse_GCN_1.pdf\")"
   ]
  },
  {
   "cell_type": "code",
   "execution_count": null,
   "id": "c10cd3d6",
   "metadata": {},
   "outputs": [],
   "source": []
  },
  {
   "cell_type": "code",
   "execution_count": null,
   "id": "e5f3ca2f",
   "metadata": {},
   "outputs": [],
   "source": []
  },
  {
   "cell_type": "code",
   "execution_count": null,
   "id": "a68c0cba",
   "metadata": {},
   "outputs": [],
   "source": []
  },
  {
   "cell_type": "code",
   "execution_count": null,
   "id": "3309d698",
   "metadata": {},
   "outputs": [],
   "source": [
    "dataset = \"ER_nb_stars2\"\n",
    "MODELS = [\"GCN\"]#,\"GIN\",\"Cheb\",\"Set2Set\",\"HO\"] \n",
    "\n",
    "da_plottare = dict()\n",
    "tmp = []\n",
    "for MODE in [\"train\"]:\n",
    "    print(\"\\t\\t\\t\\t\\t\",MODE)\n",
    "    for model_architecture in MODELS:\n",
    "        print(model_architecture)\n",
    "        if model_architecture == \"GIN\":\n",
    "            EXPLs = [\"cam\",\"grad_cam\",\"guided_bp\",\"ig_node\",\"grad_exp\",\"pgmexplainer\",\"-\",\"-\",\"gnnexpl\",\"pgexpl\"]\n",
    "        elif model_architecture == \"Cheb\":\n",
    "            EXPLs = [\"cam\",\"grad_cam\",\"guided_bp\",\"ig_node\",\"grad_exp\",\"pgmexplainer\",\"sal_edge\",\"ig_edge\",\"-\",\"pgexpl\"]\n",
    "        else:\n",
    "            EXPLs = [\"cam\",\"grad_cam\",\"guided_bp\",\"ig_node\",\"grad_exp\",\"pgmexplainer\",\"sal_edge\",\"ig_edge\",\"gnnexpl\",\"pgexpl\"]\n",
    "            \n",
    "        for expl in EXPLs:\n",
    "            if expl == \"-\":\n",
    "                print(\"- , -\")\n",
    "            else:\n",
    "                graphs = load_graphs(DATASET=dataset,\n",
    "                                 MODEL=model_architecture,\n",
    "                                 EXPL=expl,\n",
    "                                 MODE=MODE,\n",
    "                                 verbose=True,\n",
    "                                 lamb=0.001,\n",
    "                                 normalize=True)\n",
    "                da_plottare[expl] = graphs[1]"
   ]
  },
  {
   "cell_type": "code",
   "execution_count": null,
   "id": "6f50232f",
   "metadata": {},
   "outputs": [],
   "source": [
    "p = 60\n",
    "g = da_plottare[\"cam\"][p]\n",
    "pos = nx.spring_layout(g)"
   ]
  },
  {
   "cell_type": "code",
   "execution_count": null,
   "id": "bb816aa2",
   "metadata": {},
   "outputs": [],
   "source": [
    "nx.draw(g,pos)"
   ]
  },
  {
   "cell_type": "code",
   "execution_count": null,
   "id": "d5190407",
   "metadata": {},
   "outputs": [],
   "source": [
    "[\"cam\",\"grad_cam\",\"guided_bp\",\"ig_node\",\"grad_exp\",\"pgmexplainer\",\"sal_edge\",\"ig_edge\",\"gnnexpl\",\"pgexpl\"]\n",
    "fig, ax = plt.subplots(1,10,figsize=(20,2))\n",
    "my_plot(g,title=\"CAM\",pos=pos,ax=ax[0])\n",
    "my_plot(da_plottare[\"grad_cam\"][p],title=\"Grad.CAM\",pos=pos,ax=ax[1])\n",
    "my_plot(da_plottare[\"guided_bp\"][p],title=\"Guid.BP\",pos=pos,ax=ax[2])\n",
    "my_plot(da_plottare[\"ig_node\"][p],title=\"IG (n)\",pos=pos,ax=ax[3])\n",
    "my_plot(da_plottare[\"grad_exp\"][p],title=\"Grad.Exp\",pos=pos,ax=ax[4])\n",
    "my_plot(da_plottare[\"pgmexplainer\"][p],title=\"PGMExp\",pos=pos,ax=ax[5])\n",
    "my_plot_edge(da_plottare[\"sal_edge\"][p],title=\"Sal\",pos=pos,ax=ax[6])\n",
    "my_plot_edge(da_plottare[\"ig_edge\"][p],title=\"IG (e)\",pos=pos,ax=ax[7])\n",
    "my_plot_edge(da_plottare[\"gnnexpl\"][p],title=\"GNNExp\",pos=pos,ax=ax[8])\n",
    "my_plot_edge(da_plottare[\"pgexpl\"][p],title=\"PGExp\",pos=pos,ax=ax[9])\n",
    "\n",
    "plt.savefig(\"paper/TABELLINE_X_PAPER/grafi/ERnbstars_GCN_1.pdf\")"
   ]
  },
  {
   "cell_type": "markdown",
   "id": "2a5c2c0e",
   "metadata": {},
   "source": [
    "### ba house color"
   ]
  },
  {
   "cell_type": "code",
   "execution_count": null,
   "id": "160ad779",
   "metadata": {},
   "outputs": [],
   "source": [
    "from metrics.load_expl import load_graphs\n",
    "from metrics.plausibility import load_gt_BA_houses_color,get_plausibility_houses_color\n",
    "\n",
    "\n",
    "dataset = \"BA_houses_color\"\n",
    "MODELS = [\"GCN\"] \n",
    "GT_len = 9\n",
    "explainers = []\n",
    "res_dict = dict()\n",
    "da_plottare = dict()\n",
    "    \n",
    "for MODE in [\"train\"]:\n",
    "    print(\"\\t\\t\\t\\t\\t\",MODE)\n",
    "    for model_architecture in MODELS:\n",
    "        print(model_architecture)\n",
    "        if model_architecture == \"GIN\":\n",
    "            EXPLs = [\"cam\",\"grad_cam\",\"guided_bp\",\"ig_node\",\"grad_exp\",\"pgmexplainer\",\"-\",\"-\",\"gnnexpl\",\"pgexpl\"]\n",
    "        elif model_architecture == \"Cheb\":\n",
    "            EXPLs = [\"cam\",\"grad_cam\",\"guided_bp\",\"ig_node\",\"grad_exp\",\"pgmexplainer\",\"sal_edge\",\"ig_edge\",\"-\",\"pgexpl\"]\n",
    "        elif model_architecture == \"GAT\":\n",
    "            EXPLs = [\"cam\",\"grad_cam\",\"guided_bp\",\"ig_node\",\"grad_exp\",\"pgmexplainer\",\"-\",\"-\",\"gnnexpl\",\"pgexpl\"]\n",
    "        elif model_architecture == \"SAGE\":\n",
    "            EXPLs = [\"cam\",\"grad_cam\",\"guided_bp\",\"ig_node\",\"grad_exp\",\"pgmexplainer\",\"-\",\"-\",\"gnnexpl\",\"pgexpl\"]\n",
    "        else:\n",
    "            EXPLs = [\"cam\",\"grad_cam\",\"guided_bp\",\"ig_node\",\"grad_exp\",\"pgmexplainer\",\"sal_edge\",\"ig_edge\",\"gnnexpl\",\"pgexpl\"]\n",
    "            \n",
    "        for expl in EXPLs:\n",
    "            if expl == \"-\":\n",
    "                print(\"- , -\",\"-\")\n",
    "            else:\n",
    "                graphs = load_graphs(DATASET=dataset,\n",
    "                                 MODEL=model_architecture,\n",
    "                                 EXPL=expl,\n",
    "                                 MODE=MODE,\n",
    "                                 verbose=True,\n",
    "                                 lamb=0.001,\n",
    "                                 normalize=True)\n",
    "                graphs = load_gt_BA_houses_color(graphs,train=True)\n",
    "                \n",
    "                da_plottare[expl] = graphs[0]"
   ]
  },
  {
   "cell_type": "code",
   "execution_count": null,
   "id": "5a49a592",
   "metadata": {},
   "outputs": [],
   "source": []
  },
  {
   "cell_type": "code",
   "execution_count": null,
   "id": "73d2f9af",
   "metadata": {},
   "outputs": [],
   "source": []
  },
  {
   "cell_type": "code",
   "execution_count": null,
   "id": "4f3f565d",
   "metadata": {},
   "outputs": [],
   "source": []
  },
  {
   "cell_type": "code",
   "execution_count": null,
   "id": "29b57e85",
   "metadata": {},
   "outputs": [],
   "source": []
  },
  {
   "cell_type": "code",
   "execution_count": null,
   "id": "50f49b38",
   "metadata": {},
   "outputs": [],
   "source": []
  },
  {
   "cell_type": "code",
   "execution_count": null,
   "id": "d5a5daa8",
   "metadata": {},
   "outputs": [],
   "source": [
    "p = 61\n",
    "g = da_plottare[\"gnnexpl\"][p]\n",
    "pos = nx.spring_layout(g)\n",
    "GT = []\n",
    "for i,j in nx.get_node_attributes(g,\"GT\").items():\n",
    "    if j == 1:\n",
    "        GT.append(i)\n",
    "        \n",
    "GT"
   ]
  },
  {
   "cell_type": "code",
   "execution_count": null,
   "id": "77fac8e4",
   "metadata": {},
   "outputs": [],
   "source": [
    "nx.draw(nx.subgraph(g,GT),pos=pos,node_color=\"blue\")\n",
    "my_plot_edge(da_plottare[\"gnnexpl\"][p],title=\"GNNExp\",pos=pos)"
   ]
  },
  {
   "cell_type": "code",
   "execution_count": null,
   "id": "90d3ebde",
   "metadata": {},
   "outputs": [],
   "source": [
    "nx.draw(nx.subgraph(g,GT),pos=pos,node_color=\"blue\")\n",
    "my_plot(da_plottare[\"cam\"][p],title=\"IG (n)\",pos=pos,)"
   ]
  },
  {
   "cell_type": "code",
   "execution_count": null,
   "id": "c67db36b",
   "metadata": {},
   "outputs": [],
   "source": [
    "[\"cam\",\"grad_cam\",\"guided_bp\",\"ig_node\",\"grad_exp\",\"pgmexplainer\",\"sal_edge\",\"ig_edge\",\"gnnexpl\",\"pgexpl\"]\n",
    "fig, ax = plt.subplots(1,10,figsize=(20,2))\n",
    "my_plot(g,title=\"CAM\",pos=pos,ax=ax[0])\n",
    "my_plot(da_plottare[\"grad_cam\"][p],title=\"Grad.CAM\",pos=pos,ax=ax[1])\n",
    "\n",
    "if da_plottare[\"guided_bp\"] != None:\n",
    "    my_plot(da_plottare[\"guided_bp\"][p],title=\"Guid.BP\",pos=pos,ax=ax[2])\n",
    "    \n",
    "if da_plottare[\"ig_node\"] != None:\n",
    "    my_plot(da_plottare[\"ig_node\"][p],title=\"IG (n)\",pos=pos,ax=ax[3])\n",
    "my_plot(da_plottare[\"grad_exp\"][p],title=\"Grad.Exp\",pos=pos,ax=ax[4])\n",
    "my_plot(da_plottare[\"pgmexplainer\"][p],title=\"PGMExp\",pos=pos,ax=ax[5])\n",
    "my_plot_edge(da_plottare[\"sal_edge\"][p],title=\"Sal\",pos=pos,ax=ax[6])\n",
    "my_plot_edge(da_plottare[\"ig_edge\"][p],title=\"IG (e)\",pos=pos,ax=ax[7])\n",
    "my_plot_edge(da_plottare[\"gnnexpl\"][p],title=\"GNNExp\",pos=pos,ax=ax[8])\n",
    "    \n",
    "if da_plottare[\"pgexpl\"] != None:\n",
    "    my_plot_edge(da_plottare[\"pgexpl\"][p],title=\"PGExp\",pos=pos,ax=ax[9])\n",
    "\n",
    "plt.savefig(\"paper/TABELLINE_X_PAPER/grafi/BA2housescolor_GCN_0.pdf\")"
   ]
  },
  {
   "cell_type": "markdown",
   "id": "61985e06",
   "metadata": {},
   "source": [
    "# rq2"
   ]
  },
  {
   "cell_type": "code",
   "execution_count": null,
   "id": "1e87934d",
   "metadata": {},
   "outputs": [],
   "source": [
    "def my_plot(g,title=None,pos=None,ax=None):\n",
    "    node_impo = nx.get_node_attributes(g,\"node_imp_norm\")\n",
    "    if not ax == None:\n",
    "        ax.set_title(title)\n",
    "    nx.draw(g,pos,ax,node_color=list(node_impo.values()), cmap=plt.cm.Reds,node_size=50,edgecolors=\"gray\")\n",
    "    \n",
    "def my_plot_edge(g,title=None,pos=None,ax=None):\n",
    "    if not ax == None:\n",
    "        ax.set_title(title)\n",
    "    colors = list(nx.get_edge_attributes(g,\"edge_imp\").values())\n",
    "    options = {\n",
    "        \"node_color\":\"#cccccc\",\n",
    "        \"edge_color\": colors,\n",
    "        \"width\": 2,\n",
    "        \"edge_cmap\": plt.cm.Reds,\n",
    "        \"with_labels\": False,\n",
    "        \"node_size\":25    }\n",
    "    #nodes = nx.draw_networkx_nodes(g, pos)\n",
    "    #nodes.set_edgecolor('red')\n",
    "    nx.draw(g,pos,ax,**options)\n",
    "    #plt.show()\n",
    "    "
   ]
  },
  {
   "cell_type": "markdown",
   "id": "1784f7d5",
   "metadata": {},
   "source": [
    "# BA2 grid"
   ]
  },
  {
   "cell_type": "code",
   "execution_count": null,
   "id": "c55519a1",
   "metadata": {
    "scrolled": true
   },
   "outputs": [],
   "source": [
    "explainer = \"sal_edge\" \n",
    "#explainer = \"ig_edge\"\n",
    "#explainer = \"pgexpl\"\n",
    "dataset = \"BA_2grid\"\n",
    "MODELS = [\"GCN\",\"-\",\"Cheb\",\"Set2Set\",\"HO\"] \n",
    "GT_len = 9\n",
    "da_plottare = dict()\n",
    "tmp = []\n",
    "for MODE in [\"train\"]:\n",
    "    print(\"\\t\\t\\t\\t\\t\",MODE)\n",
    "    for model_architecture in MODELS:\n",
    "        if not model_architecture == \"-\":\n",
    "            print(model_architecture)\n",
    "            graphs = load_graphs(DATASET=dataset,\n",
    "                             MODEL=model_architecture,\n",
    "                             EXPL=explainer,\n",
    "                             MODE=MODE,\n",
    "                             verbose=True,\n",
    "                             lamb=0.001,\n",
    "                             normalize=True)\n",
    "\n",
    "            da_plottare[model_architecture] = graphs[1]\n",
    "        else:\n",
    "            da_plottare[model_architecture] = \"\"\n",
    "                    "
   ]
  },
  {
   "cell_type": "code",
   "execution_count": null,
   "id": "9ba6b0a5",
   "metadata": {},
   "outputs": [],
   "source": [
    "p = 50\n",
    "g = da_plottare[\"Set2Set\"][p]\n",
    "pos = nx.spring_layout(g)"
   ]
  },
  {
   "cell_type": "code",
   "execution_count": null,
   "id": "3b7772f2",
   "metadata": {},
   "outputs": [],
   "source": [
    "nx.draw(g,pos)"
   ]
  },
  {
   "cell_type": "code",
   "execution_count": null,
   "id": "ad824eed",
   "metadata": {},
   "outputs": [],
   "source": []
  },
  {
   "cell_type": "code",
   "execution_count": null,
   "id": "6ec45b54",
   "metadata": {},
   "outputs": [],
   "source": [
    "[\"cam\",\"grad_cam\",\"guided_bp\",\"ig_node\",\"grad_exp\",\"pgmexplainer\",\"sal_edge\",\"ig_edge\",\"gnnexpl\",\"pgexpl\"]\n",
    "fig, ax = plt.subplots(1,5,figsize=(15,2))\n",
    "my_plot_edge(da_plottare[\"GCN\"][p],title=\"GCN\",pos=pos,ax=ax[0])\n",
    "my_plot_edge(da_plottare[\"Cheb\"][p],title=\"Cheb\",pos=pos,ax=ax[2])\n",
    "my_plot_edge(da_plottare[\"Set2Set\"][p],title=\"Set2Set\",pos=pos,ax=ax[3])\n",
    "my_plot_edge(da_plottare[\"HO\"][p],title=\"HO\",pos=pos,ax=ax[4])\n",
    "plt.savefig(\"paper/TABELLINE_X_PAPER/grafi/BA2grid_sal_1_rq2.pdf\")"
   ]
  },
  {
   "cell_type": "markdown",
   "id": "64c6724b",
   "metadata": {},
   "source": [
    "# BA2 grid house"
   ]
  },
  {
   "cell_type": "code",
   "execution_count": null,
   "id": "0cb018b9",
   "metadata": {},
   "outputs": [],
   "source": [
    "explainer = \"sal_edge\" \n",
    "#explainer = \"ig_edge\"\n",
    "#explainer = \"pgexpl\"\n",
    "dataset = \"BA_2grid_house\"\n",
    "MODELS = [\"GCN\",\"-\",\"Cheb\",\"Set2Set\",\"HO\"] \n",
    "GT_len = 9\n",
    "da_plottare = dict()\n",
    "tmp = []\n",
    "for MODE in [\"train\"]:\n",
    "    print(\"\\t\\t\\t\\t\\t\",MODE)\n",
    "    for model_architecture in MODELS:\n",
    "        if not model_architecture == \"-\":\n",
    "            print(model_architecture)\n",
    "            graphs = load_graphs(DATASET=dataset,\n",
    "                             MODEL=model_architecture,\n",
    "                             EXPL=explainer,\n",
    "                             MODE=MODE,\n",
    "                             verbose=True,\n",
    "                             lamb=0.001,\n",
    "                             normalize=True)\n",
    "\n",
    "            da_plottare[model_architecture] = graphs[1]\n",
    "        else:\n",
    "            da_plottare[model_architecture] = \"\"\n",
    "                    "
   ]
  },
  {
   "cell_type": "code",
   "execution_count": null,
   "id": "e641a786",
   "metadata": {},
   "outputs": [],
   "source": [
    "p = 1212\n",
    "g = da_plottare[\"Set2Set\"][p]\n",
    "pos = nx.spring_layout(g)"
   ]
  },
  {
   "cell_type": "code",
   "execution_count": null,
   "id": "4dd303ec",
   "metadata": {},
   "outputs": [],
   "source": [
    "nx.draw(g,pos)"
   ]
  },
  {
   "cell_type": "code",
   "execution_count": null,
   "id": "10bb04a3",
   "metadata": {},
   "outputs": [],
   "source": [
    "fig, ax = plt.subplots(1,5,figsize=(15,2))\n",
    "my_plot_edge(da_plottare[\"GCN\"][p],title=\"GCN\",pos=pos,ax=ax[0])\n",
    "my_plot_edge(da_plottare[\"Cheb\"][p],title=\"Cheb\",pos=pos,ax=ax[2])\n",
    "my_plot_edge(da_plottare[\"Set2Set\"][p],title=\"Set2Set\",pos=pos,ax=ax[3])\n",
    "my_plot_edge(da_plottare[\"HO\"][p],title=\"HO\",pos=pos,ax=ax[4])\n",
    "plt.savefig(\"paper/TABELLINE_X_PAPER/grafi/BA2grid_house_sal_1_rq2.pdf\")"
   ]
  },
  {
   "cell_type": "markdown",
   "id": "64a8ebb7",
   "metadata": {},
   "source": [
    "# er nb stars"
   ]
  },
  {
   "cell_type": "code",
   "execution_count": null,
   "id": "6d6ac29b",
   "metadata": {},
   "outputs": [],
   "source": [
    "explainer = \"sal_edge\" \n",
    "#explainer = \"ig_edge\"\n",
    "#explainer = \"pgexpl\"\n",
    "dataset = \"ER_nb_stars2\"\n",
    "MODELS = [\"GCN\",\"-\",\"Cheb\",\"Set2Set\",\"HO\"] \n",
    "da_plottare = dict()\n",
    "tmp = []\n",
    "for MODE in [\"train\"]:\n",
    "    print(\"\\t\\t\\t\\t\\t\",MODE)\n",
    "    for model_architecture in MODELS:\n",
    "        if not model_architecture == \"-\":\n",
    "            print(model_architecture)\n",
    "            graphs = load_graphs(DATASET=dataset,\n",
    "                             MODEL=model_architecture,\n",
    "                             EXPL=explainer,\n",
    "                             MODE=MODE,\n",
    "                             verbose=True,\n",
    "                             lamb=0.001,\n",
    "                             normalize=True)\n",
    "\n",
    "            da_plottare[model_architecture] = graphs[1]\n",
    "        else:\n",
    "            da_plottare[model_architecture] = \"\"\n",
    "                    "
   ]
  },
  {
   "cell_type": "code",
   "execution_count": null,
   "id": "5b01ebba",
   "metadata": {},
   "outputs": [],
   "source": [
    "p = 104\n",
    "g = da_plottare[\"Set2Set\"][p]\n",
    "pos = nx.spring_layout(g)"
   ]
  },
  {
   "cell_type": "code",
   "execution_count": null,
   "id": "84a97805",
   "metadata": {},
   "outputs": [],
   "source": [
    "nx.draw(g,pos)"
   ]
  },
  {
   "cell_type": "code",
   "execution_count": null,
   "id": "f58895b8",
   "metadata": {},
   "outputs": [],
   "source": [
    "fig, ax = plt.subplots(1,5,figsize=(15,2))\n",
    "my_plot_edge(da_plottare[\"GCN\"][p],title=\"GCN\",pos=pos,ax=ax[0])\n",
    "my_plot_edge(da_plottare[\"Cheb\"][p],title=\"Cheb\",pos=pos,ax=ax[2])\n",
    "my_plot_edge(da_plottare[\"Set2Set\"][p],title=\"Set2Set\",pos=pos,ax=ax[3])\n",
    "my_plot_edge(da_plottare[\"HO\"][p],title=\"HO\",pos=pos,ax=ax[4])\n",
    "plt.savefig(\"paper/TABELLINE_X_PAPER/grafi/ER_nb_stars_sal_1_rq2.pdf\")"
   ]
  },
  {
   "cell_type": "markdown",
   "id": "65519908",
   "metadata": {},
   "source": [
    "# color"
   ]
  },
  {
   "cell_type": "code",
   "execution_count": null,
   "id": "a914312a",
   "metadata": {},
   "outputs": [],
   "source": []
  },
  {
   "cell_type": "code",
   "execution_count": null,
   "id": "07301cb7",
   "metadata": {},
   "outputs": [],
   "source": [
    "explainer = \"sal_edge\" \n",
    "#explainer = \"ig_edge\"\n",
    "#explainer = \"pgexpl\"\n",
    "dataset = \"BA_houses_color\"\n",
    "MODELS = [\"GCN\",\"-\",\"Cheb\",\"Set2Set\",\"HO\"] \n",
    "da_plottare = dict()\n",
    "tmp = []\n",
    "for MODE in [\"train\"]:\n",
    "    print(\"\\t\\t\\t\\t\\t\",MODE)\n",
    "    for model_architecture in MODELS:\n",
    "        if not model_architecture == \"-\":\n",
    "            print(model_architecture)\n",
    "            graphs = load_graphs(DATASET=dataset,\n",
    "                             MODEL=model_architecture,\n",
    "                             EXPL=explainer,\n",
    "                             MODE=MODE,\n",
    "                             verbose=True,\n",
    "                             lamb=0.001,\n",
    "                             normalize=True)\n",
    "\n",
    "            da_plottare[model_architecture] = graphs[1]\n",
    "        else:\n",
    "            da_plottare[model_architecture] = \"\"\n",
    "                    "
   ]
  },
  {
   "cell_type": "code",
   "execution_count": null,
   "id": "23fc028c",
   "metadata": {},
   "outputs": [],
   "source": [
    "p = 21\n",
    "g = da_plottare[\"Set2Set\"][p]\n",
    "pos = nx.spring_layout(g)"
   ]
  },
  {
   "cell_type": "code",
   "execution_count": null,
   "id": "e56e71b9",
   "metadata": {},
   "outputs": [],
   "source": [
    "nx.draw(g,pos)"
   ]
  },
  {
   "cell_type": "code",
   "execution_count": null,
   "id": "eb8f2c60",
   "metadata": {},
   "outputs": [],
   "source": [
    "fig, ax = plt.subplots(1,5,figsize=(15,2))\n",
    "my_plot_edge(da_plottare[\"GCN\"][p],title=\"GCN\",pos=pos,ax=ax[0])\n",
    "my_plot_edge(da_plottare[\"Cheb\"][p],title=\"Cheb\",pos=pos,ax=ax[2])\n",
    "my_plot_edge(da_plottare[\"Set2Set\"][p],title=\"Set2Set\",pos=pos,ax=ax[3])\n",
    "my_plot_edge(da_plottare[\"HO\"][p],title=\"HO\",pos=pos,ax=ax[4])\n",
    "plt.savefig(\"paper/TABELLINE_X_PAPER/grafi/colors_sal_1_rq2.pdf\")"
   ]
  },
  {
   "cell_type": "code",
   "execution_count": null,
   "id": "a27a1a20",
   "metadata": {},
   "outputs": [],
   "source": []
  },
  {
   "cell_type": "code",
   "execution_count": null,
   "id": "1a3a8608",
   "metadata": {},
   "outputs": [],
   "source": []
  },
  {
   "cell_type": "markdown",
   "id": "75babee5",
   "metadata": {},
   "source": [
    "# rq3"
   ]
  },
  {
   "cell_type": "code",
   "execution_count": null,
   "id": "719bb72f",
   "metadata": {},
   "outputs": [],
   "source": [
    "def my_plot(g,title=None,pos=None,ax=None):\n",
    "    node_impo = nx.get_node_attributes(g,\"node_imp_norm\")\n",
    "    if not ax == None:\n",
    "        ax.set_title(title)\n",
    "    nx.draw(g,pos,ax,node_color=list(node_impo.values()), cmap=plt.cm.Reds,node_size=50,edgecolors=\"gray\")\n",
    "    \n",
    "def my_plot_edge(g,title=None,pos=None,ax=None):\n",
    "    if not ax == None:\n",
    "        ax.set_title(title)\n",
    "    colors = list(nx.get_edge_attributes(g,\"edge_imp\").values())\n",
    "    options = {\n",
    "        \"node_color\":\"#cccccc\",\n",
    "        \"edge_color\": colors,\n",
    "        \"width\": 2,\n",
    "        \"edge_cmap\": plt.cm.Reds,\n",
    "        \"with_labels\": False,\n",
    "        \"node_size\":25    }\n",
    "    #nodes = nx.draw_networkx_nodes(g, pos)\n",
    "    #nodes.set_edgecolor('red')\n",
    "    nx.draw(g,pos,ax,**options)\n",
    "    #plt.show()\n",
    "    "
   ]
  },
  {
   "cell_type": "code",
   "execution_count": null,
   "id": "5740e4eb",
   "metadata": {},
   "outputs": [],
   "source": [
    "dataset = \"BA_2grid\"\n",
    "MODELS = [\"GCN\",\"-\",\"Cheb\",\"Set2Set\",\"HO\"] \n",
    "\n",
    "comb = [(\"GCN\",\"sal_edge\"),(\"GIN\",\"grad_cam\"),(\"Cheb\",\"pgexpl\"),(\"Set2Set\",\"pgexpl\"),(\"HO\",\"ig_edge\"),(\"MinCutPooling\",\"gnnexpl\")]\n",
    "GT_len = 9\n",
    "da_plottare = dict()\n",
    "tmp = []\n",
    "for MODE in [\"train\"]:\n",
    "    print(\"\\t\\t\\t\\t\\t\",MODE)\n",
    "    \n",
    "    for model_architecture,expl in comb:\n",
    "\n",
    "        graphs = load_graphs(DATASET=dataset,\n",
    "                         MODEL=model_architecture,\n",
    "                         EXPL=expl,\n",
    "                         MODE=MODE,\n",
    "                         verbose=True,\n",
    "                         lamb=0.001,\n",
    "                         normalize=True)\n",
    "        print(len(graphs[1]))\n",
    "        da_plottare[model_architecture] = (expl,graphs[1])             "
   ]
  },
  {
   "cell_type": "code",
   "execution_count": null,
   "id": "a35b144c",
   "metadata": {},
   "outputs": [],
   "source": [
    "for k,v in da_plottare[\"Set2Set\"][1].items():\n",
    "    print(k,len(v))"
   ]
  },
  {
   "cell_type": "code",
   "execution_count": null,
   "id": "b4dc13b1",
   "metadata": {},
   "outputs": [],
   "source": [
    "p = 741\n",
    "g = da_plottare[\"Set2Set\"][1][p]\n",
    "pos = nx.spring_layout(g)"
   ]
  },
  {
   "cell_type": "code",
   "execution_count": null,
   "id": "8d76b2a7",
   "metadata": {},
   "outputs": [],
   "source": [
    "nx.draw(g,pos)"
   ]
  },
  {
   "cell_type": "code",
   "execution_count": null,
   "id": "3062ab2f",
   "metadata": {},
   "outputs": [],
   "source": [
    "for i in [\"GCN\",\"GIN\",\"Cheb\",\"Set2Set\",\"HO\",\"MinCutPooling\"]:\n",
    "    print(i,nx.get_node_attributes(da_plottare[i][1][p],\"node_imp_norm\")[len(da_plottare[i][1][p])-1])"
   ]
  },
  {
   "cell_type": "code",
   "execution_count": null,
   "id": "5327e1e7",
   "metadata": {},
   "outputs": [],
   "source": [
    "fig, ax = plt.subplots(1,6,figsize=(18,2))\n",
    "my_plot_edge(da_plottare[\"GCN\"][1][p],title=da_plottare[\"GCN\"][0]+\"\\nGCN\",pos=pos,ax=ax[0])\n",
    "my_plot(da_plottare[\"GIN\"][1][p],title=da_plottare[\"GIN\"][0]+\"\\nGIN\",pos=pos,ax=ax[1])\n",
    "my_plot_edge(da_plottare[\"Cheb\"][1][p],title=da_plottare[\"Cheb\"][0]+\"\\nCheb\",pos=pos,ax=ax[2])\n",
    "my_plot_edge(da_plottare[\"Set2Set\"][1][p],title=da_plottare[\"Set2Set\"][0]+\"\\nSet2Set\",pos=pos,ax=ax[3])\n",
    "my_plot_edge(da_plottare[\"HO\"][1][p],title=da_plottare[\"HO\"][0]+\"\\nHO\",pos=pos,ax=ax[4])\n",
    "my_plot_edge(da_plottare[\"MinCutPooling\"][1][p],title=da_plottare[\"MinCutPooling\"][0]+\"\\nMinCutPooling\",pos=pos,ax=ax[5])\n",
    "plt.savefig(\"paper/TABELLINE_X_PAPER/grafi/ba_grid_rq3.pdf\")"
   ]
  },
  {
   "cell_type": "markdown",
   "id": "b06a6961",
   "metadata": {},
   "source": [
    "# Ba house grid 1"
   ]
  },
  {
   "cell_type": "code",
   "execution_count": null,
   "id": "4084bad8",
   "metadata": {},
   "outputs": [],
   "source": [
    "dataset = \"BA_2grid_house\"\n",
    "#\"grad_cam\"\n",
    "comb = [(\"GCN\",\"sal_edge\"),(\"GIN\",\"gnnexpl\"),(\"Cheb\",\"pgexpl\"),(\"Set2Set\",\"grad_cam\"),(\"HO\",\"ig_edge\"),(\"MinCutPooling\",\"pgexpl\")]\n",
    "GT_len = 9\n",
    "da_plottare = dict()\n",
    "tmp = []\n",
    "for MODE in [\"train\"]:\n",
    "    print(\"\\t\\t\\t\\t\\t\",MODE)\n",
    "    \n",
    "    for model_architecture,expl in comb:\n",
    "\n",
    "        graphs = load_graphs(DATASET=dataset,\n",
    "                         MODEL=model_architecture,\n",
    "                         EXPL=expl,\n",
    "                         MODE=MODE,\n",
    "                         verbose=True,\n",
    "                         lamb=0.001,\n",
    "                         normalize=True)\n",
    "        print(len(graphs[1]))\n",
    "        da_plottare[model_architecture] = (expl,graphs[1])   "
   ]
  },
  {
   "cell_type": "code",
   "execution_count": null,
   "id": "6bd7871e",
   "metadata": {},
   "outputs": [],
   "source": [
    "for k,v in da_plottare[\"Set2Set\"][1].items():\n",
    "    print(k,len(v))"
   ]
  },
  {
   "cell_type": "code",
   "execution_count": null,
   "id": "9381dbeb",
   "metadata": {},
   "outputs": [],
   "source": [
    "p = 1484\n",
    "g = da_plottare[\"Set2Set\"][1][p]\n",
    "pos = nx.spring_layout(g,seed=12)"
   ]
  },
  {
   "cell_type": "code",
   "execution_count": null,
   "id": "adfe0241",
   "metadata": {},
   "outputs": [],
   "source": [
    "pos[16]"
   ]
  },
  {
   "cell_type": "code",
   "execution_count": null,
   "id": "c2977224",
   "metadata": {},
   "outputs": [],
   "source": [
    "pos[18] = [0.4, (pos[17][1]+pos[16][1])/2]\n",
    "pos[17] = [pos[16][0], pos[14][1]]\n",
    "pos[15] = [pos[14][0], pos[16][1]]"
   ]
  },
  {
   "cell_type": "code",
   "execution_count": null,
   "id": "cd2152ce",
   "metadata": {},
   "outputs": [],
   "source": [
    "nx.draw(g,pos,with_labels=True)"
   ]
  },
  {
   "cell_type": "code",
   "execution_count": null,
   "id": "afdf3283",
   "metadata": {},
   "outputs": [],
   "source": [
    "fig, ax = plt.subplots(1,6,figsize=(18,2))\n",
    "my_plot_edge(da_plottare[\"GCN\"][1][p],title=da_plottare[\"GCN\"][0]+\"\\nGCN\",pos=pos,ax=ax[0])\n",
    "my_plot_edge(da_plottare[\"GIN\"][1][p],title=da_plottare[\"GIN\"][0]+\"\\nGIN\",pos=pos,ax=ax[1])\n",
    "my_plot_edge(da_plottare[\"Cheb\"][1][p],title=da_plottare[\"Cheb\"][0]+\"\\nCheb\",pos=pos,ax=ax[2])\n",
    "my_plot(da_plottare[\"Set2Set\"][1][p],title=da_plottare[\"Set2Set\"][0]+\"\\nSet2Set\",pos=pos,ax=ax[3])\n",
    "my_plot_edge(da_plottare[\"HO\"][1][p],title=da_plottare[\"HO\"][0]+\"\\nHO\",pos=pos,ax=ax[4])\n",
    "my_plot_edge(da_plottare[\"MinCutPooling\"][1][p],title=da_plottare[\"MinCutPooling\"][0]+\"\\nMinCutPooling\",pos=pos,ax=ax[5])\n",
    "plt.savefig(\"paper/TABELLINE_X_PAPER/grafi/ba_grid_house_rq3_1.pdf\")"
   ]
  },
  {
   "cell_type": "markdown",
   "id": "f9b9fd2d",
   "metadata": {},
   "source": [
    "# BA 2grid house 0"
   ]
  },
  {
   "cell_type": "code",
   "execution_count": null,
   "id": "3b85f04b",
   "metadata": {},
   "outputs": [],
   "source": [
    "dataset = \"BA_2grid_house\"\n",
    "#\"grad_cam\"\n",
    "comb = [(\"GCN\",\"grad_exp\"),(\"GIN\",\"gnnexpl\"),(\"Cheb\",\"pgexpl\"),(\"Set2Set\",\"grad_cam\"),(\"HO\",\"sal_edge\"),(\"MinCutPooling\",\"pgexpl\")]\n",
    "GT_len = 9\n",
    "da_plottare = dict()\n",
    "tmp = []\n",
    "for MODE in [\"train\"]:\n",
    "    print(\"\\t\\t\\t\\t\\t\",MODE)\n",
    "    \n",
    "    for model_architecture,expl in comb:\n",
    "\n",
    "        graphs = load_graphs(DATASET=dataset,\n",
    "                         MODEL=model_architecture,\n",
    "                         EXPL=expl,\n",
    "                         MODE=MODE,\n",
    "                         verbose=True,\n",
    "                         lamb=0.001,\n",
    "                         normalize=True)\n",
    "        print(len(graphs[0]))\n",
    "        da_plottare[model_architecture] = (expl,graphs[0])   "
   ]
  },
  {
   "cell_type": "code",
   "execution_count": null,
   "id": "f7ef227f",
   "metadata": {},
   "outputs": [],
   "source": [
    "for k,v in da_plottare[\"Set2Set\"][1].items():\n",
    "    print(k,len(v))"
   ]
  },
  {
   "cell_type": "code",
   "execution_count": null,
   "id": "d97ee5b9",
   "metadata": {},
   "outputs": [],
   "source": [
    "p = 1318\n",
    "g = da_plottare[\"MinCutPooling\"][1][p]\n",
    "pos = nx.spring_layout(g,seed=10)"
   ]
  },
  {
   "cell_type": "code",
   "execution_count": null,
   "id": "a8d559c9",
   "metadata": {},
   "outputs": [],
   "source": []
  },
  {
   "cell_type": "code",
   "execution_count": null,
   "id": "ea0c9513",
   "metadata": {},
   "outputs": [],
   "source": [
    "\n",
    "pos[24] = [pos[27][0],pos[25][1]]\n",
    "pos[26] = [pos[25][0],pos[27][1]]\n",
    "#pos[25] = [pos[22][0],pos[24][1]]#\n",
    "pos[28] = [(pos[27][0]+pos[26][0])/2,pos[26][1]+0.3]"
   ]
  },
  {
   "cell_type": "code",
   "execution_count": null,
   "id": "5cd4bdd9",
   "metadata": {},
   "outputs": [],
   "source": [
    "nx.draw(g,pos,with_labels=True)"
   ]
  },
  {
   "cell_type": "code",
   "execution_count": null,
   "id": "6dd88a12",
   "metadata": {},
   "outputs": [],
   "source": [
    "fig, ax = plt.subplots(1,6,figsize=(18,2))\n",
    "my_plot(da_plottare[\"GCN\"][1][p],title=da_plottare[\"GCN\"][0]+\"\\nGCN\",pos=pos,ax=ax[0])\n",
    "my_plot_edge(da_plottare[\"GIN\"][1][p],title=da_plottare[\"GIN\"][0]+\"\\nGIN\",pos=pos,ax=ax[1])\n",
    "my_plot_edge(da_plottare[\"Cheb\"][1][p],title=da_plottare[\"Cheb\"][0]+\"\\nCheb\",pos=pos,ax=ax[2])\n",
    "my_plot(da_plottare[\"Set2Set\"][1][p],title=da_plottare[\"Set2Set\"][0]+\"\\nSet2Set\",pos=pos,ax=ax[3])\n",
    "my_plot_edge(da_plottare[\"HO\"][1][p],title=da_plottare[\"HO\"][0]+\"\\nHO\",pos=pos,ax=ax[4])\n",
    "my_plot_edge(da_plottare[\"MinCutPooling\"][1][p],title=da_plottare[\"MinCutPooling\"][0]+\"\\nMinCutPooling\",pos=pos,ax=ax[5])\n",
    "plt.savefig(\"paper/TABELLINE_X_PAPER/grafi/ba_grid_house_rq3_0.pdf\")"
   ]
  },
  {
   "cell_type": "markdown",
   "id": "bcb3282f",
   "metadata": {},
   "source": [
    "# ER nb stars class 0"
   ]
  },
  {
   "cell_type": "code",
   "execution_count": null,
   "id": "6e828d9f",
   "metadata": {},
   "outputs": [],
   "source": [
    "dataset = \"ER_nb_stars2\"\n",
    "#\"grad_cam\"\n",
    "comb = [(\"GCN\",\"guided_bp\"),(\"GIN\",\"guided_bp\"),(\"Cheb\",\"sal_edge\"),(\"Set2Set\",\"ig_node\"),(\"HO\",\"sal_edge\"),(\"MinCutPooling\",\"guided_bp\")]\n",
    "GT_len = 9\n",
    "da_plottare = dict()\n",
    "tmp = []\n",
    "for MODE in [\"train\"]:\n",
    "    print(\"\\t\\t\\t\\t\\t\",MODE)\n",
    "    \n",
    "    for model_architecture,expl in comb:\n",
    "\n",
    "        graphs = load_graphs(DATASET=dataset,\n",
    "                         MODEL=model_architecture,\n",
    "                         EXPL=expl,\n",
    "                         MODE=MODE,\n",
    "                         verbose=True,\n",
    "                         lamb=0.001,\n",
    "                         normalize=True)\n",
    "        print(len(graphs[0]))\n",
    "        da_plottare[model_architecture] = (expl,graphs[0])   "
   ]
  },
  {
   "cell_type": "code",
   "execution_count": null,
   "id": "f2e79692",
   "metadata": {},
   "outputs": [],
   "source": [
    "for k,v in da_plottare[\"Set2Set\"][1].items():\n",
    "    print(k,len(v))"
   ]
  },
  {
   "cell_type": "code",
   "execution_count": null,
   "id": "5589066e",
   "metadata": {},
   "outputs": [],
   "source": [
    "p = 388\n",
    "g = da_plottare[\"MinCutPooling\"][1][p]\n",
    "pos = nx.spring_layout(g,seed=10)"
   ]
  },
  {
   "cell_type": "code",
   "execution_count": null,
   "id": "661f22ef",
   "metadata": {},
   "outputs": [],
   "source": [
    "nx.draw(g)"
   ]
  },
  {
   "cell_type": "code",
   "execution_count": null,
   "id": "e414656c",
   "metadata": {},
   "outputs": [],
   "source": [
    "fig, ax = plt.subplots(1,6,figsize=(18,2))\n",
    "my_plot(da_plottare[\"GCN\"][1][p],title=da_plottare[\"GCN\"][0]+\"\\nGCN\",pos=pos,ax=ax[0])\n",
    "my_plot(da_plottare[\"GIN\"][1][p],title=da_plottare[\"GIN\"][0]+\"\\nGIN\",pos=pos,ax=ax[1])\n",
    "my_plot_edge(da_plottare[\"Cheb\"][1][p],title=da_plottare[\"Cheb\"][0]+\"\\nCheb\",pos=pos,ax=ax[2])\n",
    "my_plot(da_plottare[\"Set2Set\"][1][p],title=da_plottare[\"Set2Set\"][0]+\"\\nSet2Set\",pos=pos,ax=ax[3])\n",
    "my_plot_edge(da_plottare[\"HO\"][1][p],title=da_plottare[\"HO\"][0]+\"\\nHO\",pos=pos,ax=ax[4])\n",
    "my_plot(da_plottare[\"MinCutPooling\"][1][p],title=da_plottare[\"MinCutPooling\"][0]+\"\\nMinCutPooling\",pos=pos,ax=ax[5])\n",
    "plt.savefig(\"paper/TABELLINE_X_PAPER/grafi/er_nb_stars_rq3_0.pdf\")"
   ]
  },
  {
   "cell_type": "markdown",
   "id": "3ac3582e",
   "metadata": {},
   "source": [
    "### er nb stars class 1"
   ]
  },
  {
   "cell_type": "code",
   "execution_count": null,
   "id": "4c978c6d",
   "metadata": {},
   "outputs": [],
   "source": [
    "dataset = \"ER_nb_stars2\"\n",
    "#\"grad_cam\"\n",
    "comb = [(\"GCN\",\"sal_edge\"),(\"GIN\",\"ig_node\"),(\"Cheb\",\"sal_edge\"),(\"Set2Set\",\"ig_edge\"),(\"HO\",\"sal_edge\"),(\"MinCutPooling\",\"ig_node\")]\n",
    "GT_len = 9\n",
    "da_plottare = dict()\n",
    "tmp = []\n",
    "for MODE in [\"train\"]:\n",
    "    print(\"\\t\\t\\t\\t\\t\",MODE)\n",
    "    \n",
    "    for model_architecture,expl in comb:\n",
    "\n",
    "        graphs = load_graphs(DATASET=dataset,\n",
    "                         MODEL=model_architecture,\n",
    "                         EXPL=expl,\n",
    "                         MODE=MODE,\n",
    "                         verbose=True,\n",
    "                         lamb=0.001,\n",
    "                         normalize=True)\n",
    "        print(len(graphs[1]))\n",
    "        da_plottare[model_architecture] = (expl,graphs[1])   "
   ]
  },
  {
   "cell_type": "code",
   "execution_count": null,
   "id": "ec868f90",
   "metadata": {},
   "outputs": [],
   "source": [
    "for k,v in da_plottare[\"MinCutPooling\"][1].items():\n",
    "    print(k,len(v))"
   ]
  },
  {
   "cell_type": "code",
   "execution_count": null,
   "id": "e53617e7",
   "metadata": {},
   "outputs": [],
   "source": [
    "p = 496\n",
    "g = da_plottare[\"MinCutPooling\"][1][p]\n",
    "pos = nx.spring_layout(g,seed=10)"
   ]
  },
  {
   "cell_type": "code",
   "execution_count": null,
   "id": "f701f964",
   "metadata": {},
   "outputs": [],
   "source": [
    "nx.draw(g,pos=pos)"
   ]
  },
  {
   "cell_type": "code",
   "execution_count": null,
   "id": "f7293094",
   "metadata": {},
   "outputs": [],
   "source": [
    "fig, ax = plt.subplots(1,6,figsize=(18,2))\n",
    "my_plot_edge(da_plottare[\"GCN\"][1][p],title=da_plottare[\"GCN\"][0]+\"\\nGCN\",pos=pos,ax=ax[0])\n",
    "my_plot(da_plottare[\"GIN\"][1][p],title=da_plottare[\"GIN\"][0]+\"\\nGIN\",pos=pos,ax=ax[1])\n",
    "my_plot_edge(da_plottare[\"Cheb\"][1][p],title=da_plottare[\"Cheb\"][0]+\"\\nCheb\",pos=pos,ax=ax[2])\n",
    "my_plot_edge(da_plottare[\"Set2Set\"][1][p],title=da_plottare[\"Set2Set\"][0]+\"\\nSet2Set\",pos=pos,ax=ax[3])\n",
    "my_plot_edge(da_plottare[\"HO\"][1][p],title=da_plottare[\"HO\"][0]+\"\\nHO\",pos=pos,ax=ax[4])\n",
    "my_plot(da_plottare[\"MinCutPooling\"][1][p],title=da_plottare[\"MinCutPooling\"][0]+\"\\nMinCutPooling\",pos=pos,ax=ax[5])\n",
    "plt.savefig(\"paper/TABELLINE_X_PAPER/grafi/er_nb_stars_rq3_1.pdf\")"
   ]
  },
  {
   "cell_type": "markdown",
   "id": "b7f8b236",
   "metadata": {},
   "source": [
    "### er nb stars class 2"
   ]
  },
  {
   "cell_type": "code",
   "execution_count": null,
   "id": "184fbbea",
   "metadata": {},
   "outputs": [],
   "source": [
    "dataset = \"ER_nb_stars2\"\n",
    "#\"grad_cam\"\n",
    "comb = [(\"GCN\",\"cam\"),(\"GIN\",\"cam\"),(\"Cheb\",\"ig_edge\"),(\"Set2Set\",\"pgexpl\"),(\"HO\",\"sal_edge\"),(\"MinCutPooling\",\"gnnexpl\")]\n",
    "GT_len = 9\n",
    "da_plottare = dict()\n",
    "tmp = []\n",
    "for MODE in [\"train\"]:\n",
    "    print(\"\\t\\t\\t\\t\\t\",MODE)\n",
    "    for model_architecture,expl in comb:\n",
    "\n",
    "        graphs = load_graphs(DATASET=dataset,\n",
    "                         MODEL=model_architecture,\n",
    "                         EXPL=expl,\n",
    "                         MODE=MODE,\n",
    "                         verbose=True,\n",
    "                         lamb=0.001,\n",
    "                         normalize=True)\n",
    "        print(len(graphs[2]))\n",
    "        da_plottare[model_architecture] = (expl,graphs[2])   "
   ]
  },
  {
   "cell_type": "code",
   "execution_count": null,
   "id": "41e5c969",
   "metadata": {},
   "outputs": [],
   "source": [
    "for k,v in da_plottare[\"MinCutPooling\"][1].items():\n",
    "    print(k,len(v))"
   ]
  },
  {
   "cell_type": "code",
   "execution_count": null,
   "id": "a817f2be",
   "metadata": {},
   "outputs": [],
   "source": [
    "p = 1155\n",
    "g = da_plottare[\"MinCutPooling\"][1][p]\n",
    "pos = nx.spring_layout(g,seed=140)"
   ]
  },
  {
   "cell_type": "code",
   "execution_count": null,
   "id": "53432188",
   "metadata": {},
   "outputs": [],
   "source": [
    "nx.draw(g,pos)"
   ]
  },
  {
   "cell_type": "code",
   "execution_count": null,
   "id": "7165408b",
   "metadata": {},
   "outputs": [],
   "source": [
    "fig, ax = plt.subplots(1,6,figsize=(18,2))\n",
    "my_plot(da_plottare[\"GCN\"][1][p],title=da_plottare[\"GCN\"][0]+\"\\nGCN\",pos=pos,ax=ax[0])\n",
    "my_plot(da_plottare[\"GIN\"][1][p],title=da_plottare[\"GIN\"][0]+\"\\nGIN\",pos=pos,ax=ax[1])\n",
    "my_plot_edge(da_plottare[\"Cheb\"][1][p],title=da_plottare[\"Cheb\"][0]+\"\\nCheb\",pos=pos,ax=ax[2])\n",
    "my_plot_edge(da_plottare[\"Set2Set\"][1][p],title=da_plottare[\"Set2Set\"][0]+\"\\nSet2Set\",pos=pos,ax=ax[3])\n",
    "my_plot_edge(da_plottare[\"HO\"][1][p],title=da_plottare[\"HO\"][0]+\"\\nHO\",pos=pos,ax=ax[4])\n",
    "my_plot_edge(da_plottare[\"MinCutPooling\"][1][p],title=da_plottare[\"MinCutPooling\"][0]+\"\\nMinCutPooling\",pos=pos,ax=ax[5])\n",
    "plt.savefig(\"paper/TABELLINE_X_PAPER/grafi/er_nb_stars_rq3_2.pdf\")"
   ]
  },
  {
   "cell_type": "markdown",
   "id": "e43dabb2",
   "metadata": {},
   "source": [
    "# ba house color"
   ]
  },
  {
   "cell_type": "code",
   "execution_count": null,
   "id": "bc37162c",
   "metadata": {},
   "outputs": [],
   "source": [
    "dataset = \"BA_houses_color\"\n",
    "#\"grad_cam\"\n",
    "comb = [(\"GCN\",\"pgmexplainer\"),(\"GIN\",\"gnnexpl\"),(\"Cheb\",\"sal_edge\"),(\"Set2Set\",\"pgexpl\"),\n",
    "        (\"HO\",\"ig_edge\"),(\"MinCutPooling\",\"guided_bp\"),(\"GAT\",\"cam\"),(\"SAGE\",\"gnnexpl\")]\n",
    "GT_len = 9\n",
    "da_plottare = dict()\n",
    "tmp = []\n",
    "for MODE in [\"train\"]:\n",
    "    print(\"\\t\\t\\t\\t\\t\",MODE)\n",
    "    \n",
    "    for model_architecture,expl in comb:\n",
    "\n",
    "        graphs = load_graphs(DATASET=dataset,\n",
    "                         MODEL=model_architecture,\n",
    "                         EXPL=expl,\n",
    "                         MODE=MODE,\n",
    "                         verbose=True,\n",
    "                         lamb=0.001,\n",
    "                         normalize=True)\n",
    "        print(len(graphs[1]))\n",
    "        da_plottare[model_architecture] = (expl,graphs[1])   "
   ]
  },
  {
   "cell_type": "code",
   "execution_count": null,
   "id": "771bf42d",
   "metadata": {},
   "outputs": [],
   "source": [
    "for k,v in da_plottare[\"MinCutPooling\"][1].items():\n",
    "    print(k,len(v))"
   ]
  },
  {
   "cell_type": "code",
   "execution_count": null,
   "id": "c56d6827",
   "metadata": {},
   "outputs": [],
   "source": [
    "p = 624\n",
    "g = da_plottare[\"MinCutPooling\"][1][p]\n",
    "pos = nx.spring_layout(g,seed=140)\n",
    "\n",
    "pos[51][1] = pos[51][1]+0.15\n",
    "pos[48][1] = pos[51][1]\n",
    "\n",
    "pos[52][1] = (pos[51][1] + pos[50][1])/2"
   ]
  },
  {
   "cell_type": "code",
   "execution_count": null,
   "id": "0e19ed27",
   "metadata": {},
   "outputs": [],
   "source": [
    "nx.draw(g,pos,with_labels=True)"
   ]
  },
  {
   "cell_type": "code",
   "execution_count": null,
   "id": "7b5e710b",
   "metadata": {},
   "outputs": [],
   "source": [
    "fig, ax = plt.subplots(1,8,figsize=(24,2))\n",
    "my_plot(da_plottare[\"GCN\"][1][p],title=da_plottare[\"GCN\"][0]+\"\\nGCN\",pos=pos,ax=ax[0])\n",
    "my_plot_edge(da_plottare[\"GIN\"][1][p],title=da_plottare[\"GIN\"][0]+\"\\nGIN\",pos=pos,ax=ax[1])\n",
    "my_plot_edge(da_plottare[\"Cheb\"][1][p],title=da_plottare[\"Cheb\"][0]+\"\\nCheb\",pos=pos,ax=ax[2])\n",
    "my_plot_edge(da_plottare[\"Set2Set\"][1][p],title=da_plottare[\"Set2Set\"][0]+\"\\nSet2Set\",pos=pos,ax=ax[3])\n",
    "my_plot_edge(da_plottare[\"HO\"][1][p],title=da_plottare[\"HO\"][0]+\"\\nHO\",pos=pos,ax=ax[4])\n",
    "my_plot(da_plottare[\"MinCutPooling\"][1][p],title=da_plottare[\"MinCutPooling\"][0]+\"\\nMinCutPooling\",pos=pos,ax=ax[5])\n",
    "my_plot(da_plottare[\"GAT\"][1][p],title=da_plottare[\"GAT\"][0]+\"\\nGAT\",pos=pos,ax=ax[6])\n",
    "my_plot_edge(da_plottare[\"SAGE\"][1][p],title=da_plottare[\"SAGE\"][0]+\"\\nSAGE\",pos=pos,ax=ax[7])\n",
    "plt.savefig(\"paper/TABELLINE_X_PAPER/grafi/houses_color_rq3_1.pdf\")"
   ]
  },
  {
   "cell_type": "code",
   "execution_count": null,
   "id": "7ef00528",
   "metadata": {},
   "outputs": [],
   "source": []
  },
  {
   "cell_type": "code",
   "execution_count": null,
   "id": "3eb23303",
   "metadata": {},
   "outputs": [],
   "source": [
    "dataset = \"BA_houses_color\"\n",
    "#\"grad_cam\"\n",
    "comb = [(\"GCN\",\"grad_cam\"),(\"GIN\",\"gnnexpl\"),(\"Cheb\",\"sal_edge\"),(\"Set2Set\",\"pgexpl\"),\n",
    "        (\"HO\",\"ig_edge\"),(\"MinCutPooling\",\"guided_bp\"),(\"GAT\",\"gnnexpl\"),(\"SAGE\",\"grad_cam\")]\n",
    "GT_len = 9\n",
    "da_plottare = dict()\n",
    "tmp = []\n",
    "for MODE in [\"train\"]:\n",
    "    print(\"\\t\\t\\t\\t\\t\",MODE)\n",
    "    \n",
    "    for model_architecture,expl in comb:\n",
    "\n",
    "        graphs = load_graphs(DATASET=dataset,\n",
    "                         MODEL=model_architecture,\n",
    "                         EXPL=expl,\n",
    "                         MODE=MODE,\n",
    "                         verbose=True,\n",
    "                         lamb=0.001,\n",
    "                         normalize=True)\n",
    "        print(len(graphs[0]))\n",
    "        da_plottare[model_architecture] = (expl,graphs[0])"
   ]
  },
  {
   "cell_type": "code",
   "execution_count": null,
   "id": "d313d840",
   "metadata": {},
   "outputs": [],
   "source": [
    "for k,v in da_plottare[\"MinCutPooling\"][1].items():\n",
    "    print(k,len(v))"
   ]
  },
  {
   "cell_type": "code",
   "execution_count": null,
   "id": "25af2d0f",
   "metadata": {},
   "outputs": [],
   "source": [
    "p = 99\n",
    "g = da_plottare[\"MinCutPooling\"][1][p]\n",
    "pos = nx.spring_layout(g,seed=150)\n",
    "\n",
    "pos[22][0] = pos[23][0]\n",
    "pos[22][1] = pos[22][1]+0.1\n",
    "\n",
    "pos[21][0] = pos[24][0]\n",
    "pos[21][1] = pos[22][1]\n",
    "\n",
    "pos[25][0] = (pos[23][0] + pos[24][0])/2"
   ]
  },
  {
   "cell_type": "code",
   "execution_count": null,
   "id": "e4f64a38",
   "metadata": {},
   "outputs": [],
   "source": [
    "nx.draw(g,pos,with_labels=True)"
   ]
  },
  {
   "cell_type": "code",
   "execution_count": null,
   "id": "3cb9112f",
   "metadata": {},
   "outputs": [],
   "source": [
    "fig, ax = plt.subplots(1,8,figsize=(24,2))\n",
    "my_plot(da_plottare[\"GCN\"][1][p],title=da_plottare[\"GCN\"][0]+\"\\nGCN\",pos=pos,ax=ax[0])\n",
    "my_plot_edge(da_plottare[\"GIN\"][1][p],title=da_plottare[\"GIN\"][0]+\"\\nGIN\",pos=pos,ax=ax[1])\n",
    "my_plot_edge(da_plottare[\"Cheb\"][1][p],title=da_plottare[\"Cheb\"][0]+\"\\nCheb\",pos=pos,ax=ax[2])\n",
    "my_plot_edge(da_plottare[\"Set2Set\"][1][p],title=da_plottare[\"Set2Set\"][0]+\"\\nSet2Set\",pos=pos,ax=ax[3])\n",
    "my_plot_edge(da_plottare[\"HO\"][1][p],title=da_plottare[\"HO\"][0]+\"\\nHO\",pos=pos,ax=ax[4])\n",
    "my_plot(da_plottare[\"MinCutPooling\"][1][p],title=da_plottare[\"MinCutPooling\"][0]+\"\\nMinCutPooling\",pos=pos,ax=ax[5])\n",
    "my_plot_edge(da_plottare[\"GAT\"][1][p],title=da_plottare[\"GAT\"][0]+\"\\nGAT\",pos=pos,ax=ax[6])\n",
    "my_plot(da_plottare[\"SAGE\"][1][p],title=da_plottare[\"SAGE\"][0]+\"\\nSAGE\",pos=pos,ax=ax[7])\n",
    "plt.savefig(\"paper/TABELLINE_X_PAPER/grafi/houses_color_rq3_0.pdf\")"
   ]
  },
  {
   "cell_type": "markdown",
   "id": "419b9517",
   "metadata": {},
   "source": [
    "# il barabasi ha quadrati?"
   ]
  },
  {
   "cell_type": "code",
   "execution_count": null,
   "id": "0546cc4e",
   "metadata": {},
   "outputs": [],
   "source": [
    "dataset = \"BA_2grid\"\n",
    "MODELS = [\"GCN\"]\n",
    "GT_len = 9\n",
    "\n",
    "da_plottare = dict()\n",
    "tmp = []\n",
    "for MODE in [\"train\"]:\n",
    "    print(\"\\t\\t\\t\\t\\t\",MODE)\n",
    "    for model_architecture in MODELS:\n",
    "        print(model_architecture)\n",
    "        if model_architecture == \"GIN\":\n",
    "            EXPLs = [\"cam\",\"grad_cam\",\"guided_bp\",\"ig_node\",\"grad_exp\",\"pgmexplainer\",\"-\",\"-\",\"gnnexpl\",\"pgexpl\"]\n",
    "        elif model_architecture == \"Cheb\":\n",
    "            EXPLs = [\"cam\",\"grad_cam\",\"guided_bp\",\"ig_node\",\"grad_exp\",\"pgmexplainer\",\"sal_edge\",\"ig_edge\",\"-\",\"pgexpl\"]\n",
    "        else:\n",
    "            EXPLs = [\"cam\",\"grad_cam\",\"guided_bp\",\"ig_node\",\"grad_exp\",\"pgmexplainer\",\"sal_edge\",\"ig_edge\",\"gnnexpl\",\"pgexpl\"]\n",
    "        \n",
    "        EXPLs=[\"sal_edge\"]\n",
    "        for expl in EXPLs:\n",
    "            if expl == \"-\":\n",
    "                print(\"- , -\")\n",
    "            else:\n",
    "                graphs = load_graphs(DATASET=dataset,\n",
    "                                 MODEL=model_architecture,\n",
    "                                 EXPL=expl,\n",
    "                                 MODE=MODE,\n",
    "                                 verbose=True,\n",
    "                                 lamb=0.001,\n",
    "                                 normalize=True)\n",
    "                break\n",
    "                da_plottare[expl] = graphs[1]\n",
    "                    "
   ]
  },
  {
   "cell_type": "code",
   "execution_count": null,
   "id": "bb31f546",
   "metadata": {},
   "outputs": [],
   "source": [
    "g = graphs[0][40]\n",
    "c = 0\n",
    "for i,g in graphs[0].items():\n",
    "    if not(nx.minimum_cycle_basis(g) == []):\n",
    "        nx.draw(g)\n",
    "    else:\n",
    "        c = c + 1\n",
    "        \n",
    "print(len(graphs[0]),c)"
   ]
  },
  {
   "cell_type": "markdown",
   "id": "d6661c5d",
   "metadata": {},
   "source": [
    "# RQ3 dataset grid house"
   ]
  },
  {
   "cell_type": "markdown",
   "id": "cc420cc2",
   "metadata": {},
   "source": [
    "#### high plausibility and low fidelity"
   ]
  },
  {
   "cell_type": "code",
   "execution_count": null,
   "id": "59294805",
   "metadata": {},
   "outputs": [],
   "source": [
    "to_plot = []\n",
    "dataset = \"BA_houses_color\"#\"BA_2grid_house\"\n",
    "model =\"MinCutPooling\"#\"Cheb\"#\"MinCutPooling\"#\"Set2Set\"\n",
    "\n",
    "expl = \"guided_bp\"#,\"ig_edge\"#\"pgexpl\"\n",
    "\n",
    "#expl = \"grad_exp\"#,\"ig_edge\"#\"pgexpl\"\n",
    "graphs = load_graphs(DATASET=dataset,\n",
    "                 MODEL=model,\n",
    "                 EXPL=expl,\n",
    "                 MODE=\"train\",\n",
    "                 verbose=True,\n",
    "                 lamb=0.001,\n",
    "                 normalize=True)"
   ]
  },
  {
   "cell_type": "code",
   "execution_count": null,
   "id": "1af4fade",
   "metadata": {},
   "outputs": [],
   "source": []
  },
  {
   "cell_type": "code",
   "execution_count": null,
   "id": "66284d52",
   "metadata": {},
   "outputs": [],
   "source": [
    "c = 1\n",
    "fig, ax = plt.subplots(1,8,figsize=(24,4))\n",
    "\n",
    "for p,g in graphs[0].items():\n",
    "    my_plot(g,title=str(p),ax=ax[c])\n",
    "    c = c + 1\n",
    "    if c == 8:\n",
    "        break"
   ]
  },
  {
   "cell_type": "code",
   "execution_count": null,
   "id": "10b6a8de",
   "metadata": {},
   "outputs": [],
   "source": []
  }
 ],
 "metadata": {
  "kernelspec": {
   "display_name": "Python 3 (ipykernel)",
   "language": "python",
   "name": "python3"
  },
  "language_info": {
   "codemirror_mode": {
    "name": "ipython",
    "version": 3
   },
   "file_extension": ".py",
   "mimetype": "text/x-python",
   "name": "python",
   "nbconvert_exporter": "python",
   "pygments_lexer": "ipython3",
   "version": "3.11.5"
  }
 },
 "nbformat": 4,
 "nbformat_minor": 5
}
