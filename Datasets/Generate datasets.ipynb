{
 "cells": [
  {
   "cell_type": "markdown",
   "id": "960ba671",
   "metadata": {},
   "source": [
    "# Generate DATA\n",
    "\n",
    "this notebook is used to generate and store the data we used in the paper"
   ]
  },
  {
   "cell_type": "code",
   "execution_count": 1,
   "id": "91a3df86",
   "metadata": {},
   "outputs": [
    {
     "data": {
      "text/plain": [
       "('2.8.2', '1.8.1')"
      ]
     },
     "execution_count": 1,
     "metadata": {},
     "output_type": "execute_result"
    }
   ],
   "source": [
    "import pickle as pkl\n",
    "import random\n",
    "import networkx as nx\n",
    "import numpy as np\n",
    "\n",
    "\n",
    "\n",
    "%load_ext autoreload\n",
    "%autoreload 2\n",
    "\n",
    "import scipy\n",
    "nx.__version__,scipy.__version__"
   ]
  },
  {
   "cell_type": "markdown",
   "id": "242babfa",
   "metadata": {},
   "source": [
    "# Build BA grid with random BA edges"
   ]
  },
  {
   "cell_type": "code",
   "execution_count": 2,
   "id": "5b4f628d",
   "metadata": {},
   "outputs": [],
   "source": [
    "from utils_generate import generate_grid_networks_BA\n",
    "\n",
    "nb_graphs = 1000"
   ]
  },
  {
   "cell_type": "code",
   "execution_count": 3,
   "id": "79f13a71",
   "metadata": {},
   "outputs": [
    {
     "name": "stderr",
     "output_type": "stream",
     "text": [
      "/tmp/ipykernel_37081/3449628791.py:9: FutureWarning: adjacency_matrix will return a scipy.sparse array instead of a matrix in Networkx 3.0.\n",
      "  adjs.append(nx.adjacency_matrix(g0).A)\n",
      "/tmp/ipykernel_37081/3449628791.py:13: FutureWarning: adjacency_matrix will return a scipy.sparse array instead of a matrix in Networkx 3.0.\n",
      "  adjs.append(nx.adjacency_matrix(g1).A)\n",
      "/tmp/ipykernel_37081/3449628791.py:9: FutureWarning: adjacency_matrix will return a scipy.sparse array instead of a matrix in Networkx 3.0.\n",
      "  adjs.append(nx.adjacency_matrix(g0).A)\n"
     ]
    }
   ],
   "source": [
    "adjs = []\n",
    "labels = []\n",
    "feas = []\n",
    "for i in range(nb_graphs):\n",
    "    \n",
    "    g0 = generate_grid_networks_BA(0,np.random.randint(15,30))\n",
    "    g1 = generate_grid_networks_BA(1,np.random.randint(15-9,30-9))\n",
    "    feas.append(np.ones((len(g0.nodes()),10))/10)\n",
    "    adjs.append(nx.adjacency_matrix(g0).A)\n",
    "    labels.append(0)\n",
    "    \n",
    "    feas.append(np.ones((len(g1.nodes()),10))/10)\n",
    "    adjs.append(nx.adjacency_matrix(g1).A)\n",
    "    labels.append(1)\n",
    "    "
   ]
  },
  {
   "cell_type": "code",
   "execution_count": null,
   "id": "072fe57c",
   "metadata": {},
   "outputs": [],
   "source": []
  },
  {
   "cell_type": "code",
   "execution_count": null,
   "id": "33255158",
   "metadata": {},
   "outputs": [],
   "source": []
  },
  {
   "cell_type": "markdown",
   "id": "7e8359a6",
   "metadata": {},
   "source": [
    "# Build BA grid house with random BA edges"
   ]
  },
  {
   "cell_type": "code",
   "execution_count": 5,
   "id": "b7f0fdaf",
   "metadata": {},
   "outputs": [],
   "source": [
    "from utils_generate import generate_BA_grid_house\n",
    "nb_graphs = 1000"
   ]
  },
  {
   "cell_type": "code",
   "execution_count": 6,
   "id": "e5165a9c",
   "metadata": {},
   "outputs": [
    {
     "name": "stderr",
     "output_type": "stream",
     "text": [
      "/tmp/ipykernel_37081/3761414545.py:9: FutureWarning: adjacency_matrix will return a scipy.sparse array instead of a matrix in Networkx 3.0.\n",
      "  adjs.append(nx.adjacency_matrix(g0).A)\n",
      "/tmp/ipykernel_37081/3761414545.py:13: FutureWarning: adjacency_matrix will return a scipy.sparse array instead of a matrix in Networkx 3.0.\n",
      "  adjs.append(nx.adjacency_matrix(g1).A)\n"
     ]
    }
   ],
   "source": [
    "adjs = []\n",
    "labels = []\n",
    "feas = []\n",
    "for i in range(nb_graphs):\n",
    "    \n",
    "    g0 = generate_BA_grid_house(0,np.random.randint(100,150))\n",
    "    g1 = generate_BA_grid_house(1,np.random.randint(100,150))\n",
    "    feas.append(np.ones((len(g0.nodes()),10))/10)\n",
    "    adjs.append(nx.adjacency_matrix(g0).A)\n",
    "    labels.append(0)\n",
    "    \n",
    "    feas.append(np.ones((len(g1.nodes()),10))/10)\n",
    "    adjs.append(nx.adjacency_matrix(g1).A)\n",
    "    labels.append(1)"
   ]
  },
  {
   "cell_type": "markdown",
   "id": "4ca57c97",
   "metadata": {},
   "source": [
    "# Build ER with stars"
   ]
  },
  {
   "cell_type": "code",
   "execution_count": 10,
   "id": "e434ce4b",
   "metadata": {},
   "outputs": [],
   "source": [
    "import networkx as nx\n",
    "import numpy as np\n",
    "import matplotlib.pyplot as plt\n",
    "seed = 10\n",
    "np.random.seed(seed)\n",
    "\n",
    "from utils_generate import gen_stars_ER_3class"
   ]
  },
  {
   "cell_type": "code",
   "execution_count": 11,
   "id": "b62d7b6b",
   "metadata": {},
   "outputs": [],
   "source": [
    "graphs  ,labels ,gt = gen_stars_ER_3class()"
   ]
  },
  {
   "cell_type": "code",
   "execution_count": 12,
   "id": "ee1296d7",
   "metadata": {},
   "outputs": [
    {
     "name": "stderr",
     "output_type": "stream",
     "text": [
      "/tmp/ipykernel_37081/837091998.py:5: FutureWarning: adjacency_matrix will return a scipy.sparse array instead of a matrix in Networkx 3.0.\n",
      "  adjs.append(nx.adjacency_matrix(g).A)\n"
     ]
    }
   ],
   "source": [
    "feas = []\n",
    "adjs = []\n",
    "for g in graphs:\n",
    "    feas.append(np.ones((len(g.nodes()),10))/10)\n",
    "    adjs.append(nx.adjacency_matrix(g).A)"
   ]
  },
  {
   "cell_type": "code",
   "execution_count": 13,
   "id": "48ce0697",
   "metadata": {},
   "outputs": [
    {
     "data": {
      "text/plain": [
       "(1500, 1500, 1500)"
      ]
     },
     "execution_count": 13,
     "metadata": {},
     "output_type": "execute_result"
    }
   ],
   "source": [
    "len(adjs),len(feas),len(labels)"
   ]
  },
  {
   "cell_type": "markdown",
   "id": "f618f86e",
   "metadata": {},
   "source": [
    "# Generate  BA-color"
   ]
  },
  {
   "cell_type": "code",
   "execution_count": 18,
   "id": "6b7b1f68",
   "metadata": {},
   "outputs": [],
   "source": [
    "from utils_generate import generate_house_color_networks_BA,get_feat"
   ]
  },
  {
   "cell_type": "code",
   "execution_count": null,
   "id": "342fb918",
   "metadata": {},
   "outputs": [],
   "source": []
  },
  {
   "cell_type": "code",
   "execution_count": 19,
   "id": "5fa33736",
   "metadata": {},
   "outputs": [
    {
     "name": "stderr",
     "output_type": "stream",
     "text": [
      "/tmp/ipykernel_37081/3002394955.py:11: DeprecationWarning: adj_matrix is deprecated and will be removed in version 3.0.\n",
      "Use `adjacency_matrix` instead\n",
      "\n",
      "  adjs.append(nx.adj_matrix(g).A)\n",
      "/home/antonio/anaconda3/envs/geometric_new/lib/python3.9/site-packages/networkx/linalg/graphmatrix.py:187: FutureWarning: adjacency_matrix will return a scipy.sparse array instead of a matrix in Networkx 3.0.\n",
      "  return adjacency_matrix(G, nodelist, dtype, weight)\n",
      "/tmp/ipykernel_37081/3002394955.py:20: DeprecationWarning: adj_matrix is deprecated and will be removed in version 3.0.\n",
      "Use `adjacency_matrix` instead\n",
      "\n",
      "  adjs.append(nx.adj_matrix(g).A)\n"
     ]
    }
   ],
   "source": [
    "feas = []\n",
    "labels = []\n",
    "adjs = []\n",
    "GT = []\n",
    "for i in range(500):\n",
    "    nb_houses = np.random.choice(np.arange(1,5))\n",
    "    nb_nodes = np.random.choice(np.arange(20,51))\n",
    "    g,gt = generate_house_color_networks_BA(nb_houses,nb_nodes,house_color=\"blue\")\n",
    "    GT.append(gt)\n",
    "    feas.append(get_feat(g))\n",
    "    adjs.append(nx.adj_matrix(g).A)\n",
    "    labels.append(0)\n",
    "    \n",
    "for i in range(500):\n",
    "    nb_houses = np.random.choice(np.arange(1,5))\n",
    "    nb_nodes = np.random.choice(np.arange(20,51))\n",
    "    g,gt = generate_house_color_networks_BA(nb_houses,nb_nodes,house_color=\"green\")\n",
    "    GT.append(gt)\n",
    "    feas.append(get_feat(g))\n",
    "    adjs.append(nx.adj_matrix(g).A)\n",
    "    labels.append(1)"
   ]
  }
 ],
 "metadata": {
  "kernelspec": {
   "display_name": "Python 3 (ipykernel)",
   "language": "python",
   "name": "python3"
  },
  "language_info": {
   "codemirror_mode": {
    "name": "ipython",
    "version": 3
   },
   "file_extension": ".py",
   "mimetype": "text/x-python",
   "name": "python",
   "nbconvert_exporter": "python",
   "pygments_lexer": "ipython3",
   "version": "3.9.12"
  }
 },
 "nbformat": 4,
 "nbformat_minor": 5
}
