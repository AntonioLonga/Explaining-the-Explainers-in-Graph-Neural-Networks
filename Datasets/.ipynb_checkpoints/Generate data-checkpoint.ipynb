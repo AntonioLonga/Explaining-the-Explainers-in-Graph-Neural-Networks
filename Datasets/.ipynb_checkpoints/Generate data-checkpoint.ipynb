{
 "cells": [
  {
   "cell_type": "code",
   "execution_count": 1,
   "id": "91a3df86",
   "metadata": {},
   "outputs": [
    {
     "data": {
      "text/plain": [
       "('2.8.2', '1.8.1')"
      ]
     },
     "execution_count": 1,
     "metadata": {},
     "output_type": "execute_result"
    }
   ],
   "source": [
    "import pickle as pkl\n",
    "import random\n",
    "import networkx as nx\n",
    "import numpy as np\n",
    "\n",
    "def my_house():\n",
    "    g = nx.Graph()\n",
    "    g.add_edge(0,1)\n",
    "    g.add_edge(1,2)\n",
    "    g.add_edge(2,3)\n",
    "    g.add_edge(0,3)\n",
    "    g.add_edge(3,4)\n",
    "    g.add_edge(2,4)\n",
    "    return(g)\n",
    "\n",
    "import scipy\n",
    "nx.__version__,scipy.__version__"
   ]
  },
  {
   "cell_type": "markdown",
   "id": "4fe04f33",
   "metadata": {},
   "source": [
    "# Build BA 2 motifs with random BA edges"
   ]
  },
  {
   "cell_type": "code",
   "execution_count": 2,
   "id": "40e3ced8",
   "metadata": {},
   "outputs": [],
   "source": [
    "def generate_house_networks_BA(nb_house,node_ba=30):\n",
    "    \n",
    "    g = nx.barabasi_albert_graph(node_ba,1)\n",
    "    for i in range(nb_house):\n",
    "        house = my_house()\n",
    "        tmp = len(g.nodes)\n",
    "        g = nx.union(g,house,rename=(\"a\",\"b\"))\n",
    "        tmp2 = len(g.nodes)\n",
    "        # connect house BA:\n",
    "        node_a = np.random.randint(tmp)\n",
    "        node_b = np.random.randint(tmp,tmp2)\n",
    "        g.add_edge(list(g.nodes())[node_a],list(g.nodes())[node_b])\n",
    "\n",
    "        \n",
    "    mapping = dict()\n",
    "    c = 0\n",
    "    for n in g.nodes():\n",
    "        mapping[n] = c\n",
    "        c = c + 1\n",
    "    g = nx.relabel_nodes(g,mapping)\n",
    "    \n",
    "    return g"
   ]
  },
  {
   "cell_type": "code",
   "execution_count": 3,
   "id": "f7fb1816",
   "metadata": {},
   "outputs": [],
   "source": [
    "np.random.seed(10)"
   ]
  },
  {
   "cell_type": "code",
   "execution_count": null,
   "id": "5de1e29e",
   "metadata": {},
   "outputs": [],
   "source": [
    "adjs = []\n",
    "labels = []\n",
    "feas = []\n",
    "for i in range(1000):\n",
    "    \n",
    "    g0 = generate_house_networks_BA(0,np.random.randint(15,22))\n",
    "    g1 = generate_house_networks_BA(1,np.random.randint(15-5,22-5))\n",
    "    feas.append(np.ones((len(g0.nodes()),10))/10)\n",
    "    adjs.append(nx.adjacency_matrix(g0).A)\n",
    "    labels.append(0)\n",
    "    \n",
    "    feas.append(np.ones((len(g1.nodes()),10))/10)\n",
    "    adjs.append(nx.adjacency_matrix(g1).A)\n",
    "    labels.append(1)\n",
    "    "
   ]
  },
  {
   "cell_type": "code",
   "execution_count": null,
   "id": "bcb332b6",
   "metadata": {},
   "outputs": [],
   "source": [
    "f = open('BA-2motif.pkl','wb')\n",
    "pkl.dump((adjs,feas,labels),f)\n",
    "f.close()"
   ]
  },
  {
   "cell_type": "markdown",
   "id": "242babfa",
   "metadata": {},
   "source": [
    "# Build BA 2 grid with random BA edges"
   ]
  },
  {
   "cell_type": "code",
   "execution_count": 3,
   "id": "5b4f628d",
   "metadata": {},
   "outputs": [],
   "source": [
    "def generate_grid_networks_BA(nb_house,node_ba=30):\n",
    "    \n",
    "\n",
    "    g = nx.barabasi_albert_graph(node_ba,1)\n",
    "    if nb_house == 0:\n",
    "         return g\n",
    "    for i in range(nb_house):\n",
    "        house = my_grid()\n",
    "        tmp = len(g.nodes)\n",
    "        g = nx.union(g,house,rename=(\"a\",\"b\"))\n",
    "        tmp2 = len(g.nodes)\n",
    "        # connect house BA:\n",
    "        node_a = np.random.randint(tmp)\n",
    "        node_b = np.random.randint(tmp,tmp2)\n",
    "        g.add_edge(list(g.nodes())[node_a],list(g.nodes())[node_b])\n",
    "\n",
    "        \n",
    "    mapping = dict()\n",
    "    c = 0\n",
    "    for n in g.nodes():\n",
    "        mapping[n] = c\n",
    "        c = c + 1\n",
    "    g = nx.relabel_nodes(g,mapping)\n",
    "    \n",
    "    return g\n",
    "\n",
    "def my_grid():\n",
    "    g = nx.Graph()\n",
    "    g.add_edge(0,1)\n",
    "    g.add_edge(1,2)\n",
    "    g.add_edge(0,3)\n",
    "    g.add_edge(1,4)\n",
    "    g.add_edge(2,5)\n",
    "    g.add_edge(3,4)\n",
    "    g.add_edge(4,5)\n",
    "    g.add_edge(3,6)\n",
    "    g.add_edge(4,7)\n",
    "    g.add_edge(5,8)\n",
    "    g.add_edge(6,7)\n",
    "    g.add_edge(7,8)\n",
    "    \n",
    "    return g"
   ]
  },
  {
   "cell_type": "code",
   "execution_count": null,
   "id": "79f13a71",
   "metadata": {},
   "outputs": [],
   "source": [
    "adjs = []\n",
    "labels = []\n",
    "feas = []\n",
    "for i in range(1000):\n",
    "    \n",
    "    g0 = generate_grid_networks_BA(0,np.random.randint(15,30))\n",
    "    g1 = generate_grid_networks_BA(1,np.random.randint(15-9,30-9))\n",
    "    feas.append(np.ones((len(g0.nodes()),10))/10)\n",
    "    adjs.append(nx.adjacency_matrix(g0).A)\n",
    "    labels.append(0)\n",
    "    \n",
    "    feas.append(np.ones((len(g1.nodes()),10))/10)\n",
    "    adjs.append(nx.adjacency_matrix(g1).A)\n",
    "    labels.append(1)\n",
    "    "
   ]
  },
  {
   "cell_type": "code",
   "execution_count": null,
   "id": "072fe57c",
   "metadata": {},
   "outputs": [],
   "source": [
    "f = open('BA-2grid.pkl','wb')\n",
    "pkl.dump((adjs,feas,labels),f)\n",
    "f.close()"
   ]
  },
  {
   "cell_type": "code",
   "execution_count": 2,
   "id": "33255158",
   "metadata": {},
   "outputs": [
    {
     "data": {
      "text/plain": [
       "21"
      ]
     },
     "execution_count": 2,
     "metadata": {},
     "output_type": "execute_result"
    }
   ],
   "source": [
    "30-9"
   ]
  },
  {
   "cell_type": "markdown",
   "id": "7e8359a6",
   "metadata": {},
   "source": [
    "# Grid_house"
   ]
  },
  {
   "cell_type": "code",
   "execution_count": 4,
   "id": "b7f0fdaf",
   "metadata": {},
   "outputs": [],
   "source": [
    "def generate_BA_grid_house(target,node_ba=30):\n",
    "    \n",
    "    if target == 0:\n",
    "        if np.random.rand() >0.5:\n",
    "            g = nx.barabasi_albert_graph(node_ba-5,1)\n",
    "            g1 = my_house()\n",
    "        else:\n",
    "            g = nx.barabasi_albert_graph(node_ba-9,1)\n",
    "            g1 = my_grid()\n",
    "            \n",
    "        tmp = len(g.nodes)\n",
    "        g = nx.union(g,g1,rename=(\"a\",\"b\"))\n",
    "        tmp2 = len(g.nodes)\n",
    "        \n",
    "        # connect g to BA:\n",
    "        node_a = np.random.randint(tmp)\n",
    "        node_b = np.random.randint(tmp,tmp2)\n",
    "        g.add_edge(list(g.nodes())[node_a],list(g.nodes())[node_b])\n",
    "            \n",
    "    if target == 1:\n",
    "        g = nx.barabasi_albert_graph(node_ba-9-5,1)\n",
    "        g1 = my_house()  \n",
    "        tmp = len(g.nodes)\n",
    "        g = nx.union(g,g1,rename=(\"a\",\"b\"))\n",
    "        tmp2 = len(g.nodes)\n",
    "        # connect g to BA:\n",
    "        node_a = np.random.randint(tmp)\n",
    "        node_b = np.random.randint(tmp,tmp2)\n",
    "        g.add_edge(list(g.nodes())[node_a],list(g.nodes())[node_b])\n",
    "\n",
    "        \n",
    "        g1 = my_grid()  \n",
    "        tmp = len(g.nodes)\n",
    "        g = nx.union(g,g1,rename=(\"a\",\"b\"))\n",
    "        tmp2 = len(g.nodes)\n",
    "        # connect g to BA:\n",
    "        node_a = np.random.randint(tmp)\n",
    "        node_b = np.random.randint(tmp,tmp2)\n",
    "        g.add_edge(list(g.nodes())[node_a],list(g.nodes())[node_b])\n",
    "        \n",
    "        \n",
    "    mapping = dict()\n",
    "    c = 0\n",
    "    for n in g.nodes():\n",
    "        mapping[n] = c\n",
    "        c = c + 1\n",
    "    g = nx.relabel_nodes(g,mapping)\n",
    "    \n",
    "    return g"
   ]
  },
  {
   "cell_type": "code",
   "execution_count": null,
   "id": "951fad4d",
   "metadata": {},
   "outputs": [],
   "source": []
  },
  {
   "cell_type": "code",
   "execution_count": null,
   "id": "e5165a9c",
   "metadata": {},
   "outputs": [],
   "source": [
    "adjs = []\n",
    "labels = []\n",
    "feas = []\n",
    "for i in range(1000):\n",
    "    \n",
    "    g0 = generate_BA_grid_house(0,np.random.randint(100,150))\n",
    "    g1 = generate_BA_grid_house(1,np.random.randint(100,150))\n",
    "    feas.append(np.ones((len(g0.nodes()),10))/10)\n",
    "    adjs.append(nx.adjacency_matrix(g0).A)\n",
    "    labels.append(0)\n",
    "    \n",
    "    feas.append(np.ones((len(g1.nodes()),10))/10)\n",
    "    adjs.append(nx.adjacency_matrix(g1).A)\n",
    "    labels.append(1)"
   ]
  },
  {
   "cell_type": "code",
   "execution_count": null,
   "id": "c08a817b",
   "metadata": {},
   "outputs": [],
   "source": [
    "f = open('BA-2grid-house_big.pkl','wb')\n",
    "pkl.dump((adjs,feas,labels),f)\n",
    "f.close()"
   ]
  },
  {
   "cell_type": "markdown",
   "id": "806c999e",
   "metadata": {},
   "source": [
    "# nb of starts"
   ]
  },
  {
   "cell_type": "code",
   "execution_count": 5,
   "id": "12084adc",
   "metadata": {},
   "outputs": [],
   "source": [
    "import networkx as nx\n",
    "import numpy as np\n",
    "import matplotlib.pyplot as plt\n",
    "seed = 10\n",
    "np.random.seed(seed)\n",
    "\n",
    "def generate_star_network_BA(nb_nodesBA,nb_stars,nb_rewire=10,small_star=10,big_star=16):\n",
    "    is_connected = False\n",
    "    while not is_connected:\n",
    "        g = nx.fast_gnp_random_graph(nb_nodesBA,0.1)\n",
    "        is_connected = nx.is_connected(g)\n",
    "\n",
    "    star_size = np.arange(small_star,big_star)\n",
    "    for i in range(nb_stars):\n",
    "        size = np.random.choice(star_size)\n",
    "        star = nx.star_graph(size)\n",
    "        g = nx.union(g,star,rename=(\"a\",\"b\"))\n",
    "\n",
    "    mapping = dict()\n",
    "    c = 0\n",
    "    for n in g.nodes():\n",
    "        mapping[n] = c\n",
    "        c = c + 1\n",
    "    g = nx.relabel_nodes(g,mapping)\n",
    "    \n",
    "    for i in range(nb_rewire):\n",
    "        a,b = np.random.choice(g.nodes(),2,replace=False)\n",
    "        if not g.has_edge(a,b):\n",
    "            g.add_edge(a,b)\n",
    "            \n",
    "    Gcc = sorted(nx.connected_components(g), key=len, reverse=True)\n",
    "    g = g.subgraph(Gcc[0])\n",
    "    return g\n",
    "\n",
    "\n",
    "def gen_stars_BA_3class():\n",
    "    graphs = []\n",
    "    labels = []\n",
    "    gt = []\n",
    "    for i in range(500):\n",
    "        nb_nodes_BA1 = np.random.randint(30,50)\n",
    "        g1 = generate_star_network_BA(nb_nodesBA = nb_nodes_BA1,\n",
    "                                      nb_stars = 1,\n",
    "                                      nb_rewire=10,small_star=10,big_star=16)\n",
    "        nb_nodes_BA2 = np.random.randint(30-13,50)\n",
    "        g2 = generate_star_network_BA(nb_nodesBA = nb_nodes_BA2,\n",
    "                                      nb_stars = 2,\n",
    "                                      nb_rewire=10,small_star=10,big_star=16)\n",
    "        \n",
    "        nb_nodes_BA3 = np.random.randint(30-26,50-26)\n",
    "        if 0.5> np.random.randn():\n",
    "            g3 = generate_star_network_BA(nb_nodesBA = nb_nodes_BA3,\n",
    "                                          nb_stars = 3,\n",
    "                                          nb_rewire=10,small_star=10,big_star=16)\n",
    "        else:\n",
    "            g3 = generate_star_network_BA(nb_nodesBA = nb_nodes_BA3,\n",
    "                                          nb_stars = 4,\n",
    "                                          nb_rewire=10,small_star=10,big_star=16)\n",
    "        \n",
    "        if nx.is_connected(g1):\n",
    "            if nx.is_connected(g2):\n",
    "                if nx.is_connected(g3):\n",
    "                    labels.append(0)\n",
    "                    labels.append(1)\n",
    "                    labels.append(2)\n",
    "                    graphs.append(g1)\n",
    "                    graphs.append(g2)\n",
    "                    graphs.append(g3)\n",
    "                    gt.append(nb_nodes_BA1)\n",
    "                    gt.append(nb_nodes_BA2)\n",
    "                    gt.append(nb_nodes_BA3)\n",
    "    \n",
    "    return graphs,labels,gt"
   ]
  },
  {
   "cell_type": "code",
   "execution_count": null,
   "id": "960097ed",
   "metadata": {},
   "outputs": [],
   "source": [
    "graphs  ,labels ,gt = gen_stars_BA_3class()"
   ]
  },
  {
   "cell_type": "code",
   "execution_count": null,
   "id": "0e72c211",
   "metadata": {},
   "outputs": [],
   "source": [
    "feas = []\n",
    "adjs = []\n",
    "for g in graphs:\n",
    "    feas.append(np.ones((len(g.nodes()),10))/10)\n",
    "    adjs.append(nx.adjacency_matrix(g).A)"
   ]
  },
  {
   "cell_type": "code",
   "execution_count": null,
   "id": "6d303f7e",
   "metadata": {},
   "outputs": [],
   "source": [
    "len(adjs),len(feas),len(labels)"
   ]
  },
  {
   "cell_type": "code",
   "execution_count": null,
   "id": "b0fbf912",
   "metadata": {},
   "outputs": [],
   "source": [
    "f = open('ER-nb_stars.pkl','wb')\n",
    "pkl.dump((adjs,feas,labels),f)\n",
    "f.close()\n",
    "\n",
    "np.save(\"ER-nb_stars-GT\",gt)"
   ]
  },
  {
   "cell_type": "markdown",
   "id": "4ca57c97",
   "metadata": {},
   "source": [
    "# nb stars 2"
   ]
  },
  {
   "cell_type": "code",
   "execution_count": 7,
   "id": "e434ce4b",
   "metadata": {},
   "outputs": [],
   "source": [
    "import networkx as nx\n",
    "import numpy as np\n",
    "import matplotlib.pyplot as plt\n",
    "seed = 10\n",
    "np.random.seed(seed)\n",
    "\n",
    "def generate_star_network_BA(nb_nodesBA,nb_stars,nb_rewire=10,star_size=16):\n",
    "    is_connected = False\n",
    "    while not is_connected:\n",
    "        g = nx.fast_gnp_random_graph(nb_nodesBA,0.1)\n",
    "        is_connected = nx.is_connected(g)\n",
    "\n",
    "    for i in range(nb_stars):\n",
    "        star = nx.star_graph(star_size)\n",
    "        g = nx.union(g,star,rename=(\"a\",\"b\"))\n",
    "\n",
    "    mapping = dict()\n",
    "    c = 0\n",
    "    for n in g.nodes():\n",
    "        mapping[n] = c\n",
    "        c = c + 1\n",
    "    g = nx.relabel_nodes(g,mapping)\n",
    "    \n",
    "    for i in range(nb_rewire):\n",
    "        a,b = np.random.choice(g.nodes(),2,replace=False)\n",
    "        if not g.has_edge(a,b):\n",
    "            g.add_edge(a,b)\n",
    "            \n",
    "    Gcc = sorted(nx.connected_components(g), key=len, reverse=True)\n",
    "    g = g.subgraph(Gcc[0])\n",
    "    return g\n",
    "\n",
    "\n",
    "def gen_stars_BA_3class():\n",
    "    graphs = []\n",
    "    labels = []\n",
    "    gt = []\n",
    "    for i in range(500):\n",
    "        nb_nodes_BA1 = np.random.randint(30,50)\n",
    "        g1 = generate_star_network_BA(nb_nodesBA = nb_nodes_BA1,\n",
    "                                      nb_stars = 1,\n",
    "                                      nb_rewire=10,star_size=16)\n",
    "        nb_nodes_BA2 = np.random.randint(30-13,50)\n",
    "        g2 = generate_star_network_BA(nb_nodesBA = nb_nodes_BA2,\n",
    "                                      nb_stars = 2,\n",
    "                                      nb_rewire=10,star_size=16)\n",
    "        \n",
    "        nb_nodes_BA3 = np.random.randint(30-26,50-26)\n",
    "        if 0.5> np.random.randn():\n",
    "            g3 = generate_star_network_BA(nb_nodesBA = nb_nodes_BA3,\n",
    "                                          nb_stars = 3,\n",
    "                                          nb_rewire=10,star_size=16)\n",
    "        else:\n",
    "            g3 = generate_star_network_BA(nb_nodesBA = nb_nodes_BA3,\n",
    "                                          nb_stars = 4,\n",
    "                                          nb_rewire=10,star_size=16)\n",
    "        \n",
    "        if nx.is_connected(g1):\n",
    "            if nx.is_connected(g2):\n",
    "                if nx.is_connected(g3):\n",
    "                    labels.append(0)\n",
    "                    labels.append(1)\n",
    "                    labels.append(2)\n",
    "                    graphs.append(g1)\n",
    "                    graphs.append(g2)\n",
    "                    graphs.append(g3)\n",
    "                    gt.append(nb_nodes_BA1)\n",
    "                    gt.append(nb_nodes_BA2)\n",
    "                    gt.append(nb_nodes_BA3)\n",
    "    \n",
    "    return graphs,labels,gt"
   ]
  },
  {
   "cell_type": "code",
   "execution_count": 8,
   "id": "b62d7b6b",
   "metadata": {},
   "outputs": [],
   "source": [
    "graphs  ,labels ,gt = gen_stars_BA_3class()"
   ]
  },
  {
   "cell_type": "code",
   "execution_count": 9,
   "id": "ee1296d7",
   "metadata": {},
   "outputs": [
    {
     "name": "stderr",
     "output_type": "stream",
     "text": [
      "/tmp/ipykernel_17781/837091998.py:5: FutureWarning: adjacency_matrix will return a scipy.sparse array instead of a matrix in Networkx 3.0.\n",
      "  adjs.append(nx.adjacency_matrix(g).A)\n",
      "/tmp/ipykernel_17781/837091998.py:5: FutureWarning: adjacency_matrix will return a scipy.sparse array instead of a matrix in Networkx 3.0.\n",
      "  adjs.append(nx.adjacency_matrix(g).A)\n"
     ]
    }
   ],
   "source": [
    "feas = []\n",
    "adjs = []\n",
    "for g in graphs:\n",
    "    feas.append(np.ones((len(g.nodes()),10))/10)\n",
    "    adjs.append(nx.adjacency_matrix(g).A)"
   ]
  },
  {
   "cell_type": "code",
   "execution_count": 10,
   "id": "48ce0697",
   "metadata": {},
   "outputs": [
    {
     "data": {
      "text/plain": [
       "(1500, 1500, 1500)"
      ]
     },
     "execution_count": 10,
     "metadata": {},
     "output_type": "execute_result"
    }
   ],
   "source": [
    "len(adjs),len(feas),len(labels)"
   ]
  },
  {
   "cell_type": "code",
   "execution_count": 11,
   "id": "836eea68",
   "metadata": {},
   "outputs": [],
   "source": [
    "f = open('ER-nb_stars2.pkl','wb')\n",
    "pkl.dump((adjs,feas,labels),f)\n",
    "f.close()\n",
    "\n",
    "np.save(\"ER-nb_stars-GT2\",gt)"
   ]
  },
  {
   "cell_type": "code",
   "execution_count": null,
   "id": "3df84833",
   "metadata": {},
   "outputs": [],
   "source": []
  },
  {
   "cell_type": "markdown",
   "id": "b0b48e9c",
   "metadata": {},
   "source": [
    "# Generate  BA-color"
   ]
  },
  {
   "cell_type": "code",
   "execution_count": 201,
   "id": "8f44288e",
   "metadata": {},
   "outputs": [],
   "source": [
    "def generate_house_networks_BA(nb_house,node_ba=30,house_color=\"blue\"):\n",
    "    GT = []\n",
    "    g = nx.barabasi_albert_graph(node_ba,1)\n",
    "    g = color_ba(g)\n",
    "    \n",
    "    nb_nodes_curr = len(g.nodes())\n",
    "    first = True\n",
    "    for i in range(nb_house):\n",
    "        house = my_house()\n",
    "        if first:\n",
    "            GT.append(list(np.arange(nb_nodes_curr,nb_nodes_curr+5)))\n",
    "            house = color_house(house,gt=True,base_color=house_color)\n",
    "            first = False\n",
    "        else:\n",
    "            house = color_house(house,gt=False,base_color=house_color)\n",
    "        g = nx.union(g,house,rename=(\"a\",\"b\"))\n",
    "        # connect house BA:\n",
    "        node_a = np.random.randint(nb_nodes_curr)\n",
    "        node_b = np.random.choice(5)+nb_nodes_curr\n",
    "        g.add_edge(list(g.nodes())[node_a],list(g.nodes())[node_b])\n",
    "        nb_nodes_curr = len(g.nodes())\n",
    "        \n",
    "    mapping = dict()\n",
    "    c = 0\n",
    "    for n in g.nodes():\n",
    "        mapping[n] = c\n",
    "        c = c + 1\n",
    "    g = nx.relabel_nodes(g,mapping)\n",
    "    \n",
    "    return g\n",
    "\n",
    "def color_ba(g,colors=[\"red\",\"blue\",\"green\"]):\n",
    "    for n in g.nodes():\n",
    "        g.nodes()[n][\"color\"]=np.random.choice(colors)\n",
    "        \n",
    "    return g\n",
    "def color_house(h,gt=True,base_color=\"blue\"):\n",
    "    if gt == True:\n",
    "        for n in h.nodes():\n",
    "            h.nodes()[n][\"color\"]=base_color\n",
    "    else:\n",
    "        if base_color == \"blue\":\n",
    "            nodes_h = list(h.nodes())\n",
    "            h.nodes()[nodes_h[0]][\"color\"] = \"blue\"\n",
    "            h.nodes()[nodes_h[1]][\"color\"] = \"red\"\n",
    "            for n in nodes_h[2:]:\n",
    "                h.nodes()[n][\"color\"]=np.random.choice([\"red\",\"blue\",\"green\"])\n",
    "        \n",
    "        if base_color == \"green\":\n",
    "            nodes_h = list(h.nodes())\n",
    "            h.nodes()[nodes_h[0]][\"color\"] = \"green\"\n",
    "            h.nodes()[nodes_h[1]][\"color\"] = \"red\"\n",
    "            for n in nodes_h[2:]:\n",
    "                h.nodes()[n][\"color\"]=np.random.choice([\"red\",\"blue\",\"green\"])\n",
    "    return h\n",
    "\n",
    "def get_feat(g):\n",
    "    emb = []\n",
    "    for n,c in nx.get_node_attributes(g,\"color\").items():\n",
    "        if c == \"blue\":\n",
    "            emb.append([1,0,0])\n",
    "        elif c == \"green\":\n",
    "            emb.append([0,1,0])\n",
    "        else:\n",
    "            emb.append([0,0,1])\n",
    "    return emb"
   ]
  },
  {
   "cell_type": "code",
   "execution_count": null,
   "id": "afe216ef",
   "metadata": {},
   "outputs": [],
   "source": []
  },
  {
   "cell_type": "code",
   "execution_count": 204,
   "id": "e99136f7",
   "metadata": {},
   "outputs": [
    {
     "name": "stderr",
     "output_type": "stream",
     "text": [
      "/tmp/ipykernel_10778/3719147375.py:9: DeprecationWarning: adj_matrix is deprecated and will be removed in version 3.0.\n",
      "Use `adjacency_matrix` instead\n",
      "\n",
      "  adjs.append(nx.adj_matrix(g).A)\n",
      "/tmp/ipykernel_10778/3719147375.py:17: DeprecationWarning: adj_matrix is deprecated and will be removed in version 3.0.\n",
      "Use `adjacency_matrix` instead\n",
      "\n",
      "  adjs.append(nx.adj_matrix(g).A)\n"
     ]
    }
   ],
   "source": [
    "feas = []\n",
    "labels = []\n",
    "adjs = []\n",
    "for i in range(500):\n",
    "    nb_houses = np.random.choice(np.arange(1,5))\n",
    "    nb_nodes = np.random.choice(np.arange(20,51))\n",
    "    g = generate_house_networks_BA(nb_houses,nb_nodes,house_color=\"blue\")\n",
    "    feas.append(get_feat(g))\n",
    "    adjs.append(nx.adj_matrix(g).A)\n",
    "    labels.append(0)\n",
    "    \n",
    "for i in range(500):\n",
    "    nb_houses = np.random.choice(np.arange(1,5))\n",
    "    nb_nodes = np.random.choice(np.arange(20,51))\n",
    "    g = generate_house_networks_BA(nb_houses,nb_nodes,house_color=\"green\")\n",
    "    feas.append(get_feat(g))\n",
    "    adjs.append(nx.adj_matrix(g).A)\n",
    "    labels.append(1)"
   ]
  },
  {
   "cell_type": "code",
   "execution_count": 205,
   "id": "c7837cc9",
   "metadata": {},
   "outputs": [],
   "source": [
    "f = open('BA-houses_color.pkl','wb')\n",
    "pkl.dump((adjs,feas,labels),f)\n",
    "f.close()"
   ]
  },
  {
   "cell_type": "code",
   "execution_count": null,
   "id": "de55d3ff",
   "metadata": {},
   "outputs": [],
   "source": []
  },
  {
   "cell_type": "code",
   "execution_count": 200,
   "id": "1d05ded0",
   "metadata": {},
   "outputs": [
    {
     "data": {
      "image/png": "[encoded data removed]",
      "text/plain": [
       "<Figure size 432x288 with 1 Axes>"
      ]
     },
     "metadata": {},
     "output_type": "display_data"
    }
   ],
   "source": [
    "node_color = list(dict(nx.get_node_attributes(g,\"color\")).values())\n",
    "nx.draw(g,node_size=30,node_color=node_color)"
   ]
  },
  {
   "cell_type": "code",
   "execution_count": 170,
   "id": "3d6b6a04",
   "metadata": {},
   "outputs": [
    {
     "ename": "NameError",
     "evalue": "name 'adjs' is not defined",
     "output_type": "error",
     "traceback": [
      "\u001b[0;31m---------------------------------------------------------------------------\u001b[0m",
      "\u001b[0;31mNameError\u001b[0m                                 Traceback (most recent call last)",
      "Input \u001b[0;32mIn [170]\u001b[0m, in \u001b[0;36m<cell line: 2>\u001b[0;34m()\u001b[0m\n\u001b[1;32m      1\u001b[0m f \u001b[38;5;241m=\u001b[39m \u001b[38;5;28mopen\u001b[39m(\u001b[38;5;124m'\u001b[39m\u001b[38;5;124mBA-houses_color.pkl\u001b[39m\u001b[38;5;124m'\u001b[39m,\u001b[38;5;124m'\u001b[39m\u001b[38;5;124mwb\u001b[39m\u001b[38;5;124m'\u001b[39m)\n\u001b[0;32m----> 2\u001b[0m pkl\u001b[38;5;241m.\u001b[39mdump((\u001b[43madjs\u001b[49m,feas,labels),f)\n\u001b[1;32m      3\u001b[0m f\u001b[38;5;241m.\u001b[39mclose()\n",
      "\u001b[0;31mNameError\u001b[0m: name 'adjs' is not defined"
     ]
    }
   ],
   "source": []
  },
  {
   "cell_type": "code",
   "execution_count": 178,
   "id": "9bed44b3",
   "metadata": {},
   "outputs": [
    {
     "ename": "ValueError",
     "evalue": "'c' argument has 41 elements, which is inconsistent with 'x' and 'y' with size 56.",
     "output_type": "error",
     "traceback": [
      "\u001b[0;31m---------------------------------------------------------------------------\u001b[0m",
      "\u001b[0;31mValueError\u001b[0m                                Traceback (most recent call last)",
      "Input \u001b[0;32mIn [178]\u001b[0m, in \u001b[0;36m<cell line: 2>\u001b[0;34m()\u001b[0m\n\u001b[1;32m      1\u001b[0m node_color \u001b[38;5;241m=\u001b[39m \u001b[38;5;28mlist\u001b[39m(\u001b[38;5;28mdict\u001b[39m(nx\u001b[38;5;241m.\u001b[39mget_node_attributes(g,\u001b[38;5;124m\"\u001b[39m\u001b[38;5;124mcolor\u001b[39m\u001b[38;5;124m\"\u001b[39m))\u001b[38;5;241m.\u001b[39mvalues())\n\u001b[0;32m----> 2\u001b[0m \u001b[43mnx\u001b[49m\u001b[38;5;241;43m.\u001b[39;49m\u001b[43mdraw\u001b[49m\u001b[43m(\u001b[49m\u001b[43mg\u001b[49m\u001b[43m,\u001b[49m\u001b[43mnode_size\u001b[49m\u001b[38;5;241;43m=\u001b[39;49m\u001b[38;5;241;43m30\u001b[39;49m\u001b[43m,\u001b[49m\u001b[43mnode_color\u001b[49m\u001b[38;5;241;43m=\u001b[39;49m\u001b[43mnode_color\u001b[49m\u001b[43m)\u001b[49m\n",
      "File \u001b[0;32m~/anaconda3/envs/geometric_new/lib/python3.9/site-packages/networkx/drawing/nx_pylab.py:120\u001b[0m, in \u001b[0;36mdraw\u001b[0;34m(G, pos, ax, **kwds)\u001b[0m\n\u001b[1;32m    117\u001b[0m \u001b[38;5;28;01mif\u001b[39;00m \u001b[38;5;124m\"\u001b[39m\u001b[38;5;124mwith_labels\u001b[39m\u001b[38;5;124m\"\u001b[39m \u001b[38;5;129;01mnot\u001b[39;00m \u001b[38;5;129;01min\u001b[39;00m kwds:\n\u001b[1;32m    118\u001b[0m     kwds[\u001b[38;5;124m\"\u001b[39m\u001b[38;5;124mwith_labels\u001b[39m\u001b[38;5;124m\"\u001b[39m] \u001b[38;5;241m=\u001b[39m \u001b[38;5;124m\"\u001b[39m\u001b[38;5;124mlabels\u001b[39m\u001b[38;5;124m\"\u001b[39m \u001b[38;5;129;01min\u001b[39;00m kwds\n\u001b[0;32m--> 120\u001b[0m \u001b[43mdraw_networkx\u001b[49m\u001b[43m(\u001b[49m\u001b[43mG\u001b[49m\u001b[43m,\u001b[49m\u001b[43m \u001b[49m\u001b[43mpos\u001b[49m\u001b[38;5;241;43m=\u001b[39;49m\u001b[43mpos\u001b[49m\u001b[43m,\u001b[49m\u001b[43m \u001b[49m\u001b[43max\u001b[49m\u001b[38;5;241;43m=\u001b[39;49m\u001b[43max\u001b[49m\u001b[43m,\u001b[49m\u001b[43m \u001b[49m\u001b[38;5;241;43m*\u001b[39;49m\u001b[38;5;241;43m*\u001b[39;49m\u001b[43mkwds\u001b[49m\u001b[43m)\u001b[49m\n\u001b[1;32m    121\u001b[0m ax\u001b[38;5;241m.\u001b[39mset_axis_off()\n\u001b[1;32m    122\u001b[0m plt\u001b[38;5;241m.\u001b[39mdraw_if_interactive()\n",
      "File \u001b[0;32m~/anaconda3/envs/geometric_new/lib/python3.9/site-packages/networkx/drawing/nx_pylab.py:335\u001b[0m, in \u001b[0;36mdraw_networkx\u001b[0;34m(G, pos, arrows, with_labels, **kwds)\u001b[0m\n\u001b[1;32m    332\u001b[0m \u001b[38;5;28;01mif\u001b[39;00m pos \u001b[38;5;129;01mis\u001b[39;00m \u001b[38;5;28;01mNone\u001b[39;00m:\n\u001b[1;32m    333\u001b[0m     pos \u001b[38;5;241m=\u001b[39m nx\u001b[38;5;241m.\u001b[39mdrawing\u001b[38;5;241m.\u001b[39mspring_layout(G)  \u001b[38;5;66;03m# default to spring layout\u001b[39;00m\n\u001b[0;32m--> 335\u001b[0m \u001b[43mdraw_networkx_nodes\u001b[49m\u001b[43m(\u001b[49m\u001b[43mG\u001b[49m\u001b[43m,\u001b[49m\u001b[43m \u001b[49m\u001b[43mpos\u001b[49m\u001b[43m,\u001b[49m\u001b[43m \u001b[49m\u001b[38;5;241;43m*\u001b[39;49m\u001b[38;5;241;43m*\u001b[39;49m\u001b[43mnode_kwds\u001b[49m\u001b[43m)\u001b[49m\n\u001b[1;32m    336\u001b[0m draw_networkx_edges(G, pos, arrows\u001b[38;5;241m=\u001b[39marrows, \u001b[38;5;241m*\u001b[39m\u001b[38;5;241m*\u001b[39medge_kwds)\n\u001b[1;32m    337\u001b[0m \u001b[38;5;28;01mif\u001b[39;00m with_labels:\n",
      "File \u001b[0;32m~/anaconda3/envs/geometric_new/lib/python3.9/site-packages/networkx/drawing/nx_pylab.py:464\u001b[0m, in \u001b[0;36mdraw_networkx_nodes\u001b[0;34m(G, pos, nodelist, node_size, node_color, node_shape, alpha, cmap, vmin, vmax, ax, linewidths, edgecolors, label, margins)\u001b[0m\n\u001b[1;32m    461\u001b[0m     node_color \u001b[38;5;241m=\u001b[39m apply_alpha(node_color, alpha, nodelist, cmap, vmin, vmax)\n\u001b[1;32m    462\u001b[0m     alpha \u001b[38;5;241m=\u001b[39m \u001b[38;5;28;01mNone\u001b[39;00m\n\u001b[0;32m--> 464\u001b[0m node_collection \u001b[38;5;241m=\u001b[39m \u001b[43max\u001b[49m\u001b[38;5;241;43m.\u001b[39;49m\u001b[43mscatter\u001b[49m\u001b[43m(\u001b[49m\n\u001b[1;32m    465\u001b[0m \u001b[43m    \u001b[49m\u001b[43mxy\u001b[49m\u001b[43m[\u001b[49m\u001b[43m:\u001b[49m\u001b[43m,\u001b[49m\u001b[43m \u001b[49m\u001b[38;5;241;43m0\u001b[39;49m\u001b[43m]\u001b[49m\u001b[43m,\u001b[49m\n\u001b[1;32m    466\u001b[0m \u001b[43m    \u001b[49m\u001b[43mxy\u001b[49m\u001b[43m[\u001b[49m\u001b[43m:\u001b[49m\u001b[43m,\u001b[49m\u001b[43m \u001b[49m\u001b[38;5;241;43m1\u001b[39;49m\u001b[43m]\u001b[49m\u001b[43m,\u001b[49m\n\u001b[1;32m    467\u001b[0m \u001b[43m    \u001b[49m\u001b[43ms\u001b[49m\u001b[38;5;241;43m=\u001b[39;49m\u001b[43mnode_size\u001b[49m\u001b[43m,\u001b[49m\n\u001b[1;32m    468\u001b[0m \u001b[43m    \u001b[49m\u001b[43mc\u001b[49m\u001b[38;5;241;43m=\u001b[39;49m\u001b[43mnode_color\u001b[49m\u001b[43m,\u001b[49m\n\u001b[1;32m    469\u001b[0m \u001b[43m    \u001b[49m\u001b[43mmarker\u001b[49m\u001b[38;5;241;43m=\u001b[39;49m\u001b[43mnode_shape\u001b[49m\u001b[43m,\u001b[49m\n\u001b[1;32m    470\u001b[0m \u001b[43m    \u001b[49m\u001b[43mcmap\u001b[49m\u001b[38;5;241;43m=\u001b[39;49m\u001b[43mcmap\u001b[49m\u001b[43m,\u001b[49m\n\u001b[1;32m    471\u001b[0m \u001b[43m    \u001b[49m\u001b[43mvmin\u001b[49m\u001b[38;5;241;43m=\u001b[39;49m\u001b[43mvmin\u001b[49m\u001b[43m,\u001b[49m\n\u001b[1;32m    472\u001b[0m \u001b[43m    \u001b[49m\u001b[43mvmax\u001b[49m\u001b[38;5;241;43m=\u001b[39;49m\u001b[43mvmax\u001b[49m\u001b[43m,\u001b[49m\n\u001b[1;32m    473\u001b[0m \u001b[43m    \u001b[49m\u001b[43malpha\u001b[49m\u001b[38;5;241;43m=\u001b[39;49m\u001b[43malpha\u001b[49m\u001b[43m,\u001b[49m\n\u001b[1;32m    474\u001b[0m \u001b[43m    \u001b[49m\u001b[43mlinewidths\u001b[49m\u001b[38;5;241;43m=\u001b[39;49m\u001b[43mlinewidths\u001b[49m\u001b[43m,\u001b[49m\n\u001b[1;32m    475\u001b[0m \u001b[43m    \u001b[49m\u001b[43medgecolors\u001b[49m\u001b[38;5;241;43m=\u001b[39;49m\u001b[43medgecolors\u001b[49m\u001b[43m,\u001b[49m\n\u001b[1;32m    476\u001b[0m \u001b[43m    \u001b[49m\u001b[43mlabel\u001b[49m\u001b[38;5;241;43m=\u001b[39;49m\u001b[43mlabel\u001b[49m\u001b[43m,\u001b[49m\n\u001b[1;32m    477\u001b[0m \u001b[43m\u001b[49m\u001b[43m)\u001b[49m\n\u001b[1;32m    478\u001b[0m ax\u001b[38;5;241m.\u001b[39mtick_params(\n\u001b[1;32m    479\u001b[0m     axis\u001b[38;5;241m=\u001b[39m\u001b[38;5;124m\"\u001b[39m\u001b[38;5;124mboth\u001b[39m\u001b[38;5;124m\"\u001b[39m,\n\u001b[1;32m    480\u001b[0m     which\u001b[38;5;241m=\u001b[39m\u001b[38;5;124m\"\u001b[39m\u001b[38;5;124mboth\u001b[39m\u001b[38;5;124m\"\u001b[39m,\n\u001b[0;32m   (...)\u001b[0m\n\u001b[1;32m    484\u001b[0m     labelleft\u001b[38;5;241m=\u001b[39m\u001b[38;5;28;01mFalse\u001b[39;00m,\n\u001b[1;32m    485\u001b[0m )\n\u001b[1;32m    487\u001b[0m \u001b[38;5;28;01mif\u001b[39;00m margins \u001b[38;5;129;01mis\u001b[39;00m \u001b[38;5;129;01mnot\u001b[39;00m \u001b[38;5;28;01mNone\u001b[39;00m:\n",
      "File \u001b[0;32m~/anaconda3/envs/geometric_new/lib/python3.9/site-packages/matplotlib/__init__.py:1412\u001b[0m, in \u001b[0;36m_preprocess_data.<locals>.inner\u001b[0;34m(ax, data, *args, **kwargs)\u001b[0m\n\u001b[1;32m   1409\u001b[0m \u001b[38;5;129m@functools\u001b[39m\u001b[38;5;241m.\u001b[39mwraps(func)\n\u001b[1;32m   1410\u001b[0m \u001b[38;5;28;01mdef\u001b[39;00m \u001b[38;5;21minner\u001b[39m(ax, \u001b[38;5;241m*\u001b[39margs, data\u001b[38;5;241m=\u001b[39m\u001b[38;5;28;01mNone\u001b[39;00m, \u001b[38;5;241m*\u001b[39m\u001b[38;5;241m*\u001b[39mkwargs):\n\u001b[1;32m   1411\u001b[0m     \u001b[38;5;28;01mif\u001b[39;00m data \u001b[38;5;129;01mis\u001b[39;00m \u001b[38;5;28;01mNone\u001b[39;00m:\n\u001b[0;32m-> 1412\u001b[0m         \u001b[38;5;28;01mreturn\u001b[39;00m \u001b[43mfunc\u001b[49m\u001b[43m(\u001b[49m\u001b[43max\u001b[49m\u001b[43m,\u001b[49m\u001b[43m \u001b[49m\u001b[38;5;241;43m*\u001b[39;49m\u001b[38;5;28;43mmap\u001b[39;49m\u001b[43m(\u001b[49m\u001b[43msanitize_sequence\u001b[49m\u001b[43m,\u001b[49m\u001b[43m \u001b[49m\u001b[43margs\u001b[49m\u001b[43m)\u001b[49m\u001b[43m,\u001b[49m\u001b[43m \u001b[49m\u001b[38;5;241;43m*\u001b[39;49m\u001b[38;5;241;43m*\u001b[39;49m\u001b[43mkwargs\u001b[49m\u001b[43m)\u001b[49m\n\u001b[1;32m   1414\u001b[0m     bound \u001b[38;5;241m=\u001b[39m new_sig\u001b[38;5;241m.\u001b[39mbind(ax, \u001b[38;5;241m*\u001b[39margs, \u001b[38;5;241m*\u001b[39m\u001b[38;5;241m*\u001b[39mkwargs)\n\u001b[1;32m   1415\u001b[0m     auto_label \u001b[38;5;241m=\u001b[39m (bound\u001b[38;5;241m.\u001b[39marguments\u001b[38;5;241m.\u001b[39mget(label_namer)\n\u001b[1;32m   1416\u001b[0m                   \u001b[38;5;129;01mor\u001b[39;00m bound\u001b[38;5;241m.\u001b[39mkwargs\u001b[38;5;241m.\u001b[39mget(label_namer))\n",
      "File \u001b[0;32m~/anaconda3/envs/geometric_new/lib/python3.9/site-packages/matplotlib/axes/_axes.py:4387\u001b[0m, in \u001b[0;36mAxes.scatter\u001b[0;34m(self, x, y, s, c, marker, cmap, norm, vmin, vmax, alpha, linewidths, edgecolors, plotnonfinite, **kwargs)\u001b[0m\n\u001b[1;32m   4384\u001b[0m \u001b[38;5;28;01mif\u001b[39;00m edgecolors \u001b[38;5;129;01mis\u001b[39;00m \u001b[38;5;28;01mNone\u001b[39;00m:\n\u001b[1;32m   4385\u001b[0m     orig_edgecolor \u001b[38;5;241m=\u001b[39m kwargs\u001b[38;5;241m.\u001b[39mget(\u001b[38;5;124m'\u001b[39m\u001b[38;5;124medgecolor\u001b[39m\u001b[38;5;124m'\u001b[39m, \u001b[38;5;28;01mNone\u001b[39;00m)\n\u001b[1;32m   4386\u001b[0m c, colors, edgecolors \u001b[38;5;241m=\u001b[39m \\\n\u001b[0;32m-> 4387\u001b[0m     \u001b[38;5;28;43mself\u001b[39;49m\u001b[38;5;241;43m.\u001b[39;49m\u001b[43m_parse_scatter_color_args\u001b[49m\u001b[43m(\u001b[49m\n\u001b[1;32m   4388\u001b[0m \u001b[43m        \u001b[49m\u001b[43mc\u001b[49m\u001b[43m,\u001b[49m\u001b[43m \u001b[49m\u001b[43medgecolors\u001b[49m\u001b[43m,\u001b[49m\u001b[43m \u001b[49m\u001b[43mkwargs\u001b[49m\u001b[43m,\u001b[49m\u001b[43m \u001b[49m\u001b[43mx\u001b[49m\u001b[38;5;241;43m.\u001b[39;49m\u001b[43msize\u001b[49m\u001b[43m,\u001b[49m\n\u001b[1;32m   4389\u001b[0m \u001b[43m        \u001b[49m\u001b[43mget_next_color_func\u001b[49m\u001b[38;5;241;43m=\u001b[39;49m\u001b[38;5;28;43mself\u001b[39;49m\u001b[38;5;241;43m.\u001b[39;49m\u001b[43m_get_patches_for_fill\u001b[49m\u001b[38;5;241;43m.\u001b[39;49m\u001b[43mget_next_color\u001b[49m\u001b[43m)\u001b[49m\n\u001b[1;32m   4391\u001b[0m \u001b[38;5;28;01mif\u001b[39;00m plotnonfinite \u001b[38;5;129;01mand\u001b[39;00m colors \u001b[38;5;129;01mis\u001b[39;00m \u001b[38;5;28;01mNone\u001b[39;00m:\n\u001b[1;32m   4392\u001b[0m     c \u001b[38;5;241m=\u001b[39m np\u001b[38;5;241m.\u001b[39mma\u001b[38;5;241m.\u001b[39mmasked_invalid(c)\n",
      "File \u001b[0;32m~/anaconda3/envs/geometric_new/lib/python3.9/site-packages/matplotlib/axes/_axes.py:4237\u001b[0m, in \u001b[0;36mAxes._parse_scatter_color_args\u001b[0;34m(c, edgecolors, kwargs, xsize, get_next_color_func)\u001b[0m\n\u001b[1;32m   4233\u001b[0m     \u001b[38;5;28;01melse\u001b[39;00m:\n\u001b[1;32m   4234\u001b[0m         \u001b[38;5;28;01mif\u001b[39;00m \u001b[38;5;28mlen\u001b[39m(colors) \u001b[38;5;129;01mnot\u001b[39;00m \u001b[38;5;129;01min\u001b[39;00m (\u001b[38;5;241m0\u001b[39m, \u001b[38;5;241m1\u001b[39m, xsize):\n\u001b[1;32m   4235\u001b[0m             \u001b[38;5;66;03m# NB: remember that a single color is also acceptable.\u001b[39;00m\n\u001b[1;32m   4236\u001b[0m             \u001b[38;5;66;03m# Besides *colors* will be an empty array if c == 'none'.\u001b[39;00m\n\u001b[0;32m-> 4237\u001b[0m             \u001b[38;5;28;01mraise\u001b[39;00m invalid_shape_exception(\u001b[38;5;28mlen\u001b[39m(colors), xsize)\n\u001b[1;32m   4238\u001b[0m \u001b[38;5;28;01melse\u001b[39;00m:\n\u001b[1;32m   4239\u001b[0m     colors \u001b[38;5;241m=\u001b[39m \u001b[38;5;28;01mNone\u001b[39;00m  \u001b[38;5;66;03m# use cmap, norm after collection is created\u001b[39;00m\n",
      "\u001b[0;31mValueError\u001b[0m: 'c' argument has 41 elements, which is inconsistent with 'x' and 'y' with size 56."
     ]
    },
    {
     "data": {
      "image/png": "[encoded data removed]",
      "text/plain": [
       "<Figure size 432x288 with 1 Axes>"
      ]
     },
     "metadata": {},
     "output_type": "display_data"
    }
   ],
   "source": []
  },
  {
   "cell_type": "code",
   "execution_count": null,
   "id": "2c54a26a",
   "metadata": {},
   "outputs": [],
   "source": []
  },
  {
   "cell_type": "code",
   "execution_count": null,
   "id": "412528a6",
   "metadata": {},
   "outputs": [],
   "source": []
  },
  {
   "cell_type": "code",
   "execution_count": null,
   "id": "ed941d7e",
   "metadata": {},
   "outputs": [],
   "source": []
  },
  {
   "cell_type": "code",
   "execution_count": null,
   "id": "836a0582",
   "metadata": {},
   "outputs": [],
   "source": []
  },
  {
   "cell_type": "code",
   "execution_count": null,
   "id": "fe152839",
   "metadata": {},
   "outputs": [],
   "source": []
  },
  {
   "cell_type": "code",
   "execution_count": null,
   "id": "48208e81",
   "metadata": {},
   "outputs": [],
   "source": []
  },
  {
   "cell_type": "markdown",
   "id": "05dab388",
   "metadata": {},
   "source": [
    "# generate stars with colors"
   ]
  },
  {
   "cell_type": "code",
   "execution_count": null,
   "id": "533504d5",
   "metadata": {},
   "outputs": [],
   "source": []
  },
  {
   "cell_type": "code",
   "execution_count": 1,
   "id": "da28eeb6",
   "metadata": {},
   "outputs": [],
   "source": [
    "\n",
    "def generate_star_network_BA_color_class_1(nb_nodesBA,nb_stars,nb_rewire=10,small_star=10,big_star=16):\n",
    "    # generate ER base\n",
    "    is_connected = False\n",
    "    while not is_connected:\n",
    "        g = nx.fast_gnp_random_graph(nb_nodesBA,0.1)\n",
    "        is_connected = nx.is_connected(g)\n",
    "    # add color to ER\n",
    "    color = 0\n",
    "    for n in g.nodes():\n",
    "        g.nodes()[n][\"color\"] = 0#np.random.randint(0,3)\n",
    "        \n",
    "        \n",
    "        \n",
    "    # generate 2 stars color == 1, then color = 2\n",
    "    star_size = np.arange(small_star,big_star)\n",
    "    color = color + 1\n",
    "    centers = []\n",
    "    for i in range(nb_stars):\n",
    "        size = np.random.choice(star_size)\n",
    "        star = nx.star_graph(size)\n",
    "        for n in star.nodes():\n",
    "            star.nodes()[n][\"color\"] = color\n",
    "            \n",
    "        centers.append(len(g))\n",
    "        g = nx.union(g,star,rename=(\"a\",\"b\"))\n",
    "        a = np.random.choice(list(list(nx.connected_components(g))[0]))\n",
    "        b = np.random.choice(list(list(nx.connected_components(g))[1]))\n",
    "        \n",
    "        g.add_edge(a,b)\n",
    "        \n",
    "        if i >= 1:\n",
    "            color = np.random.choice([0,2])\n",
    "    \n",
    "    mapping = dict()\n",
    "    c = 0\n",
    "    for n in g.nodes():\n",
    "        mapping[n] = c\n",
    "        c = c + 1\n",
    "    g = nx.relabel_nodes(g,mapping)\n",
    "    \n",
    "    return g,centers\n"
   ]
  },
  {
   "cell_type": "code",
   "execution_count": 2,
   "id": "3162d1a2",
   "metadata": {},
   "outputs": [],
   "source": [
    "def generate_star_network_BA_color_class_0(nb_nodesBA,nb_stars,nb_rewire=10,small_star=10,big_star=16):\n",
    "    \n",
    "    no_two_color_1 = False\n",
    "    \n",
    "    while not no_two_color_1:\n",
    "        # generate ER base\n",
    "        is_connected = False\n",
    "        while not is_connected:\n",
    "            g = nx.fast_gnp_random_graph(nb_nodesBA,0.1)\n",
    "            is_connected = nx.is_connected(g)\n",
    "        # add color to ER\n",
    "        \n",
    "        color = 0\n",
    "        for n in g.nodes():\n",
    "            g.nodes()[n][\"color\"] = 0#np.random.randint(0,3)\n",
    "\n",
    "\n",
    "        # generate stars with random colors (never 2 star with color == 1)\n",
    "        star_size = np.arange(small_star,big_star)\n",
    "        color = 1\n",
    "        colors_history = []\n",
    "        centers = []\n",
    "        for i in range(nb_stars):\n",
    "            size = np.random.choice(star_size)\n",
    "            star = nx.star_graph(size)\n",
    "            for n in star.nodes():\n",
    "                star.nodes()[n][\"color\"] = color\n",
    "            centers.append(len(g))\n",
    "            g = nx.union(g,star,rename=(\"a\",\"b\"))\n",
    "            a = np.random.choice(list(list(nx.connected_components(g))[0]))\n",
    "            b = np.random.choice(list(list(nx.connected_components(g))[1]))\n",
    "\n",
    "            g.add_edge(a,b)\n",
    "            \n",
    "            colors_history.append(color)\n",
    "            if i >= 1:\n",
    "                color = np.random.choice([0,1,2])\n",
    "                \n",
    "\n",
    "        mapping = dict()\n",
    "        c = 0\n",
    "        for n in g.nodes():\n",
    "            mapping[n] = c\n",
    "            c = c + 1\n",
    "        g = nx.relabel_nodes(g,mapping)\n",
    "        if not colors_history.count(1) == 2:\n",
    "            no_two_color_1 = True\n",
    "    return g,centers"
   ]
  },
  {
   "cell_type": "code",
   "execution_count": null,
   "id": "44f7810f",
   "metadata": {},
   "outputs": [],
   "source": []
  },
  {
   "cell_type": "code",
   "execution_count": null,
   "id": "f042f328",
   "metadata": {},
   "outputs": [],
   "source": []
  },
  {
   "cell_type": "code",
   "execution_count": 5,
   "id": "4f951ec5",
   "metadata": {},
   "outputs": [],
   "source": [
    "graphs = []\n",
    "labels = []\n",
    "ground_truth = []\n",
    "for i in range(10):\n",
    "    g,gt = generate_star_network_BA_color_class_0(np.random.randint(20,51),4)\n",
    "    graphs.append(g)\n",
    "    ground_truth.append(gt)\n",
    "    labels.append(0)\n",
    "    \n",
    "    \n",
    "    g,gt = generate_star_network_BA_color_class_1(np.random.randint(20,51),4)\n",
    "    graphs.append(g)\n",
    "    ground_truth.append(gt)\n",
    "    labels.append(1)"
   ]
  },
  {
   "cell_type": "code",
   "execution_count": null,
   "id": "100b2357",
   "metadata": {},
   "outputs": [],
   "source": []
  },
  {
   "cell_type": "code",
   "execution_count": 6,
   "id": "5f6c176a",
   "metadata": {},
   "outputs": [
    {
     "data": {
      "text/plain": [
       "[[40, 55, 67, 83],\n",
       " [34, 48, 62, 76],\n",
       " [38, 54, 70, 86],\n",
       " [32, 45, 58, 73],\n",
       " [31, 46, 61, 77],\n",
       " [31, 47, 60, 72],\n",
       " [44, 58, 69, 82],\n",
       " [45, 59, 73, 88],\n",
       " [31, 44, 57, 71],\n",
       " [44, 55, 71, 84],\n",
       " [28, 40, 54, 67],\n",
       " [20, 35, 51, 66],\n",
       " [50, 65, 81, 95],\n",
       " [46, 58, 72, 87],\n",
       " [35, 46, 57, 68],\n",
       " [26, 39, 51, 66],\n",
       " [35, 48, 60, 74],\n",
       " [37, 51, 63, 75],\n",
       " [32, 46, 60, 73],\n",
       " [26, 37, 49, 61]]"
      ]
     },
     "execution_count": 6,
     "metadata": {},
     "output_type": "execute_result"
    }
   ],
   "source": [
    "ground_truth"
   ]
  },
  {
   "cell_type": "code",
   "execution_count": 10,
   "id": "a2b3588c",
   "metadata": {},
   "outputs": [
    {
     "data": {
      "image/png": "[encoded data removed]",
      "text/plain": [
       "<Figure size 432x288 with 1 Axes>"
      ]
     },
     "metadata": {},
     "output_type": "display_data"
    }
   ],
   "source": []
  },
  {
   "cell_type": "code",
   "execution_count": null,
   "id": "24f85973",
   "metadata": {},
   "outputs": [],
   "source": []
  },
  {
   "cell_type": "code",
   "execution_count": null,
   "id": "7a8b09d6",
   "metadata": {},
   "outputs": [],
   "source": []
  },
  {
   "cell_type": "code",
   "execution_count": 15,
   "id": "b873509d",
   "metadata": {},
   "outputs": [
    {
     "name": "stderr",
     "output_type": "stream",
     "text": [
      "<ipython-input-15-aed78551cab8>:5: FutureWarning: adjacency_matrix will return a scipy.sparse array instead of a matrix in Networkx 3.0.\n",
      "  adj.append(nx.adjacency_matrix(g).A.copy())\n"
     ]
    }
   ],
   "source": [
    "adj = []\n",
    "feas = []\n",
    "\n",
    "for g in graphs:\n",
    "    adj.append(nx.adjacency_matrix(g).A.copy())\n",
    "    \n",
    "    node_feat = []\n",
    "    for k,v in dict(nx.get_node_attributes(g,\"color\")).items():\n",
    "        if v == 0:\n",
    "            node_feat.append([1,0,0])\n",
    "        if v == 1:\n",
    "            node_feat.append([0,1,0])\n",
    "        if v == 2:\n",
    "            node_feat.append([0,0,1])\n",
    "    feas.append(node_feat)"
   ]
  },
  {
   "cell_type": "code",
   "execution_count": 16,
   "id": "5bbc199c",
   "metadata": {},
   "outputs": [],
   "source": [
    "f = open('ER-nb_stars_color.pkl','wb')\n",
    "pkl.dump((adj,feas,labels),f)\n",
    "f.close()"
   ]
  },
  {
   "cell_type": "code",
   "execution_count": 17,
   "id": "12b13347",
   "metadata": {},
   "outputs": [],
   "source": [
    "\n",
    "np.save(\"ER-nb_stars_color-GT\",ground_truth)"
   ]
  },
  {
   "cell_type": "code",
   "execution_count": null,
   "id": "d25dcd28",
   "metadata": {},
   "outputs": [],
   "source": []
  },
  {
   "cell_type": "code",
   "execution_count": null,
   "id": "f1f760b5",
   "metadata": {},
   "outputs": [],
   "source": []
  },
  {
   "cell_type": "code",
   "execution_count": 23,
   "id": "38ced21c",
   "metadata": {},
   "outputs": [],
   "source": []
  },
  {
   "cell_type": "code",
   "execution_count": 31,
   "id": "d5cd7895",
   "metadata": {},
   "outputs": [
    {
     "data": {
      "image/png": "[encoded data removed]",
      "text/plain": [
       "<Figure size 432x288 with 1 Axes>"
      ]
     },
     "metadata": {},
     "output_type": "display_data"
    }
   ],
   "source": [
    "g = graphs[7]\n",
    "color_map = []\n",
    "for node in g:\n",
    "    color = g.nodes()[node][\"color\"]\n",
    "    if color == 0:\n",
    "        color_map.append(\"red\")\n",
    "    if color == 1:\n",
    "        color_map.append('blue')\n",
    "    if color == 2:\n",
    "        color_map.append('green')   \n",
    "nx.draw(g, node_color=color_map,node_size=200,with_labels=True)"
   ]
  },
  {
   "cell_type": "code",
   "execution_count": null,
   "id": "2b75e637",
   "metadata": {},
   "outputs": [],
   "source": []
  },
  {
   "cell_type": "code",
   "execution_count": null,
   "id": "43a5287a",
   "metadata": {},
   "outputs": [],
   "source": []
  },
  {
   "cell_type": "code",
   "execution_count": null,
   "id": "f27aab2a",
   "metadata": {},
   "outputs": [],
   "source": []
  },
  {
   "cell_type": "code",
   "execution_count": null,
   "id": "0b41ed3d",
   "metadata": {},
   "outputs": [],
   "source": []
  },
  {
   "cell_type": "markdown",
   "id": "e7b7afb1",
   "metadata": {},
   "source": [
    "# below old stuff"
   ]
  },
  {
   "cell_type": "code",
   "execution_count": null,
   "id": "cb508f22",
   "metadata": {},
   "outputs": [],
   "source": []
  },
  {
   "cell_type": "code",
   "execution_count": null,
   "id": "6aa4910f",
   "metadata": {},
   "outputs": [],
   "source": [
    "with open('BA-2motif.pkl','rb') as fin:\n",
    "    (adjs, feas, labels) = pkl.load(fin)\n",
    "    \n",
    "    \n",
    "new_adjs = []\n",
    "new_x = []\n",
    "for adj in adjs:\n",
    "    g = nx.from_numpy_array(adj)\n",
    "    neig_deg = nx.average_neighbor_degree(g)\n",
    "    close = nx.closeness_centrality(g)\n",
    "    betwe = nx.betweenness_centrality(g)\n",
    "    clust = nx.clustering(g)\n",
    "    #eig = nx.eigenvector_centrality(g)\n",
    "    for i in g.nodes():\n",
    "        \n",
    "        #w = [clust[i]]#,eig[i]]\n",
    "        w = [nx.degree(g,i),neig_deg[i],close[i],betwe[i]]#,clust[i]]#,eig[i]]\n",
    "        g.nodes()[i][\"x\"]=w\n",
    "        \n",
    "        \n",
    "    adj = nx.adjacency_matrix(g).A\n",
    "    x = np.array(list(nx.get_node_attributes(g,\"x\").values()))\n",
    "    \n",
    "    new_adjs.append(adj)\n",
    "    new_x.append(x)"
   ]
  },
  {
   "cell_type": "code",
   "execution_count": null,
   "id": "ba32a619",
   "metadata": {},
   "outputs": [],
   "source": []
  },
  {
   "cell_type": "code",
   "execution_count": null,
   "id": "b031cabf",
   "metadata": {},
   "outputs": [],
   "source": []
  },
  {
   "cell_type": "code",
   "execution_count": null,
   "id": "6e104dfb",
   "metadata": {},
   "outputs": [],
   "source": []
  },
  {
   "cell_type": "code",
   "execution_count": null,
   "id": "d51b51de",
   "metadata": {},
   "outputs": [],
   "source": []
  },
  {
   "cell_type": "markdown",
   "id": "8e8092b6",
   "metadata": {},
   "source": [
    "# ba 2 grid"
   ]
  },
  {
   "cell_type": "code",
   "execution_count": null,
   "id": "804b2b48",
   "metadata": {},
   "outputs": [],
   "source": []
  },
  {
   "cell_type": "code",
   "execution_count": null,
   "id": "df4e9f19",
   "metadata": {},
   "outputs": [],
   "source": []
  },
  {
   "cell_type": "code",
   "execution_count": null,
   "id": "c0f596db",
   "metadata": {},
   "outputs": [],
   "source": [
    "adjs = []\n",
    "lab = []\n",
    "feas = []\n",
    "kk = 500\n",
    "for i in range(kk):\n",
    "    g1 = nx.barabasi_albert_graph(23,1)\n",
    "    \n",
    "    adjs.append(nx.adjacency_matrix(g1).A)\n",
    "    lab.append(0)\n",
    "    fea = []\n",
    "    for n in range(23):\n",
    "        fea.append([0.1]*10)\n",
    "    feas.append(fea)\n",
    "    assert(np.max(g1.nodes())+1==len(g1.nodes()))\n",
    "    \n",
    "for i in range(kk):\n",
    "    random_ba = np.random.randint(0,14)\n",
    "    random_grid = np.random.randint(0,8)\n",
    "    g = nx.grid_graph(dim=(3,3))\n",
    "    mapping = {}\n",
    "    nodes = list(g.nodes()) \n",
    "    c = 15\n",
    "    mapping[nodes[random_grid]] = random_ba\n",
    "    nodes.remove(nodes[random_grid])\n",
    "    for i in range(len(nodes)):\n",
    "        n = nodes[i]\n",
    "        mapping[n] = c\n",
    "        c = c + 1\n",
    "\n",
    "    g = nx.relabel_nodes(g, mapping)\n",
    "\n",
    "    g1 = nx.barabasi_albert_graph(15,1)\n",
    "\n",
    "    F = nx.compose(g,g1)\n",
    "    adjs.append(nx.adjacency_matrix(F).A)\n",
    "    lab.append(1)\n",
    "    fea = []\n",
    "    for n in range(23):\n",
    "        fea.append([0.1]*10)\n",
    "    feas.append(fea)\n",
    "    assert(np.max(F.nodes())+1==len(F.nodes()))"
   ]
  },
  {
   "cell_type": "code",
   "execution_count": null,
   "id": "5ae18029",
   "metadata": {},
   "outputs": [],
   "source": [
    "f = open('BA-2grid.pkl','wb')\n",
    "pkl.dump((adjs,feas,lab),f)\n",
    "f.close()"
   ]
  },
  {
   "cell_type": "code",
   "execution_count": null,
   "id": "178d32d5",
   "metadata": {},
   "outputs": [],
   "source": [
    "F = nx.from_numpy_array(adjs[-5])\n",
    "nx.draw(F,with_labels=True)"
   ]
  },
  {
   "cell_type": "markdown",
   "id": "7171be0d",
   "metadata": {},
   "source": [
    "# ba_2grid_nodeFeature"
   ]
  },
  {
   "cell_type": "code",
   "execution_count": null,
   "id": "375c46e7",
   "metadata": {},
   "outputs": [],
   "source": [
    "with open('BA-2grid.pkl','rb') as fin:\n",
    "    (adjs, feas, labels) = pkl.load(fin)"
   ]
  },
  {
   "cell_type": "code",
   "execution_count": null,
   "id": "69c69d9f",
   "metadata": {},
   "outputs": [],
   "source": [
    "   \n",
    "new_adjs = []\n",
    "new_x = []\n",
    "for adj in adjs:\n",
    "    g = nx.from_numpy_array(adj)\n",
    "    neig_deg = nx.average_neighbor_degree(g)\n",
    "    close = nx.closeness_centrality(g)\n",
    "    betwe = nx.betweenness_centrality(g)\n",
    "    clust = nx.clustering(g)\n",
    "    #eig = nx.eigenvector_centrality(g)\n",
    "    for i in g.nodes():\n",
    "        \n",
    "        #w = [clust[i]]#,eig[i]]\n",
    "        w = [nx.degree(g,i),neig_deg[i],close[i],betwe[i]]#,clust[i]]#,eig[i]]\n",
    "        g.nodes()[i][\"x\"]=w\n",
    "        \n",
    "        \n",
    "    adj = nx.adjacency_matrix(g).A\n",
    "    x = np.array(list(nx.get_node_attributes(g,\"x\").values()))\n",
    "    \n",
    "    new_adjs.append(adj)\n",
    "    new_x.append(x)"
   ]
  },
  {
   "cell_type": "code",
   "execution_count": null,
   "id": "7bb80aba",
   "metadata": {},
   "outputs": [],
   "source": [
    "f = open('BA-2grid-nodeFeatures.pkl','wb')\n",
    "pkl.dump((new_adjs,new_x,labels),f)\n",
    "f.close()"
   ]
  },
  {
   "cell_type": "code",
   "execution_count": null,
   "id": "b1753bf3",
   "metadata": {},
   "outputs": [],
   "source": [
    "with open('BA-2grid-nodeFeatures.pkl','rb') as fin:\n",
    "    (adjs, feas, labels) = pkl.load(fin)"
   ]
  },
  {
   "cell_type": "code",
   "execution_count": null,
   "id": "f28193ef",
   "metadata": {},
   "outputs": [],
   "source": []
  },
  {
   "cell_type": "code",
   "execution_count": null,
   "id": "699ae2e6",
   "metadata": {},
   "outputs": [],
   "source": []
  },
  {
   "cell_type": "code",
   "execution_count": null,
   "id": "09779f3a",
   "metadata": {},
   "outputs": [],
   "source": []
  },
  {
   "cell_type": "code",
   "execution_count": null,
   "id": "6a50a648",
   "metadata": {},
   "outputs": [],
   "source": []
  },
  {
   "cell_type": "markdown",
   "id": "b52ceb66",
   "metadata": {},
   "source": [
    "# ba 2cycle"
   ]
  },
  {
   "cell_type": "code",
   "execution_count": null,
   "id": "d391fa11",
   "metadata": {},
   "outputs": [],
   "source": [
    "adjs = []\n",
    "lab = []\n",
    "feas = []\n",
    "kk = 500\n",
    "for i in range(kk):\n",
    "    g1 = nx.barabasi_albert_graph(23,1)\n",
    "    \n",
    "    adjs.append(nx.adjacency_matrix(g1).A)\n",
    "    lab.append(0)\n",
    "    fea = []\n",
    "    for n in range(23):\n",
    "        fea.append([0.1]*10)\n",
    "    feas.append(fea)\n",
    "    assert(np.max(g1.nodes())+1==len(g1.nodes()))\n",
    "    \n",
    "for i in range(kk):\n",
    "    \n",
    "    random_ba = np.random.randint(0,17)\n",
    "    random_grid = np.random.randint(0,5)\n",
    "    g = nx.cycle_graph(6)\n",
    "    mapping = {}\n",
    "    nodes = list(g.nodes()) \n",
    "    c = 18\n",
    "    mapping[nodes[random_grid]] = random_ba\n",
    "    nodes.remove(nodes[random_grid])\n",
    "    for i in range(len(nodes)):\n",
    "        n = nodes[i]\n",
    "        mapping[n] = c\n",
    "        c = c + 1\n",
    "\n",
    "    g = nx.relabel_nodes(g, mapping)\n",
    "\n",
    "    g1 = nx.barabasi_albert_graph(18,1)\n",
    "\n",
    "    F = nx.compose(g,g1)\n",
    "    adjs.append(nx.adjacency_matrix(F).A)\n",
    "    lab.append(1)\n",
    "    fea = []\n",
    "    for n in range(23):\n",
    "        fea.append([0.1]*10)\n",
    "    feas.append(fea)\n",
    "    assert(np.max(F.nodes())+1==len(F.nodes()))"
   ]
  },
  {
   "cell_type": "code",
   "execution_count": null,
   "id": "8908a614",
   "metadata": {},
   "outputs": [],
   "source": [
    "f = open('BA-2cycle.pkl','wb')\n",
    "pkl.dump((adjs,feas,lab),f)\n",
    "f.close()"
   ]
  },
  {
   "cell_type": "markdown",
   "id": "64d40231",
   "metadata": {},
   "source": [
    "# BA_2Cycles_node features "
   ]
  },
  {
   "cell_type": "code",
   "execution_count": null,
   "id": "c37920f2",
   "metadata": {},
   "outputs": [],
   "source": [
    "with open('BA-2cycle.pkl','rb') as fin:\n",
    "    (adjs, feas, labels) = pkl.load(fin)"
   ]
  },
  {
   "cell_type": "code",
   "execution_count": null,
   "id": "30b4ed85",
   "metadata": {},
   "outputs": [],
   "source": [
    "   \n",
    "new_adjs = []\n",
    "new_x = []\n",
    "for adj in adjs:\n",
    "    g = nx.from_numpy_array(adj)\n",
    "    neig_deg = nx.average_neighbor_degree(g)\n",
    "    close = nx.closeness_centrality(g)\n",
    "    betwe = nx.betweenness_centrality(g)\n",
    "    clust = nx.clustering(g)\n",
    "    #eig = nx.eigenvector_centrality(g)\n",
    "    for i in g.nodes():\n",
    "        \n",
    "        #w = [clust[i]]#,eig[i]]\n",
    "        w = [nx.degree(g,i),neig_deg[i],close[i],betwe[i]]#,clust[i]]#,eig[i]]\n",
    "        g.nodes()[i][\"x\"]=w\n",
    "        \n",
    "        \n",
    "    adj = nx.adjacency_matrix(g).A\n",
    "    x = np.array(list(nx.get_node_attributes(g,\"x\").values()))\n",
    "    \n",
    "    new_adjs.append(adj)\n",
    "    new_x.append(x)"
   ]
  },
  {
   "cell_type": "code",
   "execution_count": null,
   "id": "181d489c",
   "metadata": {},
   "outputs": [],
   "source": [
    "f = open('BA-2cycle-nodeFeatures.pkl','wb')\n",
    "pkl.dump((new_adjs,new_x,labels),f)\n",
    "f.close()"
   ]
  },
  {
   "cell_type": "markdown",
   "id": "abb6c841",
   "metadata": {},
   "source": [
    "# eliminami"
   ]
  },
  {
   "cell_type": "code",
   "execution_count": null,
   "id": "e29429f4",
   "metadata": {},
   "outputs": [],
   "source": [
    "with open('BA-2cycle-nodeFeatures.pkl','rb') as fin:\n",
    "    (adjs, feas, labels) = pkl.load(fin)"
   ]
  },
  {
   "cell_type": "code",
   "execution_count": null,
   "id": "6dc0d935",
   "metadata": {},
   "outputs": [],
   "source": [
    "feas[0],labels[0]"
   ]
  },
  {
   "cell_type": "code",
   "execution_count": null,
   "id": "d514f4b5",
   "metadata": {},
   "outputs": [],
   "source": [
    "feas[-1],labels[-1]"
   ]
  },
  {
   "cell_type": "code",
   "execution_count": null,
   "id": "2ad4f593",
   "metadata": {},
   "outputs": [],
   "source": [
    "import synthetics as sy\n",
    "import networkx as nx"
   ]
  },
  {
   "cell_type": "code",
   "execution_count": null,
   "id": "13e5b17e",
   "metadata": {},
   "outputs": [],
   "source": [
    "a = sy.generate_dataset_multishape(10)"
   ]
  },
  {
   "cell_type": "code",
   "execution_count": null,
   "id": "db0abb57",
   "metadata": {},
   "outputs": [],
   "source": [
    "from typing import Optional, Callable\n",
    "\n",
    "import torch\n",
    "from networkx.generators import random_graphs, lattice, small, classic\n",
    "from torch_geometric.data import InMemoryDataset, Data\n",
    "from torch_geometric.utils import barabasi_albert_graph\n",
    "import networkx as nx\n",
    "import pickle as pkl\n",
    "import random\n",
    "import numpy as np\n",
    "import torch_geometric.transforms as T\n",
    "from networkx.algorithms.operators.binary import compose, union"
   ]
  },
  {
   "cell_type": "code",
   "execution_count": null,
   "id": "fa15e778",
   "metadata": {},
   "outputs": [],
   "source": [
    "import numpy as np\n",
    "def combine_random_graphs(lab=0):\n",
    "    \"\"\"\n",
    "    Combines BA random graph with a small graph with known structure.\n",
    "    \"\"\"\n",
    "    m = 6\n",
    "    n = np.random.randint(25,29)\n",
    "    \n",
    "    \n",
    "    np.random.default_rng(42)\n",
    "    p2 = np.random.randint(3)\n",
    "\n",
    "    # generate random BA graph\n",
    "    if lab == 0:\n",
    "        g1 = random_graphs.barabasi_albert_graph(n, m)\n",
    "        label = 0\n",
    "    else:\n",
    "        g1 = random_graphs.barabasi_albert_graph(20, m)\n",
    "        label = 0\n",
    "        # generate a small graph with known structure\n",
    "        if p2 == 0:\n",
    "            g2 = lattice.grid_2d_graph(3, 3)\n",
    "        elif p2 == 1:\n",
    "            g2 = small.house_graph()\n",
    "        else:\n",
    "            g2 = classic.wheel_graph(m)\n",
    "\n",
    "        # merge the two graphs\n",
    "        g12 = union(g1, g2, rename=('G1', 'G2'))\n",
    "        a12 = nx.to_numpy_array(g12)\n",
    "        a12[len(g1) - 1, len(g1) + 1] = 1\n",
    "        g12 = nx.from_numpy_array(a12)\n",
    "        g1 = g12\n",
    "        label = 1\n",
    "        \n",
    "    return nx.adjacency_matrix(g1).A, label,list(np.ones((len(g1.nodes()),10))/10)\n",
    "\n",
    "\n",
    "def generate_dataset_multishape(n_samples):\n",
    "    \"\"\"\n",
    "    Generate a dataset where each sample is a combination of a random BA graph and a small graph with known structure.\n",
    "    \"\"\"\n",
    "    graphs = []\n",
    "    labels = []\n",
    "    node_f = []\n",
    "    p1 = 0\n",
    "    for i in range(n_samples):\n",
    "        g, label,nf = combine_random_graphs(0)\n",
    "        graphs.append(g)\n",
    "        labels.append(label)\n",
    "        node_f.append(nf)\n",
    "    p1 = 1\n",
    "    for i in range(n_samples):\n",
    "        g, label,nf = combine_random_graphs(1)\n",
    "        graphs.append(g)\n",
    "        labels.append(label)\n",
    "        node_f.append(nf)\n",
    "    return graphs, labels,node_f\n"
   ]
  },
  {
   "cell_type": "code",
   "execution_count": null,
   "id": "eabbab8b",
   "metadata": {},
   "outputs": [],
   "source": [
    "g,l,node_f= generate_dataset_multishape(500)"
   ]
  },
  {
   "cell_type": "code",
   "execution_count": null,
   "id": "0b9365f8",
   "metadata": {},
   "outputs": [],
   "source": [
    "f = open('BA-multipleShapes.pkl','wb')\n",
    "pkl.dump((g,node_f,l),f)\n",
    "f.close()"
   ]
  },
  {
   "cell_type": "code",
   "execution_count": null,
   "id": "33c06880",
   "metadata": {},
   "outputs": [],
   "source": []
  },
  {
   "cell_type": "code",
   "execution_count": null,
   "id": "06226416",
   "metadata": {},
   "outputs": [],
   "source": []
  },
  {
   "cell_type": "code",
   "execution_count": null,
   "id": "48d396ef",
   "metadata": {},
   "outputs": [],
   "source": [
    "with open('BA-multipleShapes.pkl','rb') as fin:\n",
    "    (adjs, feas, labels) = pkl.load(fin)"
   ]
  },
  {
   "cell_type": "code",
   "execution_count": null,
   "id": "63915ae2",
   "metadata": {},
   "outputs": [],
   "source": []
  },
  {
   "cell_type": "code",
   "execution_count": null,
   "id": "c67a6a75",
   "metadata": {},
   "outputs": [],
   "source": [
    "new_adjs = []\n",
    "new_x = []\n",
    "for adj in adjs:\n",
    "    g = nx.from_numpy_array(adj)\n",
    "    neig_deg = nx.average_neighbor_degree(g)\n",
    "    close = nx.closeness_centrality(g)\n",
    "    betwe = nx.betweenness_centrality(g)\n",
    "    clust = nx.clustering(g)\n",
    "    #eig = nx.eigenvector_centrality(g)\n",
    "    for i in g.nodes():\n",
    "        \n",
    "        #w = [clust[i]]#,eig[i]]\n",
    "        w = [nx.degree(g,i),neig_deg[i],close[i],betwe[i]]#,clust[i]]#,eig[i]]\n",
    "        g.nodes()[i][\"x\"]=w\n",
    "        \n",
    "        \n",
    "    adj = nx.adjacency_matrix(g).A\n",
    "    x = np.array(list(nx.get_node_attributes(g,\"x\").values()))\n",
    "    \n",
    "    new_adjs.append(adj)\n",
    "    new_x.append(x)"
   ]
  },
  {
   "cell_type": "code",
   "execution_count": null,
   "id": "049db887",
   "metadata": {},
   "outputs": [],
   "source": []
  },
  {
   "cell_type": "code",
   "execution_count": null,
   "id": "6acba03a",
   "metadata": {},
   "outputs": [],
   "source": [
    "f = open('BA-multipleShapes-nodeFeatures.pkl','wb')\n",
    "pkl.dump((new_adjs,new_x,labels),f)\n",
    "f.close()"
   ]
  },
  {
   "cell_type": "code",
   "execution_count": null,
   "id": "0516ebc5",
   "metadata": {},
   "outputs": [],
   "source": []
  },
  {
   "cell_type": "code",
   "execution_count": null,
   "id": "3285223f",
   "metadata": {},
   "outputs": [],
   "source": []
  },
  {
   "cell_type": "markdown",
   "id": "8ddcbda9",
   "metadata": {},
   "source": [
    "# syntetic node color"
   ]
  },
  {
   "cell_type": "code",
   "execution_count": null,
   "id": "1044735c",
   "metadata": {},
   "outputs": [],
   "source": [
    "def gen_grid_with_colors(colors,m):\n",
    "    g2 = lattice.grid_2d_graph(3,3)\n",
    "    mapping = {}\n",
    "    for n in g2.nodes():\n",
    "        mapping[n] = m\n",
    "        m = m + 1 \n",
    "        if n == (1, 1):\n",
    "            g2.nodes()[n][\"color\"] = colors[0]\n",
    "        else:\n",
    "            g2.nodes()[n][\"color\"] = colors[1]\n",
    "            \n",
    "        g2 = nx.relabel_nodes(g2, mapping)\n",
    "        \n",
    "    return g2\n"
   ]
  },
  {
   "cell_type": "code",
   "execution_count": null,
   "id": "c6d93c4d",
   "metadata": {},
   "outputs": [],
   "source": [
    "colors = [[1,0,0],[0,1,0],[0,0,1]]\n"
   ]
  },
  {
   "cell_type": "code",
   "execution_count": null,
   "id": "1128fc6c",
   "metadata": {},
   "outputs": [],
   "source": []
  },
  {
   "cell_type": "code",
   "execution_count": null,
   "id": "e07fca96",
   "metadata": {},
   "outputs": [],
   "source": [
    "def ba_grid_color_1(n,colors):\n",
    "    g1 = nx.barabasi_albert_graph(n,1)\n",
    "    for i in g1.nodes():\n",
    "        r = np.random.randint(0,len(colors))\n",
    "        g1.nodes()[i][\"color\"] = colors[r]\n",
    "\n",
    "    g2 = gen_grid_with_colors(colors,max(g1.nodes())+1)\n",
    "    g12 = nx.compose(g1,g2)\n",
    "    random_node_g1 = np.random.randint(0,max(g1.nodes()))\n",
    "    random_node_g2 = np.random.randint(min(g2.nodes()),max(g2.nodes())+1)\n",
    "    g12.add_edge(random_node_g1,random_node_g2)\n",
    "    return g12\n",
    "\n",
    "def ba_grid_color_0(n,colors):\n",
    "    g1 = nx.barabasi_albert_graph(n,1)\n",
    "    g2 = gen_grid_with_colors(colors,max(g1.nodes())+1)\n",
    "    g12 = nx.compose(g1,g2)\n",
    "    random_node_g1 = np.random.randint(0,max(g1.nodes()))\n",
    "    random_node_g2 = np.random.randint(min(g2.nodes()),max(g2.nodes())+1)\n",
    "    g12.add_edge(random_node_g1,random_node_g2)\n",
    "    for i in g12.nodes():\n",
    "        r = np.random.randint(0,len(colors))\n",
    "        g12.nodes()[i][\"color\"] = colors[r]\n",
    "\n",
    "    return g12"
   ]
  },
  {
   "cell_type": "code",
   "execution_count": null,
   "id": "bf5eaef8",
   "metadata": {},
   "outputs": [],
   "source": [
    "\n",
    "adjs = []\n",
    "xs = []\n",
    "labels = []\n",
    "\n",
    "for i in range(500):\n",
    "    g1 = ba_grid_color_0(20,colors)\n",
    "    adj = nx.adjacency_matrix(g1).A\n",
    "    adjs.append(adj)\n",
    "    x = np.array(list(nx.get_node_attributes(g1,\"color\").values()))\n",
    "    xs.append(x)\n",
    "    labels.append(0)\n",
    "    \n",
    "for i in range(500):\n",
    "    g1 = ba_grid_color_1(20,colors)\n",
    "    adj = nx.adjacency_matrix(g1).A\n",
    "    adjs.append(adj)\n",
    "    x = np.array(list(nx.get_node_attributes(g1,\"color\").values()))\n",
    "    xs.append(x)\n",
    "    labels.append(1)"
   ]
  },
  {
   "cell_type": "code",
   "execution_count": null,
   "id": "46c9c959",
   "metadata": {},
   "outputs": [],
   "source": [
    "f = open('BA-2grid-color.pkl','wb')\n",
    "pkl.dump((adjs,xs,labels),f)\n",
    "f.close()"
   ]
  },
  {
   "cell_type": "code",
   "execution_count": null,
   "id": "95755d40",
   "metadata": {},
   "outputs": [],
   "source": []
  },
  {
   "cell_type": "code",
   "execution_count": null,
   "id": "cba3bc35",
   "metadata": {},
   "outputs": [],
   "source": []
  },
  {
   "cell_type": "code",
   "execution_count": null,
   "id": "d5ca2812",
   "metadata": {},
   "outputs": [],
   "source": []
  },
  {
   "cell_type": "code",
   "execution_count": null,
   "id": "22474608",
   "metadata": {},
   "outputs": [],
   "source": []
  },
  {
   "cell_type": "code",
   "execution_count": null,
   "id": "2ca9bcad",
   "metadata": {},
   "outputs": [],
   "source": []
  },
  {
   "cell_type": "code",
   "execution_count": null,
   "id": "a749d62b",
   "metadata": {},
   "outputs": [],
   "source": []
  },
  {
   "cell_type": "code",
   "execution_count": null,
   "id": "9d1fa3f5",
   "metadata": {},
   "outputs": [],
   "source": []
  },
  {
   "cell_type": "code",
   "execution_count": null,
   "id": "12d32fd7",
   "metadata": {},
   "outputs": [],
   "source": []
  },
  {
   "cell_type": "code",
   "execution_count": null,
   "id": "5264a780",
   "metadata": {},
   "outputs": [],
   "source": []
  },
  {
   "cell_type": "code",
   "execution_count": null,
   "id": "9f280d7d",
   "metadata": {},
   "outputs": [],
   "source": [
    "# Multishapes complex\n",
    "\n",
    "# A = house\n",
    "# B = wheel\n",
    "# C = gird\n",
    "\n",
    "# Class 1 = BA + [(A & B) | (A & C) | (B & C)]\n",
    "# Class 2 = BA + [A | B | C]\n",
    "\n",
    "from networkx.generators import random_graphs, lattice, small, classic\n",
    "from networkx.algorithms.operators.binary import compose, union"
   ]
  },
  {
   "cell_type": "code",
   "execution_count": null,
   "id": "b75346b1",
   "metadata": {},
   "outputs": [],
   "source": [
    "m = 6\n",
    "n = np.random.randint(25,29)\n",
    "\n",
    "\n",
    "np.random.default_rng(42)\n",
    "p2 = np.random.randint(3)\n",
    "p2 = 1\n",
    "# generate random BA graph\n",
    "\n",
    "g1 = random_graphs.barabasi_albert_graph(20, m)\n",
    "label = 0\n",
    "# generate a small graph with known structure\n",
    "if p2 == 0:\n",
    "    A = lattice.grid_2d_graph(3, 3)\n",
    "    B = small.house_graph()\n",
    "    g2 = union(A,B)\n",
    "    \n",
    "elif p2 == 1:\n",
    "    A = lattice.grid_2d_graph(3, 3)\n",
    "    C = classic.wheel_graph(m)\n",
    "    g2 = union(A,C)\n",
    "else:\n",
    "    B = small.house_graph()\n",
    "    C = classic.wheel_graph(m)\n",
    "    g2 = union(B,C)\n",
    "\n",
    "a2 = nx.to_numpy_array(g2)\n",
    "a2[len(g2) - 1, len(g2) + 1] = 1\n",
    "g2 = nx.from_numpy_array(a2)\n",
    "\n",
    "# merge the two graphs\n",
    "g12 = union(g1, g2, rename=('G1', 'G2'))\n",
    "\n",
    "a12 = nx.to_numpy_array(g12)\n",
    "a12[len(g1) - 1, len(g1) + 1] = 1\n",
    "g12 = nx.from_numpy_array(a12)\n",
    "g1 = g12\n",
    "label = 1\n"
   ]
  },
  {
   "cell_type": "code",
   "execution_count": null,
   "id": "1aad25be",
   "metadata": {},
   "outputs": [],
   "source": [
    "nx.draw(g1,node_size=10)"
   ]
  },
  {
   "cell_type": "code",
   "execution_count": null,
   "id": "81ac55dc",
   "metadata": {},
   "outputs": [],
   "source": []
  }
 ],
 "metadata": {
  "kernelspec": {
   "display_name": "Python 3 (ipykernel)",
   "language": "python",
   "name": "python3"
  },
  "language_info": {
   "codemirror_mode": {
    "name": "ipython",
    "version": 3
   },
   "file_extension": ".py",
   "mimetype": "text/x-python",
   "name": "python",
   "nbconvert_exporter": "python",
   "pygments_lexer": "ipython3",
   "version": "3.9.12"
  }
 },
 "nbformat": 4,
 "nbformat_minor": 5
}
