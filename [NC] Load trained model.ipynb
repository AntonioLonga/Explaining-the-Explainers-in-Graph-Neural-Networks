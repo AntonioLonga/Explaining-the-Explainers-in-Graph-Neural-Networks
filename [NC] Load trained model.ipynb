{
 "cells": [
  {
   "cell_type": "markdown",
   "id": "fd324b6c",
   "metadata": {},
   "source": [
    "# Load a model\n",
    "\n",
    "This notebook is a mere adaptation of **[GC] Load trained model** to the task of node classification.\n"
   ]
  },
  {
   "cell_type": "code",
   "execution_count": 1,
   "id": "eede3fe6",
   "metadata": {},
   "outputs": [],
   "source": [
    "import torch \n",
    "import random\n",
    "import numpy as np\n",
    "\n",
    "def set_seeds():\n",
    "    random.seed(42)\n",
    "    np.random.seed(42)\n",
    "    torch.manual_seed(42)"
   ]
  },
  {
   "cell_type": "code",
   "execution_count": 8,
   "id": "ff519fe9",
   "metadata": {},
   "outputs": [],
   "source": [
    "MODEL = \"GraphSAGE\"\n",
    "DATASET = \"BAShapes\"\n",
    "path = \"models/\"+DATASET+\"_\"+MODEL\n",
    "\n",
    "# import the model\n",
    "from models.models_BAShapes import GraphSAGE_framework as framework\n",
    "# import the dataset\n",
    "from torch_geometric.datasets import BAShapes"
   ]
  },
  {
   "cell_type": "code",
   "execution_count": 9,
   "id": "851de2e8",
   "metadata": {},
   "outputs": [
    {
     "data": {
      "text/plain": [
       "(Net(\n",
       "   (conv1): SAGEConv(10, 30)\n",
       "   (conv2): SAGEConv(30, 30)\n",
       "   (lin1): Linear(in_features=30, out_features=4, bias=True)\n",
       " ),\n",
       " Data(x=[700, 10], edge_index=[2, 3958], y=[700], expl_mask=[700], edge_label=[3958], train_mask=[700], test_mask=[700]))"
      ]
     },
     "execution_count": 9,
     "metadata": {},
     "output_type": "execute_result"
    }
   ],
   "source": [
    "set_seeds()\n",
    "\n",
    "dataset = BAShapes()\n",
    "dataset.data.x = dataset.data.x.float()\n",
    "\n",
    "gnn = framework(dataset, device=\"cpu\")\n",
    "gnn.model , dataset.data"
   ]
  },
  {
   "cell_type": "code",
   "execution_count": 10,
   "id": "a1c6bf68",
   "metadata": {},
   "outputs": [
    {
     "name": "stdout",
     "output_type": "stream",
     "text": [
      "Test Loss: 0.000, Train Acc: 1.000 Test Acc: 1.000\n"
     ]
    }
   ],
   "source": [
    "gnn.load_model(path)\n",
    "gnn.evaluate()"
   ]
  },
  {
   "cell_type": "code",
   "execution_count": null,
   "id": "239cabfc",
   "metadata": {},
   "outputs": [],
   "source": []
  }
 ],
 "metadata": {
  "kernelspec": {
   "display_name": "Python 3 (ipykernel)",
   "language": "python",
   "name": "python3"
  },
  "language_info": {
   "codemirror_mode": {
    "name": "ipython",
    "version": 3
   },
   "file_extension": ".py",
   "mimetype": "text/x-python",
   "name": "python",
   "nbconvert_exporter": "python",
   "pygments_lexer": "ipython3",
   "version": "3.9.12"
  }
 },
 "nbformat": 4,
 "nbformat_minor": 5
}
